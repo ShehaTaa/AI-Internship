{
 "cells": [
  {
   "cell_type": "code",
   "execution_count": 7,
   "metadata": {
    "_cell_guid": "b1076dfc-b9ad-4769-8c92-a6c4dae69d19",
    "_uuid": "8f2839f25d086af736a60e9eeb907d3b93b6e0e5"
   },
   "outputs": [
    {
     "name": "stdout",
     "output_type": "stream",
     "text": [
      "/kaggle/input/digit-recognizer/sample_submission.csv\n",
      "/kaggle/input/digit-recognizer/test.csv\n",
      "/kaggle/input/digit-recognizer/train.csv\n"
     ]
    }
   ],
   "source": [
    "# This Python 3 environment comes with many helpful analytics libraries installed\n",
    "# It is defined by the kaggle/python Docker image: https://github.com/kaggle/docker-python\n",
    "# For example, here's several helpful packages to load\n",
    "\n",
    "import numpy as np # linear algebra\n",
    "import pandas as pd # data processing, CSV file I/O (e.g. pd.read_csv)\n",
    "\n",
    "# Input data files are available in the read-only \"../input/\" directory\n",
    "# For example, running this (by clicking run or pressing Shift+Enter) will list all files under the input directory\n",
    "\n",
    "import os\n",
    "for dirname, _, filenames in os.walk('/kaggle/input'):\n",
    "    for filename in filenames:\n",
    "        print(os.path.join(dirname, filename))\n",
    "\n",
    "# You can write up to 5GB to the current directory (/kaggle/working/) that gets preserved as output when you create a version using \"Save & Run All\" \n",
    "# You can also write temporary files to /kaggle/temp/, but they won't be saved outside of the current session"
   ]
  },
  {
   "cell_type": "markdown",
   "metadata": {},
   "source": [
    "## import Libraries"
   ]
  },
  {
   "cell_type": "code",
   "execution_count": 2,
   "metadata": {
    "_cell_guid": "79c7e3d0-c299-4dcb-8224-4455121ee9b0",
    "_uuid": "d629ff2d2480ee46fbb7e2d37f6b5fab8052498a"
   },
   "outputs": [
    {
     "name": "stderr",
     "output_type": "stream",
     "text": [
      "Using TensorFlow backend.\n"
     ]
    }
   ],
   "source": [
    "import matplotlib.pyplot as plt\n",
    "import matplotlib.image as mpimg\n",
    "import seaborn as sns\n",
    "import numpy as np\n",
    "%matplotlib inline\n",
    "\n",
    "np.random.seed(2)\n",
    "\n",
    "from sklearn.model_selection import train_test_split\n",
    "from sklearn.metrics import confusion_matrix\n",
    "import itertools\n",
    "\n",
    "from keras.utils.np_utils import to_categorical # convert to one-hot-encoding\n",
    "from keras.models import Sequential\n",
    "from keras.layers import Dense, Dropout, Flatten, Conv2D, MaxPool2D\n",
    "from keras.optimizers import RMSprop, Adam\n",
    "from keras.preprocessing.image import ImageDataGenerator"
   ]
  },
  {
   "cell_type": "markdown",
   "metadata": {},
   "source": [
    "## 1 - Data preparation"
   ]
  },
  {
   "cell_type": "markdown",
   "metadata": {},
   "source": [
    "### 1.1 - Load Data"
   ]
  },
  {
   "cell_type": "code",
   "execution_count": 9,
   "metadata": {},
   "outputs": [],
   "source": [
    "# Load the data\n",
    "train_data = pd.read_csv(\"/kaggle/input/digit-recognizer/train.csv\")\n",
    "test_data = pd.read_csv(\"/kaggle/input/digit-recognizer/test.csv\")"
   ]
  },
  {
   "cell_type": "code",
   "execution_count": 10,
   "metadata": {},
   "outputs": [
    {
     "data": {
      "text/plain": [
       "1    4684\n",
       "7    4401\n",
       "3    4351\n",
       "9    4188\n",
       "2    4177\n",
       "6    4137\n",
       "0    4132\n",
       "4    4072\n",
       "8    4063\n",
       "5    3795\n",
       "Name: label, dtype: int64"
      ]
     },
     "execution_count": 10,
     "metadata": {},
     "output_type": "execute_result"
    },
    {
     "data": {
      "image/png": "[encoded data removed]",
      "text/plain": [
       "<Figure size 432x288 with 1 Axes>"
      ]
     },
     "metadata": {
      "needs_background": "light"
     },
     "output_type": "display_data"
    }
   ],
   "source": [
    "Y_train = train_data[\"label\"]\n",
    "\n",
    "# Drop 'label' column\n",
    "X_train = train_data.drop(labels = [\"label\"],axis = 1) \n",
    "\n",
    "# free some space\n",
    "del train_data \n",
    "\n",
    "g = sns.countplot(Y_train)\n",
    "\n",
    "Y_train.value_counts()"
   ]
  },
  {
   "cell_type": "markdown",
   "metadata": {},
   "source": [
    "### 1.2 - Check for null and missing values"
   ]
  },
  {
   "cell_type": "code",
   "execution_count": 11,
   "metadata": {},
   "outputs": [
    {
     "data": {
      "text/plain": [
       "count       784\n",
       "unique        1\n",
       "top       False\n",
       "freq        784\n",
       "dtype: object"
      ]
     },
     "execution_count": 11,
     "metadata": {},
     "output_type": "execute_result"
    }
   ],
   "source": [
    "# Check the data\n",
    "X_train.isnull().any().describe()"
   ]
  },
  {
   "cell_type": "code",
   "execution_count": 12,
   "metadata": {},
   "outputs": [
    {
     "data": {
      "text/plain": [
       "count       784\n",
       "unique        1\n",
       "top       False\n",
       "freq        784\n",
       "dtype: object"
      ]
     },
     "execution_count": 12,
     "metadata": {},
     "output_type": "execute_result"
    }
   ],
   "source": [
    "test_data.isnull().any().describe()"
   ]
  },
  {
   "cell_type": "markdown",
   "metadata": {},
   "source": [
    "### 1.3 - Normalization"
   ]
  },
  {
   "cell_type": "code",
   "execution_count": 13,
   "metadata": {},
   "outputs": [],
   "source": [
    "# Normalize the data\n",
    "X_train = X_train / 255.0\n",
    "test_data = test_data / 255.0"
   ]
  },
  {
   "cell_type": "markdown",
   "metadata": {},
   "source": [
    "### 1.4 - Reshape"
   ]
  },
  {
   "cell_type": "code",
   "execution_count": 14,
   "metadata": {},
   "outputs": [],
   "source": [
    "# Reshape image in 3 dimensions (height = 28px, width = 28px , canal = 1)\n",
    "X_train = X_train.values.reshape(-1,28,28,1)\n",
    "test_data = test_data.values.reshape(-1,28,28,1)"
   ]
  },
  {
   "cell_type": "markdown",
   "metadata": {},
   "source": [
    "### 1.5 - Label encoding"
   ]
  },
  {
   "cell_type": "code",
   "execution_count": 15,
   "metadata": {},
   "outputs": [],
   "source": [
    "# Encode labels to one hot vectors (ex : 2 -> [0,0,1,0,0,0,0,0,0,0])\n",
    "Y_train = to_categorical(Y_train, num_classes = 10)"
   ]
  },
  {
   "cell_type": "markdown",
   "metadata": {},
   "source": [
    "### 1.6 - Split training and valdiation set"
   ]
  },
  {
   "cell_type": "code",
   "execution_count": 16,
   "metadata": {},
   "outputs": [],
   "source": [
    "# Set the random seed\n",
    "random_seed = 2"
   ]
  },
  {
   "cell_type": "code",
   "execution_count": 17,
   "metadata": {},
   "outputs": [],
   "source": [
    "# Split the train and the validation set for the fitting\n",
    "X_train, X_val, Y_train, Y_val = train_test_split(X_train, Y_train, test_size = 0.2, random_state=random_seed)"
   ]
  },
  {
   "cell_type": "code",
   "execution_count": 18,
   "metadata": {},
   "outputs": [
    {
     "data": {
      "image/png": "[encoded data removed]",
      "text/plain": [
       "<Figure size 432x288 with 1 Axes>"
      ]
     },
     "metadata": {
      "needs_background": "light"
     },
     "output_type": "display_data"
    }
   ],
   "source": [
    "# Some examples\n",
    "g = plt.imshow(X_train[0][:,:,0])"
   ]
  },
  {
   "cell_type": "markdown",
   "metadata": {},
   "source": [
    "## 2 - Define the Neural Network"
   ]
  },
  {
   "cell_type": "markdown",
   "metadata": {},
   "source": [
    "### 2.1 - Build the model"
   ]
  },
  {
   "cell_type": "code",
   "execution_count": 19,
   "metadata": {},
   "outputs": [],
   "source": [
    "# Set the CNN model \n",
    "# my CNN architechture is In -> [[Conv2D->relu]*2 -> MaxPool2D -> Dropout]*2 -> Flatten -> Dense -> Dropout -> Out\n",
    "\n",
    "model = Sequential()\n",
    "\n",
    "model.add(Conv2D(filters = 32, kernel_size = (3,3),padding = 'Same', \n",
    "                 activation ='relu', input_shape = (28,28,1)))\n",
    "model.add(Conv2D(filters = 32, kernel_size = (3,3),padding = 'Same', \n",
    "                 activation ='relu'))\n",
    "model.add(MaxPool2D(pool_size=(2,2)))\n",
    "model.add(Dropout(0.25))\n",
    "\n",
    "\n",
    "model.add(Conv2D(filters = 64, kernel_size = (3,3),padding = 'Same', \n",
    "                 activation ='relu'))\n",
    "model.add(Conv2D(filters = 64, kernel_size = (3,3),padding = 'Same', \n",
    "                 activation ='relu'))\n",
    "model.add(MaxPool2D(pool_size=(2,2), strides=(2,2)))\n",
    "model.add(Dropout(0.25))\n",
    "\n",
    "\n",
    "model.add(Flatten())\n",
    "model.add(Dense(256, activation = \"relu\"))\n",
    "model.add(Dropout(0.5))\n",
    "model.add(Dense(10, activation = \"softmax\"))"
   ]
  },
  {
   "cell_type": "code",
   "execution_count": 20,
   "metadata": {},
   "outputs": [
    {
     "name": "stdout",
     "output_type": "stream",
     "text": [
      "Model: \"sequential\"\n",
      "_________________________________________________________________\n",
      "Layer (type)                 Output Shape              Param #   \n",
      "=================================================================\n",
      "conv2d (Conv2D)              (None, 28, 28, 32)        320       \n",
      "_________________________________________________________________\n",
      "conv2d_1 (Conv2D)            (None, 28, 28, 32)        9248      \n",
      "_________________________________________________________________\n",
      "max_pooling2d (MaxPooling2D) (None, 14, 14, 32)        0         \n",
      "_________________________________________________________________\n",
      "dropout (Dropout)            (None, 14, 14, 32)        0         \n",
      "_________________________________________________________________\n",
      "conv2d_2 (Conv2D)            (None, 14, 14, 64)        18496     \n",
      "_________________________________________________________________\n",
      "conv2d_3 (Conv2D)            (None, 14, 14, 64)        36928     \n",
      "_________________________________________________________________\n",
      "max_pooling2d_1 (MaxPooling2 (None, 7, 7, 64)          0         \n",
      "_________________________________________________________________\n",
      "dropout_1 (Dropout)          (None, 7, 7, 64)          0         \n",
      "_________________________________________________________________\n",
      "flatten (Flatten)            (None, 3136)              0         \n",
      "_________________________________________________________________\n",
      "dense (Dense)                (None, 256)               803072    \n",
      "_________________________________________________________________\n",
      "dropout_2 (Dropout)          (None, 256)               0         \n",
      "_________________________________________________________________\n",
      "dense_1 (Dense)              (None, 10)                2570      \n",
      "=================================================================\n",
      "Total params: 870,634\n",
      "Trainable params: 870,634\n",
      "Non-trainable params: 0\n",
      "_________________________________________________________________\n"
     ]
    }
   ],
   "source": [
    "model.summary()"
   ]
  },
  {
   "cell_type": "markdown",
   "metadata": {},
   "source": [
    "### 2.2 - Set the optimizer "
   ]
  },
  {
   "cell_type": "code",
   "execution_count": 21,
   "metadata": {},
   "outputs": [],
   "source": [
    "# Define the optimizer\n",
    "optimizer = RMSprop(lr=0.001, rho=0.9, epsilon=1e-08, decay=0.0)"
   ]
  },
  {
   "cell_type": "code",
   "execution_count": 22,
   "metadata": {},
   "outputs": [],
   "source": [
    "# Compile the model\n",
    "model.compile(optimizer = optimizer , loss = \"categorical_crossentropy\", metrics=[\"accuracy\"])"
   ]
  },
  {
   "cell_type": "code",
   "execution_count": 23,
   "metadata": {},
   "outputs": [],
   "source": [
    "epochs = 50 \n",
    "batch_size = 64"
   ]
  },
  {
   "cell_type": "markdown",
   "metadata": {},
   "source": [
    "### 2.3 - Data Augmentation"
   ]
  },
  {
   "cell_type": "code",
   "execution_count": 24,
   "metadata": {},
   "outputs": [],
   "source": [
    "# Data augmentation to prevent overfitting \n",
    "\n",
    "datagen = ImageDataGenerator(\n",
    "        rotation_range = 10,  # randomly rotate images in the range (degrees, 0 to 180)\n",
    "        zoom_range = 0.1, # Randomly zoom image \n",
    "        width_shift_range = 0.1,  # randomly shift images horizontally (fraction of total width)\n",
    "        height_shift_range = 0.1,  # randomly shift images vertically (fraction of total height)\n",
    "        horizontal_flip = False,  # randomly flip images\n",
    "        vertical_flip = False)  # randomly flip images\n",
    "\n",
    "datagen.fit(X_train)"
   ]
  },
  {
   "cell_type": "code",
   "execution_count": 25,
   "metadata": {},
   "outputs": [
    {
     "name": "stdout",
     "output_type": "stream",
     "text": [
      "Epoch 1/50\n",
      "525/525 - 13s - loss: 0.4162 - accuracy: 0.8666 - val_loss: 0.0741 - val_accuracy: 0.9761\n",
      "Epoch 2/50\n",
      "525/525 - 12s - loss: 0.1326 - accuracy: 0.9609 - val_loss: 0.0422 - val_accuracy: 0.9860\n",
      "Epoch 3/50\n",
      "525/525 - 12s - loss: 0.0982 - accuracy: 0.9702 - val_loss: 0.0420 - val_accuracy: 0.9871\n",
      "Epoch 4/50\n",
      "525/525 - 13s - loss: 0.0863 - accuracy: 0.9751 - val_loss: 0.0407 - val_accuracy: 0.9874\n",
      "Epoch 5/50\n",
      "525/525 - 12s - loss: 0.0772 - accuracy: 0.9776 - val_loss: 0.0450 - val_accuracy: 0.9874\n",
      "Epoch 6/50\n",
      "525/525 - 12s - loss: 0.0690 - accuracy: 0.9795 - val_loss: 0.0279 - val_accuracy: 0.9921\n",
      "Epoch 7/50\n",
      "525/525 - 12s - loss: 0.0663 - accuracy: 0.9810 - val_loss: 0.0316 - val_accuracy: 0.9900\n",
      "Epoch 8/50\n",
      "525/525 - 13s - loss: 0.0646 - accuracy: 0.9819 - val_loss: 0.0409 - val_accuracy: 0.9888\n",
      "Epoch 9/50\n",
      "525/525 - 13s - loss: 0.0616 - accuracy: 0.9829 - val_loss: 0.0301 - val_accuracy: 0.9919\n",
      "Epoch 10/50\n",
      "525/525 - 12s - loss: 0.0635 - accuracy: 0.9825 - val_loss: 0.0258 - val_accuracy: 0.9923\n",
      "Epoch 11/50\n",
      "525/525 - 12s - loss: 0.0644 - accuracy: 0.9824 - val_loss: 0.0290 - val_accuracy: 0.9918\n",
      "Epoch 12/50\n",
      "525/525 - 12s - loss: 0.0630 - accuracy: 0.9820 - val_loss: 0.0301 - val_accuracy: 0.9920\n",
      "Epoch 13/50\n",
      "525/525 - 13s - loss: 0.0639 - accuracy: 0.9827 - val_loss: 0.0475 - val_accuracy: 0.9875\n",
      "Epoch 14/50\n",
      "525/525 - 13s - loss: 0.0686 - accuracy: 0.9817 - val_loss: 0.0312 - val_accuracy: 0.9914\n",
      "Epoch 15/50\n",
      "525/525 - 12s - loss: 0.0663 - accuracy: 0.9815 - val_loss: 0.0305 - val_accuracy: 0.9911\n",
      "Epoch 16/50\n",
      "525/525 - 12s - loss: 0.0678 - accuracy: 0.9825 - val_loss: 0.0257 - val_accuracy: 0.9932\n",
      "Epoch 17/50\n",
      "525/525 - 12s - loss: 0.0700 - accuracy: 0.9822 - val_loss: 0.0425 - val_accuracy: 0.9895\n",
      "Epoch 18/50\n",
      "525/525 - 13s - loss: 0.0647 - accuracy: 0.9823 - val_loss: 0.0312 - val_accuracy: 0.9920\n",
      "Epoch 19/50\n",
      "525/525 - 12s - loss: 0.0701 - accuracy: 0.9824 - val_loss: 0.0346 - val_accuracy: 0.9914\n",
      "Epoch 20/50\n",
      "525/525 - 12s - loss: 0.0766 - accuracy: 0.9810 - val_loss: 0.0327 - val_accuracy: 0.9927\n",
      "Epoch 21/50\n",
      "525/525 - 12s - loss: 0.0751 - accuracy: 0.9808 - val_loss: 0.0517 - val_accuracy: 0.9889\n",
      "Epoch 22/50\n",
      "525/525 - 12s - loss: 0.0749 - accuracy: 0.9808 - val_loss: 0.0402 - val_accuracy: 0.9905\n",
      "Epoch 23/50\n",
      "525/525 - 13s - loss: 0.0763 - accuracy: 0.9809 - val_loss: 0.0460 - val_accuracy: 0.9883\n",
      "Epoch 24/50\n",
      "525/525 - 12s - loss: 0.0751 - accuracy: 0.9808 - val_loss: 0.0333 - val_accuracy: 0.9920\n",
      "Epoch 25/50\n",
      "525/525 - 12s - loss: 0.0785 - accuracy: 0.9801 - val_loss: 0.0767 - val_accuracy: 0.9869\n",
      "Epoch 26/50\n",
      "525/525 - 12s - loss: 0.0825 - accuracy: 0.9793 - val_loss: 0.0365 - val_accuracy: 0.9914\n",
      "Epoch 27/50\n",
      "525/525 - 12s - loss: 0.0806 - accuracy: 0.9804 - val_loss: 0.0486 - val_accuracy: 0.9913\n",
      "Epoch 28/50\n",
      "525/525 - 13s - loss: 0.0815 - accuracy: 0.9798 - val_loss: 0.0489 - val_accuracy: 0.9902\n",
      "Epoch 29/50\n",
      "525/525 - 12s - loss: 0.0799 - accuracy: 0.9789 - val_loss: 0.0513 - val_accuracy: 0.9900\n",
      "Epoch 30/50\n",
      "525/525 - 12s - loss: 0.0872 - accuracy: 0.9779 - val_loss: 0.0512 - val_accuracy: 0.9888\n",
      "Epoch 31/50\n",
      "525/525 - 12s - loss: 0.0823 - accuracy: 0.9799 - val_loss: 0.0698 - val_accuracy: 0.9871\n",
      "Epoch 32/50\n",
      "525/525 - 12s - loss: 0.0864 - accuracy: 0.9792 - val_loss: 0.0800 - val_accuracy: 0.9880\n",
      "Epoch 33/50\n",
      "525/525 - 13s - loss: 0.0897 - accuracy: 0.9783 - val_loss: 0.0660 - val_accuracy: 0.9879\n",
      "Epoch 34/50\n",
      "525/525 - 12s - loss: 0.0879 - accuracy: 0.9789 - val_loss: 0.0385 - val_accuracy: 0.9899\n",
      "Epoch 35/50\n",
      "525/525 - 12s - loss: 0.0871 - accuracy: 0.9779 - val_loss: 0.0398 - val_accuracy: 0.9918\n",
      "Epoch 36/50\n",
      "525/525 - 12s - loss: 0.0932 - accuracy: 0.9784 - val_loss: 0.0432 - val_accuracy: 0.9910\n",
      "Epoch 37/50\n",
      "525/525 - 12s - loss: 0.0882 - accuracy: 0.9781 - val_loss: 0.0340 - val_accuracy: 0.9890\n",
      "Epoch 38/50\n",
      "525/525 - 13s - loss: 0.0939 - accuracy: 0.9777 - val_loss: 0.0447 - val_accuracy: 0.9914\n",
      "Epoch 39/50\n",
      "525/525 - 12s - loss: 0.0980 - accuracy: 0.9774 - val_loss: 0.0727 - val_accuracy: 0.9875\n",
      "Epoch 40/50\n",
      "525/525 - 12s - loss: 0.1033 - accuracy: 0.9768 - val_loss: 0.0562 - val_accuracy: 0.9900\n",
      "Epoch 41/50\n",
      "525/525 - 12s - loss: 0.0905 - accuracy: 0.9788 - val_loss: 0.0600 - val_accuracy: 0.9899\n",
      "Epoch 42/50\n",
      "525/525 - 12s - loss: 0.0997 - accuracy: 0.9760 - val_loss: 0.0436 - val_accuracy: 0.9896\n",
      "Epoch 43/50\n",
      "525/525 - 13s - loss: 0.0980 - accuracy: 0.9770 - val_loss: 0.0752 - val_accuracy: 0.9896\n",
      "Epoch 44/50\n",
      "525/525 - 12s - loss: 0.1098 - accuracy: 0.9750 - val_loss: 0.1156 - val_accuracy: 0.9896\n",
      "Epoch 45/50\n",
      "525/525 - 12s - loss: 0.1085 - accuracy: 0.9757 - val_loss: 0.1309 - val_accuracy: 0.9888\n",
      "Epoch 46/50\n",
      "525/525 - 12s - loss: 0.1103 - accuracy: 0.9751 - val_loss: 0.0674 - val_accuracy: 0.9894\n",
      "Epoch 47/50\n",
      "525/525 - 12s - loss: 0.1074 - accuracy: 0.9755 - val_loss: 0.1231 - val_accuracy: 0.9893\n",
      "Epoch 48/50\n",
      "525/525 - 12s - loss: 0.1076 - accuracy: 0.9749 - val_loss: 0.0348 - val_accuracy: 0.9901\n",
      "Epoch 49/50\n",
      "525/525 - 12s - loss: 0.1078 - accuracy: 0.9762 - val_loss: 0.0516 - val_accuracy: 0.9905\n",
      "Epoch 50/50\n",
      "525/525 - 12s - loss: 0.1073 - accuracy: 0.9756 - val_loss: 0.0857 - val_accuracy: 0.9836\n"
     ]
    }
   ],
   "source": [
    "# Fit the model\n",
    "history = model.fit_generator(datagen.flow(X_train,Y_train, batch_size = batch_size),\n",
    "                              epochs = epochs, validation_data = (X_val,Y_val),\n",
    "                              verbose = 2, steps_per_epoch = X_train.shape[0] // batch_size)"
   ]
  },
  {
   "cell_type": "markdown",
   "metadata": {},
   "source": [
    "## 3 - Evaluate the model"
   ]
  },
  {
   "cell_type": "code",
   "execution_count": 26,
   "metadata": {},
   "outputs": [
    {
     "data": {
      "text/html": [
       "<div>\n",
       "<style scoped>\n",
       "    .dataframe tbody tr th:only-of-type {\n",
       "        vertical-align: middle;\n",
       "    }\n",
       "\n",
       "    .dataframe tbody tr th {\n",
       "        vertical-align: top;\n",
       "    }\n",
       "\n",
       "    .dataframe thead th {\n",
       "        text-align: right;\n",
       "    }\n",
       "</style>\n",
       "<table border=\"1\" class=\"dataframe\">\n",
       "  <thead>\n",
       "    <tr style=\"text-align: right;\">\n",
       "      <th></th>\n",
       "      <th>loss</th>\n",
       "      <th>accuracy</th>\n",
       "      <th>val_loss</th>\n",
       "      <th>val_accuracy</th>\n",
       "    </tr>\n",
       "  </thead>\n",
       "  <tbody>\n",
       "    <tr>\n",
       "      <th>0</th>\n",
       "      <td>0.416228</td>\n",
       "      <td>0.866577</td>\n",
       "      <td>0.074106</td>\n",
       "      <td>0.976071</td>\n",
       "    </tr>\n",
       "    <tr>\n",
       "      <th>1</th>\n",
       "      <td>0.132612</td>\n",
       "      <td>0.960863</td>\n",
       "      <td>0.042246</td>\n",
       "      <td>0.985952</td>\n",
       "    </tr>\n",
       "    <tr>\n",
       "      <th>2</th>\n",
       "      <td>0.098195</td>\n",
       "      <td>0.970208</td>\n",
       "      <td>0.041980</td>\n",
       "      <td>0.987143</td>\n",
       "    </tr>\n",
       "    <tr>\n",
       "      <th>3</th>\n",
       "      <td>0.086313</td>\n",
       "      <td>0.975119</td>\n",
       "      <td>0.040748</td>\n",
       "      <td>0.987381</td>\n",
       "    </tr>\n",
       "    <tr>\n",
       "      <th>4</th>\n",
       "      <td>0.077231</td>\n",
       "      <td>0.977560</td>\n",
       "      <td>0.045016</td>\n",
       "      <td>0.987381</td>\n",
       "    </tr>\n",
       "    <tr>\n",
       "      <th>5</th>\n",
       "      <td>0.069007</td>\n",
       "      <td>0.979524</td>\n",
       "      <td>0.027917</td>\n",
       "      <td>0.992143</td>\n",
       "    </tr>\n",
       "    <tr>\n",
       "      <th>6</th>\n",
       "      <td>0.066341</td>\n",
       "      <td>0.981042</td>\n",
       "      <td>0.031584</td>\n",
       "      <td>0.990000</td>\n",
       "    </tr>\n",
       "    <tr>\n",
       "      <th>7</th>\n",
       "      <td>0.064557</td>\n",
       "      <td>0.981875</td>\n",
       "      <td>0.040949</td>\n",
       "      <td>0.988810</td>\n",
       "    </tr>\n",
       "    <tr>\n",
       "      <th>8</th>\n",
       "      <td>0.061598</td>\n",
       "      <td>0.982857</td>\n",
       "      <td>0.030079</td>\n",
       "      <td>0.991905</td>\n",
       "    </tr>\n",
       "    <tr>\n",
       "      <th>9</th>\n",
       "      <td>0.063515</td>\n",
       "      <td>0.982470</td>\n",
       "      <td>0.025751</td>\n",
       "      <td>0.992262</td>\n",
       "    </tr>\n",
       "    <tr>\n",
       "      <th>10</th>\n",
       "      <td>0.064431</td>\n",
       "      <td>0.982440</td>\n",
       "      <td>0.029009</td>\n",
       "      <td>0.991786</td>\n",
       "    </tr>\n",
       "    <tr>\n",
       "      <th>11</th>\n",
       "      <td>0.062996</td>\n",
       "      <td>0.981964</td>\n",
       "      <td>0.030119</td>\n",
       "      <td>0.992024</td>\n",
       "    </tr>\n",
       "    <tr>\n",
       "      <th>12</th>\n",
       "      <td>0.063916</td>\n",
       "      <td>0.982679</td>\n",
       "      <td>0.047465</td>\n",
       "      <td>0.987500</td>\n",
       "    </tr>\n",
       "    <tr>\n",
       "      <th>13</th>\n",
       "      <td>0.068556</td>\n",
       "      <td>0.981726</td>\n",
       "      <td>0.031167</td>\n",
       "      <td>0.991429</td>\n",
       "    </tr>\n",
       "    <tr>\n",
       "      <th>14</th>\n",
       "      <td>0.066272</td>\n",
       "      <td>0.981518</td>\n",
       "      <td>0.030504</td>\n",
       "      <td>0.991071</td>\n",
       "    </tr>\n",
       "    <tr>\n",
       "      <th>15</th>\n",
       "      <td>0.067791</td>\n",
       "      <td>0.982500</td>\n",
       "      <td>0.025738</td>\n",
       "      <td>0.993214</td>\n",
       "    </tr>\n",
       "    <tr>\n",
       "      <th>16</th>\n",
       "      <td>0.069955</td>\n",
       "      <td>0.982202</td>\n",
       "      <td>0.042488</td>\n",
       "      <td>0.989524</td>\n",
       "    </tr>\n",
       "    <tr>\n",
       "      <th>17</th>\n",
       "      <td>0.064750</td>\n",
       "      <td>0.982292</td>\n",
       "      <td>0.031249</td>\n",
       "      <td>0.992024</td>\n",
       "    </tr>\n",
       "    <tr>\n",
       "      <th>18</th>\n",
       "      <td>0.070068</td>\n",
       "      <td>0.982351</td>\n",
       "      <td>0.034620</td>\n",
       "      <td>0.991429</td>\n",
       "    </tr>\n",
       "    <tr>\n",
       "      <th>19</th>\n",
       "      <td>0.076636</td>\n",
       "      <td>0.981042</td>\n",
       "      <td>0.032704</td>\n",
       "      <td>0.992738</td>\n",
       "    </tr>\n",
       "    <tr>\n",
       "      <th>20</th>\n",
       "      <td>0.075055</td>\n",
       "      <td>0.980774</td>\n",
       "      <td>0.051650</td>\n",
       "      <td>0.988929</td>\n",
       "    </tr>\n",
       "    <tr>\n",
       "      <th>21</th>\n",
       "      <td>0.074894</td>\n",
       "      <td>0.980774</td>\n",
       "      <td>0.040211</td>\n",
       "      <td>0.990476</td>\n",
       "    </tr>\n",
       "    <tr>\n",
       "      <th>22</th>\n",
       "      <td>0.076277</td>\n",
       "      <td>0.980863</td>\n",
       "      <td>0.045957</td>\n",
       "      <td>0.988333</td>\n",
       "    </tr>\n",
       "    <tr>\n",
       "      <th>23</th>\n",
       "      <td>0.075146</td>\n",
       "      <td>0.980833</td>\n",
       "      <td>0.033346</td>\n",
       "      <td>0.992024</td>\n",
       "    </tr>\n",
       "    <tr>\n",
       "      <th>24</th>\n",
       "      <td>0.078518</td>\n",
       "      <td>0.980119</td>\n",
       "      <td>0.076677</td>\n",
       "      <td>0.986905</td>\n",
       "    </tr>\n",
       "    <tr>\n",
       "      <th>25</th>\n",
       "      <td>0.082459</td>\n",
       "      <td>0.979286</td>\n",
       "      <td>0.036499</td>\n",
       "      <td>0.991429</td>\n",
       "    </tr>\n",
       "    <tr>\n",
       "      <th>26</th>\n",
       "      <td>0.080639</td>\n",
       "      <td>0.980446</td>\n",
       "      <td>0.048607</td>\n",
       "      <td>0.991310</td>\n",
       "    </tr>\n",
       "    <tr>\n",
       "      <th>27</th>\n",
       "      <td>0.081468</td>\n",
       "      <td>0.979762</td>\n",
       "      <td>0.048884</td>\n",
       "      <td>0.990238</td>\n",
       "    </tr>\n",
       "    <tr>\n",
       "      <th>28</th>\n",
       "      <td>0.079909</td>\n",
       "      <td>0.978929</td>\n",
       "      <td>0.051307</td>\n",
       "      <td>0.990000</td>\n",
       "    </tr>\n",
       "    <tr>\n",
       "      <th>29</th>\n",
       "      <td>0.087242</td>\n",
       "      <td>0.977917</td>\n",
       "      <td>0.051212</td>\n",
       "      <td>0.988810</td>\n",
       "    </tr>\n",
       "    <tr>\n",
       "      <th>30</th>\n",
       "      <td>0.082259</td>\n",
       "      <td>0.979940</td>\n",
       "      <td>0.069834</td>\n",
       "      <td>0.987143</td>\n",
       "    </tr>\n",
       "    <tr>\n",
       "      <th>31</th>\n",
       "      <td>0.086405</td>\n",
       "      <td>0.979167</td>\n",
       "      <td>0.080048</td>\n",
       "      <td>0.987976</td>\n",
       "    </tr>\n",
       "    <tr>\n",
       "      <th>32</th>\n",
       "      <td>0.089730</td>\n",
       "      <td>0.978304</td>\n",
       "      <td>0.065980</td>\n",
       "      <td>0.987857</td>\n",
       "    </tr>\n",
       "    <tr>\n",
       "      <th>33</th>\n",
       "      <td>0.087906</td>\n",
       "      <td>0.978869</td>\n",
       "      <td>0.038536</td>\n",
       "      <td>0.989881</td>\n",
       "    </tr>\n",
       "    <tr>\n",
       "      <th>34</th>\n",
       "      <td>0.087095</td>\n",
       "      <td>0.977946</td>\n",
       "      <td>0.039771</td>\n",
       "      <td>0.991786</td>\n",
       "    </tr>\n",
       "    <tr>\n",
       "      <th>35</th>\n",
       "      <td>0.093182</td>\n",
       "      <td>0.978423</td>\n",
       "      <td>0.043213</td>\n",
       "      <td>0.990952</td>\n",
       "    </tr>\n",
       "    <tr>\n",
       "      <th>36</th>\n",
       "      <td>0.088196</td>\n",
       "      <td>0.978095</td>\n",
       "      <td>0.034049</td>\n",
       "      <td>0.989048</td>\n",
       "    </tr>\n",
       "    <tr>\n",
       "      <th>37</th>\n",
       "      <td>0.093947</td>\n",
       "      <td>0.977679</td>\n",
       "      <td>0.044663</td>\n",
       "      <td>0.991429</td>\n",
       "    </tr>\n",
       "    <tr>\n",
       "      <th>38</th>\n",
       "      <td>0.098033</td>\n",
       "      <td>0.977381</td>\n",
       "      <td>0.072729</td>\n",
       "      <td>0.987500</td>\n",
       "    </tr>\n",
       "    <tr>\n",
       "      <th>39</th>\n",
       "      <td>0.103299</td>\n",
       "      <td>0.976786</td>\n",
       "      <td>0.056247</td>\n",
       "      <td>0.990000</td>\n",
       "    </tr>\n",
       "    <tr>\n",
       "      <th>40</th>\n",
       "      <td>0.090464</td>\n",
       "      <td>0.978780</td>\n",
       "      <td>0.059954</td>\n",
       "      <td>0.989881</td>\n",
       "    </tr>\n",
       "    <tr>\n",
       "      <th>41</th>\n",
       "      <td>0.099664</td>\n",
       "      <td>0.976042</td>\n",
       "      <td>0.043632</td>\n",
       "      <td>0.989643</td>\n",
       "    </tr>\n",
       "    <tr>\n",
       "      <th>42</th>\n",
       "      <td>0.097976</td>\n",
       "      <td>0.976964</td>\n",
       "      <td>0.075157</td>\n",
       "      <td>0.989643</td>\n",
       "    </tr>\n",
       "    <tr>\n",
       "      <th>43</th>\n",
       "      <td>0.109819</td>\n",
       "      <td>0.974970</td>\n",
       "      <td>0.115630</td>\n",
       "      <td>0.989643</td>\n",
       "    </tr>\n",
       "    <tr>\n",
       "      <th>44</th>\n",
       "      <td>0.108474</td>\n",
       "      <td>0.975655</td>\n",
       "      <td>0.130937</td>\n",
       "      <td>0.988810</td>\n",
       "    </tr>\n",
       "    <tr>\n",
       "      <th>45</th>\n",
       "      <td>0.110267</td>\n",
       "      <td>0.975119</td>\n",
       "      <td>0.067446</td>\n",
       "      <td>0.989405</td>\n",
       "    </tr>\n",
       "    <tr>\n",
       "      <th>46</th>\n",
       "      <td>0.107389</td>\n",
       "      <td>0.975506</td>\n",
       "      <td>0.123131</td>\n",
       "      <td>0.989286</td>\n",
       "    </tr>\n",
       "    <tr>\n",
       "      <th>47</th>\n",
       "      <td>0.107594</td>\n",
       "      <td>0.974940</td>\n",
       "      <td>0.034828</td>\n",
       "      <td>0.990119</td>\n",
       "    </tr>\n",
       "    <tr>\n",
       "      <th>48</th>\n",
       "      <td>0.107833</td>\n",
       "      <td>0.976250</td>\n",
       "      <td>0.051598</td>\n",
       "      <td>0.990476</td>\n",
       "    </tr>\n",
       "    <tr>\n",
       "      <th>49</th>\n",
       "      <td>0.107311</td>\n",
       "      <td>0.975625</td>\n",
       "      <td>0.085748</td>\n",
       "      <td>0.983571</td>\n",
       "    </tr>\n",
       "  </tbody>\n",
       "</table>\n",
       "</div>"
      ],
      "text/plain": [
       "        loss  accuracy  val_loss  val_accuracy\n",
       "0   0.416228  0.866577  0.074106      0.976071\n",
       "1   0.132612  0.960863  0.042246      0.985952\n",
       "2   0.098195  0.970208  0.041980      0.987143\n",
       "3   0.086313  0.975119  0.040748      0.987381\n",
       "4   0.077231  0.977560  0.045016      0.987381\n",
       "5   0.069007  0.979524  0.027917      0.992143\n",
       "6   0.066341  0.981042  0.031584      0.990000\n",
       "7   0.064557  0.981875  0.040949      0.988810\n",
       "8   0.061598  0.982857  0.030079      0.991905\n",
       "9   0.063515  0.982470  0.025751      0.992262\n",
       "10  0.064431  0.982440  0.029009      0.991786\n",
       "11  0.062996  0.981964  0.030119      0.992024\n",
       "12  0.063916  0.982679  0.047465      0.987500\n",
       "13  0.068556  0.981726  0.031167      0.991429\n",
       "14  0.066272  0.981518  0.030504      0.991071\n",
       "15  0.067791  0.982500  0.025738      0.993214\n",
       "16  0.069955  0.982202  0.042488      0.989524\n",
       "17  0.064750  0.982292  0.031249      0.992024\n",
       "18  0.070068  0.982351  0.034620      0.991429\n",
       "19  0.076636  0.981042  0.032704      0.992738\n",
       "20  0.075055  0.980774  0.051650      0.988929\n",
       "21  0.074894  0.980774  0.040211      0.990476\n",
       "22  0.076277  0.980863  0.045957      0.988333\n",
       "23  0.075146  0.980833  0.033346      0.992024\n",
       "24  0.078518  0.980119  0.076677      0.986905\n",
       "25  0.082459  0.979286  0.036499      0.991429\n",
       "26  0.080639  0.980446  0.048607      0.991310\n",
       "27  0.081468  0.979762  0.048884      0.990238\n",
       "28  0.079909  0.978929  0.051307      0.990000\n",
       "29  0.087242  0.977917  0.051212      0.988810\n",
       "30  0.082259  0.979940  0.069834      0.987143\n",
       "31  0.086405  0.979167  0.080048      0.987976\n",
       "32  0.089730  0.978304  0.065980      0.987857\n",
       "33  0.087906  0.978869  0.038536      0.989881\n",
       "34  0.087095  0.977946  0.039771      0.991786\n",
       "35  0.093182  0.978423  0.043213      0.990952\n",
       "36  0.088196  0.978095  0.034049      0.989048\n",
       "37  0.093947  0.977679  0.044663      0.991429\n",
       "38  0.098033  0.977381  0.072729      0.987500\n",
       "39  0.103299  0.976786  0.056247      0.990000\n",
       "40  0.090464  0.978780  0.059954      0.989881\n",
       "41  0.099664  0.976042  0.043632      0.989643\n",
       "42  0.097976  0.976964  0.075157      0.989643\n",
       "43  0.109819  0.974970  0.115630      0.989643\n",
       "44  0.108474  0.975655  0.130937      0.988810\n",
       "45  0.110267  0.975119  0.067446      0.989405\n",
       "46  0.107389  0.975506  0.123131      0.989286\n",
       "47  0.107594  0.974940  0.034828      0.990119\n",
       "48  0.107833  0.976250  0.051598      0.990476\n",
       "49  0.107311  0.975625  0.085748      0.983571"
      ]
     },
     "execution_count": 26,
     "metadata": {},
     "output_type": "execute_result"
    }
   ],
   "source": [
    "metrics = pd.DataFrame(model.history.history)\n",
    "metrics"
   ]
  },
  {
   "cell_type": "markdown",
   "metadata": {},
   "source": [
    "### 3.1 - Training and validation curves"
   ]
  },
  {
   "cell_type": "code",
   "execution_count": 27,
   "metadata": {},
   "outputs": [
    {
     "data": {
      "image/png": "[encoded data removed]",
      "text/plain": [
       "<Figure size 432x288 with 2 Axes>"
      ]
     },
     "metadata": {
      "needs_background": "light"
     },
     "output_type": "display_data"
    }
   ],
   "source": [
    "# Plot the loss and accuracy curves for training and validation \n",
    "fig, ax = plt.subplots(2,1)\n",
    "ax[0].plot(history.history['loss'], color='b', label=\"Training loss\")\n",
    "ax[0].plot(history.history['val_loss'], color='r', label=\"validation loss\",axes =ax[0])\n",
    "legend = ax[0].legend(loc='best', shadow=True)\n",
    "\n",
    "ax[1].plot(history.history['accuracy'], color='b', label=\"Training accuracy\")\n",
    "ax[1].plot(history.history['val_accuracy'], color='r',label=\"Validation accuracy\")\n",
    "legend = ax[1].legend(loc='best', shadow=True)"
   ]
  },
  {
   "cell_type": "code",
   "execution_count": 28,
   "metadata": {},
   "outputs": [
    {
     "name": "stdout",
     "output_type": "stream",
     "text": [
      "training_accuracy 0.9756249785423279\n",
      "validation_accuracy 0.9835714101791382\n"
     ]
    }
   ],
   "source": [
    "print(\"training_accuracy\", history.history['accuracy'][-1])\n",
    "print(\"validation_accuracy\", history.history['val_accuracy'][-1])"
   ]
  },
  {
   "cell_type": "markdown",
   "metadata": {},
   "source": [
    "### 3.2 - Confusion matrix"
   ]
  },
  {
   "cell_type": "code",
   "execution_count": 30,
   "metadata": {},
   "outputs": [
    {
     "data": {
      "image/png": "[encoded data removed]",
      "text/plain": [
       "<Figure size 432x288 with 2 Axes>"
      ]
     },
     "metadata": {
      "needs_background": "light"
     },
     "output_type": "display_data"
    }
   ],
   "source": [
    "# Look at confusion matrix \n",
    "\n",
    "def plot_confusion_matrix(cm, classes,\n",
    "                          normalize=False,\n",
    "                          title='Confusion matrix',\n",
    "                          cmap=plt.cm.Blues):\n",
    "    \"\"\"\n",
    "    This function prints and plots the confusion matrix.\n",
    "    Normalization can be applied by setting `normalize=True`.\n",
    "    \"\"\"\n",
    "    plt.imshow(cm, interpolation='nearest', cmap=cmap)\n",
    "    plt.title(title)\n",
    "    plt.colorbar()\n",
    "    tick_marks = np.arange(len(classes))\n",
    "    plt.xticks(tick_marks, classes, rotation=45)\n",
    "    plt.yticks(tick_marks, classes)\n",
    "\n",
    "    if normalize:\n",
    "        cm = cm.astype('float') / cm.sum(axis=1)[:, np.newaxis]\n",
    "\n",
    "    thresh = cm.max() / 2.\n",
    "    for i, j in itertools.product(range(cm.shape[0]), range(cm.shape[1])):\n",
    "        plt.text(j, i, cm[i, j],\n",
    "                 horizontalalignment=\"center\",\n",
    "                 color=\"white\" if cm[i, j] > thresh else \"black\")\n",
    "\n",
    "    plt.tight_layout()\n",
    "    plt.ylabel('True label')\n",
    "    plt.xlabel('Predicted label')\n",
    "\n",
    "# Predict the values from the validation dataset\n",
    "Y_pred = model.predict(X_val)\n",
    "# Convert predictions classes to one hot vectors \n",
    "Y_pred_classes = np.argmax(Y_pred,axis = 1) \n",
    "# Convert validation observations to one hot vectors\n",
    "Y_true = np.argmax(Y_val,axis = 1) \n",
    "# compute the confusion matrix\n",
    "confusion_mtx = confusion_matrix(Y_true, Y_pred_classes) \n",
    "# plot the confusion matrix\n",
    "plot_confusion_matrix(confusion_mtx, classes = range(10)) "
   ]
  },
  {
   "cell_type": "code",
   "execution_count": 31,
   "metadata": {},
   "outputs": [
    {
     "data": {
      "image/png": "[encoded data removed]",
      "text/plain": [
       "<Figure size 432x288 with 6 Axes>"
      ]
     },
     "metadata": {
      "needs_background": "light"
     },
     "output_type": "display_data"
    }
   ],
   "source": [
    "# Display some error results \n",
    "\n",
    "# Errors are difference between predicted labels and true labels\n",
    "errors = (Y_pred_classes - Y_true != 0)\n",
    "\n",
    "Y_pred_classes_errors = Y_pred_classes[errors]\n",
    "Y_pred_errors = Y_pred[errors]\n",
    "Y_true_errors = Y_true[errors]\n",
    "X_val_errors = X_val[errors]\n",
    "\n",
    "def display_errors(errors_index,img_errors,pred_errors, obs_errors):\n",
    "    \"\"\" This function shows 6 images with their predicted and real labels\"\"\"\n",
    "    n = 0\n",
    "    nrows = 2\n",
    "    ncols = 3\n",
    "    fig, ax = plt.subplots(nrows,ncols,sharex=True,sharey=True)\n",
    "    for row in range(nrows):\n",
    "        for col in range(ncols):\n",
    "            error = errors_index[n]\n",
    "            ax[row,col].imshow((img_errors[error]).reshape((28,28)))\n",
    "            ax[row,col].set_title(\"Predicted label :{}\\nTrue label :{}\".format(pred_errors[error],obs_errors[error]))\n",
    "            n += 1\n",
    "\n",
    "# Probabilities of the wrong predicted numbers\n",
    "Y_pred_errors_prob = np.max(Y_pred_errors,axis = 1)\n",
    "\n",
    "# Predicted probabilities of the true values in the error set\n",
    "true_prob_errors = np.diagonal(np.take(Y_pred_errors, Y_true_errors, axis=1))\n",
    "\n",
    "# Difference between the probability of the predicted label and the true label\n",
    "delta_pred_true_errors = Y_pred_errors_prob - true_prob_errors\n",
    "\n",
    "# Sorted list of the delta prob errors\n",
    "sorted_dela_errors = np.argsort(delta_pred_true_errors)\n",
    "\n",
    "# Top 6 errors \n",
    "most_important_errors = sorted_dela_errors[-6:]\n",
    "\n",
    "# Show the top 6 errors\n",
    "display_errors(most_important_errors, X_val_errors, Y_pred_classes_errors, Y_true_errors)"
   ]
  },
  {
   "cell_type": "code",
   "execution_count": 33,
   "metadata": {},
   "outputs": [
    {
     "name": "stdout",
     "output_type": "stream",
     "text": [
      "Prediction:\n",
      "3\n"
     ]
    },
    {
     "data": {
      "text/plain": [
       "<function matplotlib.pyplot.show(*args, **kw)>"
      ]
     },
     "execution_count": 33,
     "metadata": {},
     "output_type": "execute_result"
    },
    {
     "data": {
      "image/png": "[encoded data removed]",
      "text/plain": [
       "<Figure size 432x288 with 1 Axes>"
      ]
     },
     "metadata": {
      "needs_background": "light"
     },
     "output_type": "display_data"
    }
   ],
   "source": [
    "np.random.seed(22)\n",
    "random_selection = np.random.randint(0,4201,size=1)\n",
    "random_sample = X_val[random_selection]\n",
    "print('Prediction:')\n",
    "print(model.predict_classes(random_sample.reshape(1,28,28,1))[0])\n",
    "plt.imshow(random_sample.reshape(28,28),cmap='binary')\n",
    "plt.show"
   ]
  },
  {
   "cell_type": "code",
   "execution_count": 34,
   "metadata": {},
   "outputs": [
    {
     "name": "stdout",
     "output_type": "stream",
     "text": [
      "Prediction:\n",
      "0\n"
     ]
    },
    {
     "data": {
      "text/plain": [
       "<function matplotlib.pyplot.show(*args, **kw)>"
      ]
     },
     "execution_count": 34,
     "metadata": {},
     "output_type": "execute_result"
    },
    {
     "data": {
      "image/png": "[encoded data removed]",
      "text/plain": [
       "<Figure size 432x288 with 1 Axes>"
      ]
     },
     "metadata": {
      "needs_background": "light"
     },
     "output_type": "display_data"
    }
   ],
   "source": [
    "np.random.seed(20)\n",
    "random_selection=np.random.randint(0,4201,size=1)\n",
    "random_sample = X_val[random_selection]\n",
    "print('Prediction:')\n",
    "print(model.predict_classes(random_sample.reshape(1,28,28,1))[0])\n",
    "plt.imshow(random_sample.reshape(28,28),cmap='binary')\n",
    "plt.show"
   ]
  }
 ],
 "metadata": {
  "kernelspec": {
   "display_name": "Python 3",
   "language": "python",
   "name": "python3"
  },
  "language_info": {
   "codemirror_mode": {
    "name": "ipython",
    "version": 2
   },
   "file_extension": ".py",
   "mimetype": "text/x-python",
   "name": "python",
   "nbconvert_exporter": "python",
   "pygments_lexer": "ipython2",
   "version": "2.7.17"
  }
 },
 "nbformat": 4,
 "nbformat_minor": 4
}
