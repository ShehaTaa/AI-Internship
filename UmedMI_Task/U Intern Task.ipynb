{
 "cells": [
  {
   "cell_type": "markdown",
   "metadata": {},
   "source": [
    "# Part 1 ( Python ):\n"
   ]
  },
  {
   "cell_type": "markdown",
   "metadata": {},
   "source": [
    "### Q1: \n",
    "    Write a program that computes the value of a+aa+aaa+aaaa with a given digit as the value of a. Suppose the following input is supplied to the program: 9 Then, the output should be: 11106"
   ]
  },
  {
   "cell_type": "code",
   "execution_count": 32,
   "metadata": {},
   "outputs": [
    {
     "name": "stdout",
     "output_type": "stream",
     "text": [
      "9\n",
      "11106\n"
     ]
    }
   ],
   "source": [
    "val  = int(raw_input())\n",
    "n1 = int( \"%s\" % val )\n",
    "n2 = int( \"%s%s\" % (val,val) )\n",
    "n3 = int( \"%s%s%s\" % (val,val,val) )\n",
    "n4 = int( \"%s%s%s%s\" % (val,val,val,val) )\n",
    "\n",
    "print(n1 + n2 + n3 + n4)"
   ]
  },
  {
   "cell_type": "markdown",
   "metadata": {},
   "source": [
    "### Q2:\n",
    "    Please write a program to print the running time of execution of \"1+1\" for 100 times.\n"
   ]
  },
  {
   "cell_type": "code",
   "execution_count": 13,
   "metadata": {},
   "outputs": [
    {
     "name": "stdout",
     "output_type": "stream",
     "text": [
      "('Time:', 0.00014901161193847656)\n"
     ]
    }
   ],
   "source": [
    "import timeit\n",
    "\n",
    "start = timeit.default_timer()\n",
    "\n",
    "for i in range(100):\n",
    "    val = 1+1\n",
    "\n",
    "stop = timeit.default_timer()\n",
    "\n",
    "print(\"Time:\", stop - start)  "
   ]
  },
  {
   "cell_type": "markdown",
   "metadata": {},
   "source": [
    "### Q3:\n",
    "    You are required to write a program to sort the (name, age, height) tuples by ascending order where name is string, age and height are numbers. The tuples are input by console. The sort criteria is: 1: Sort based on name; 2: Then sort based on age; 3: Then sort by score. The priority is that name > age > score. If the following tuples are given as input to the program: Tom,19,80 John,20,90 Jony,17,91 Jony,17,93 Json,21,85 Then, the output of the program should be: [('John', '20', '90'), ('Jony', '17', '91'), ('Jony', '17', '93'), ('Json', '21', '85'), ('Tom', '19', '80')]"
   ]
  },
  {
   "cell_type": "code",
   "execution_count": 31,
   "metadata": {},
   "outputs": [
    {
     "name": "stdout",
     "output_type": "stream",
     "text": [
      "[('John', '20', '90'), ('Jony', '17', '91'), ('Jony', '17', '93'), ('Json', '21', '85'), ('Tom', '19', '80')]\n"
     ]
    }
   ],
   "source": [
    "s = 'Tom,19,80 John,20,90 Jony,17,91 Jony,17,93 Json,21,85'\n",
    "\n",
    "lst = [tuple(x.split(',')) for x in s.split()]\n",
    "\n",
    "print(sorted(lst, key=lambda x: (x[0], x[1], x[2])))"
   ]
  },
  {
   "cell_type": "markdown",
   "metadata": {},
   "source": [
    "### Q4:\n",
    "    Write a Python program to count the number of characters (character frequency) in a string.\n",
    "\n",
    "Examble: ('google.com') => {'g': 2, 'o': 3, 'l': 1, 'e': 1, '.': 1, 'c': 1, 'm': 1}"
   ]
  },
  {
   "cell_type": "code",
   "execution_count": 17,
   "metadata": {},
   "outputs": [
    {
     "name": "stdout",
     "output_type": "stream",
     "text": [
      "{'c': 1, 'e': 1, 'g': 2, 'm': 1, 'l': 1, 'o': 3, '.': 1}\n"
     ]
    }
   ],
   "source": [
    "def char_count(test_str):\n",
    "    freq = {}\n",
    "    for ch in test_str:\n",
    "        keys = dict.keys()\n",
    "        if ch in keys:\n",
    "            freq[ch] += 1\n",
    "        else:\n",
    "            freq[ch] = 1\n",
    "    return freq\n",
    "print(char_frequency('google.com'))"
   ]
  },
  {
   "cell_type": "markdown",
   "metadata": {},
   "source": [
    "\n",
    "### Q5:\n",
    "    Write a Python program to add 'ing' at the end of a given string (length should be at least 3). If the given string already ends with 'ing' then add 'ly' instead. If the string length of the given string is less than 3, leave it unchanged.\n",
    "Examble \n",
    "\n",
    "        => ab => ab\n",
    "\n",
    "        => abc => abcing \n",
    "        \n",
    "        => string => stringly"
   ]
  },
  {
   "cell_type": "code",
   "execution_count": 19,
   "metadata": {},
   "outputs": [
    {
     "name": "stdout",
     "output_type": "stream",
     "text": [
      "ab\n",
      "abcing\n",
      "stringly\n"
     ]
    }
   ],
   "source": [
    "def add_string_to_end(test_str):\n",
    "    \n",
    "    length = len(test_str)\n",
    "\n",
    "    if length > 2:\n",
    "        if test_str[-3:] == 'ing':\n",
    "            test_str += 'ly'\n",
    "        else:\n",
    "            test_str += 'ing'\n",
    "\n",
    "    return test_str\n",
    "\n",
    "print(add_string_to_end('ab'))\n",
    "print(add_string_to_end('abc'))\n",
    "print(add_string_to_end('string'))\n"
   ]
  },
  {
   "cell_type": "markdown",
   "metadata": {},
   "source": [
    "### Q6:\n",
    "    Write a Python program to add 5 seconds with the current time.\n",
    "\n",
    "Examble: Current time=> 13:09:38.491219 After 5 seconds => 13:09:43.491219"
   ]
  },
  {
   "cell_type": "code",
   "execution_count": 29,
   "metadata": {},
   "outputs": [
    {
     "name": "stdout",
     "output_type": "stream",
     "text": [
      "17:12:26.116275\n",
      "17:12:31.116275\n"
     ]
    }
   ],
   "source": [
    "import datetime\n",
    "\n",
    "time_now = datetime.datetime.now()\n",
    "time_after_5 = time_now + datetime.timedelta(0,5)\n",
    "\n",
    "print(time_now.time())\n",
    "print(time_after_5.time())"
   ]
  },
  {
   "cell_type": "markdown",
   "metadata": {},
   "source": [
    "### Q7:\n",
    "\n",
    "Please solve this problem and write your code here?\n",
    "\n",
    "https://www.hackerrank.com/challenges/np-polynomials/problem"
   ]
  },
  {
   "cell_type": "code",
   "execution_count": null,
   "metadata": {},
   "outputs": [],
   "source": [
    "import numpy as np\n",
    "\n",
    "\n",
    "P_coefficients = np.array(input().split(), float)\n",
    "x_val = float(input())\n",
    "\n",
    "print(np.polyval(P_coefficients, x_val))"
   ]
  },
  {
   "cell_type": "markdown",
   "metadata": {},
   "source": [
    "### Q8:\n",
    "\n",
    "Please solve this problem and write your code here?\n",
    "\n",
    "https://www.hackerrank.com/challenges/np-linear-algebra/problem"
   ]
  },
  {
   "cell_type": "code",
   "execution_count": null,
   "metadata": {},
   "outputs": [],
   "source": [
    "import numpy as np\n",
    "\n",
    "matrix_rank = int(input())\n",
    "matrix = np.array([input().split() for i in range(matrix_rank)],float)\n",
    "\n",
    "#Determinant\n",
    "print(round(np.linalg.det(matrix),2))"
   ]
  },
  {
   "cell_type": "code",
   "execution_count": null,
   "metadata": {},
   "outputs": [],
   "source": []
  },
  {
   "cell_type": "markdown",
   "metadata": {},
   "source": [
    "# Part2 (GUI):\n",
    "    Please create simple calculator like this image ( with the same colors and architecture ) "
   ]
  },
  {
   "cell_type": "markdown",
   "metadata": {},
   "source": [
    "![caption](files/image.jpg)"
   ]
  },
  {
   "cell_type": "code",
   "execution_count": 1,
   "metadata": {},
   "outputs": [],
   "source": [
    "import tkinter as tk\n",
    "from tkinter import *\n",
    "\n",
    "root = Tk()\n",
    "class Calculator:\n",
    "    def click_button(self,numbers):\n",
    "        global operator\n",
    "        global var\n",
    "        self.operator = self.operator + str(numbers)\n",
    "        self.var.set(self.operator)\n",
    "\n",
    "    def clear(self):\n",
    "        self.entry.delete(0,END)\n",
    "        self.operator =\"\"\n",
    "\n",
    "\n",
    "    def evaluate(self):\n",
    "        self.answer =eval(self.entry.get())\n",
    "        self.var.set(self.answer)\n",
    "        self.operator = str(self.answer)\n",
    "\n",
    "    def __init__(self,master):\n",
    "\n",
    "        self.operator = \"\"\n",
    "        self.var = StringVar()\n",
    "        frame_s = Frame(master, height=100, width=100 )\n",
    "        frame_s.pack(side=TOP, fill=BOTH, expand=True)\n",
    "        self.entry = Entry(frame_s,textvariable=self.var,bg='green', width=30,bd=15,insertwidth=10,justify='right',font=('arial',10,'bold'))\n",
    "        self.entry.pack()\n",
    "        self.t = Text(self.entry,height=100)\n",
    "\n",
    "\n",
    "\n",
    "        label_key = Label(root, height=5, width=5,bg='white')\n",
    "        label_key.pack(side=LEFT, fill=BOTH, expand=True)\n",
    "\n",
    "        label_7 = Label(label_key, bg='white')\n",
    "        label_7.grid(row=0, column=0)\n",
    "        button_7 = Button(label_7,bd = 2,height = 2, width = 2, text='7', font=('Helvetica', '18'),command= lambda : self.click_button(7),bg='white',fg='black')\n",
    "        button_7.pack()\n",
    "\n",
    "        label_8 = Label(label_key, bg='white')\n",
    "        label_8.grid(row=0, column=1)\n",
    "        button_8 = Button(label_8,bd = 2,height = 2, width = 2, text='8', font=('Helvetica', '18'),command= lambda: self.click_button(8),bg='white',fg='black')\n",
    "        button_8.pack()\n",
    "\n",
    "        label_9 = Label(label_key, bg='white')\n",
    "        label_9.grid(row=0, column=2)\n",
    "        button_9 = Button(label_9,bd = 2,height = 2, width = 2, text='9', font=('Helvetica', '18'),command= lambda: self.click_button(9),bg='white',fg='black')\n",
    "        button_9.pack()\n",
    "\n",
    "        label_4 = Label(label_key, bg='white')\n",
    "        label_4.grid(row=1, column=0)\n",
    "        button_4 = Button(label_4,bd = 2,height = 2, width = 2, text='4', font=('Helvetica', '18'),command= lambda: self.click_button(4),bg='white',fg='black')\n",
    "        button_4.pack()\n",
    "\n",
    "        label_5 = Label(label_key, bg='white')\n",
    "        label_5.grid(row=1, column=1)\n",
    "        button_5 = Button(label_5,bd = 2,height = 2, width = 2, text='5', font=('Helvetica', '18'),command= lambda: self.click_button(5),bg='white',fg='black')\n",
    "        button_5.pack()\n",
    "\n",
    "        label_6 = Label(label_key, bg='white')\n",
    "        label_6.grid(row=1, column=2)\n",
    "        button_6 = Button(label_6,bd = 2,height = 2, width = 2, text='6', font=('Helvetica', '18'),command= lambda: self.click_button(6),bg='white',fg='black')\n",
    "        button_6.pack()\n",
    "\n",
    "        label_1 = Label(label_key, bg='white')\n",
    "        label_1.grid(row=2, column=0)\n",
    "        button_1 = Button(label_1,bd = 2,height = 2, width = 2, text='1', font=('Helvetica', '18'),command= lambda: self.click_button(1),bg='white',fg='black')\n",
    "        button_1.pack()\n",
    "\n",
    "        label_2 = Label(label_key, bg='white')\n",
    "        label_2.grid(row=2, column=1)\n",
    "        button_2 = Button(label_2,bd = 2,height = 2, width = 2, text='2', font=('Helvetica', '18'),command= lambda: self.click_button(2),bg='white',fg='black')\n",
    "        button_2.pack()\n",
    "\n",
    "        label_3 = Label(label_key, bg='white')\n",
    "        label_3.grid(row=2, column=2)\n",
    "        button_3 = Button(label_3,bd = 2,height = 2, width = 2, text='3', font=('Helvetica', '18'),command= lambda: self.click_button(3),bg='white',fg='black')\n",
    "        button_3.pack()\n",
    "\n",
    "        label_0 = Label(label_key, bg='white')\n",
    "        label_0.grid(row=3, column=0)\n",
    "        button_0 = Button(label_0,bd = 2,height = 2, width = 2, text='0', font=('Helvetica', '18'),command= lambda: self.click_button(0),bg='white',fg='black')\n",
    "        button_0.pack()\n",
    "\n",
    "        label_deci = Label(label_key, bg='orange')\n",
    "        label_deci.grid(row=3, column=1, padx=10, pady=10)\n",
    "        button_deci = Button(label_deci, text='.',bd = 2,height = 2, width = 2, font=('Helvetica', '18'),command= lambda: self.click_button('.'),bg='orange',fg='black')\n",
    "        button_deci.pack()\n",
    "\n",
    "        label_equal = Label(label_key, bg='green')\n",
    "        label_equal.grid(row=4, column=0,columnspan = 2)\n",
    "        button_equal = Button(label_equal, text='=',bd = 2,height = 2, width = 7, font=('Helvetica', '18'),command= self.evaluate,bg='green',fg='black')\n",
    "        button_equal.pack()\n",
    "\n",
    "        label_C = Label(label_key, bg='green')\n",
    "        label_C.grid(row=0, column=3)\n",
    "        button_C = Button(label_C, text='C',bd = 2,height = 2, width = 2, font=('Helvetica', '18'), command=  self.clear,bg='green',fg='black')\n",
    "        button_C.pack(side=LEFT)\n",
    "\n",
    "        label_sub = Label(label_key, bg='orange')\n",
    "        label_sub.grid(row=2, column=3, sticky=E)\n",
    "        button_sub = Button(label_sub, text='-',bd = 2,height = 2, width = 2, font=('Helvetica', '18'),command= lambda: self.click_button('-'),bg='orange',fg='black')\n",
    "        button_sub.pack(side=LEFT)\n",
    "\n",
    "        label_mul = Label(label_key, bg='orange')\n",
    "        label_mul.grid(row=3, column=3, sticky=E)\n",
    "        button_mul = Button(label_mul, text='x',bd = 2,height = 2, width = 2, font=('Helvetica', '18'),command= lambda: self.click_button('*'),bg='orange',fg='black')\n",
    "        button_mul.pack()\n",
    "\n",
    "        label_div = Label(label_key, bg='orange')\n",
    "        label_div.grid(row=3, column=2, sticky=W)\n",
    "        button_div = Button(label_div, text='/',bd = 2,height = 2, width = 2, font=('Helvetica', '18'),command= lambda: self.click_button('/'),bg='orange',fg='black')\n",
    "        button_div.pack()\n",
    "\n",
    "        label_add = Label(label_key, bg='orange')\n",
    "        label_add.grid(row=1, column=3, sticky=E)\n",
    "        button_add = Button(label_add, text='+',bd = 2,height = 2, width = 2, font=('Helvetica', '18'),command= lambda: self.click_button('+'),bg='orange',fg='black')\n",
    "        button_add.pack()\n",
    "\n",
    "        label_lbrace = Label(label_key, bg='orange')\n",
    "        label_lbrace.grid(row=4,column=2,sticky=W)\n",
    "        button_lbrace = Button(label_lbrace,text='(',bd = 2,height = 2, width = 2, font=('Helvetica', '18'),command= lambda: self.click_button('('),bg='orange',fg='black')\n",
    "        button_lbrace.pack()\n",
    "\n",
    "        label_rbrace = Label(label_key, bg='orange')\n",
    "        label_rbrace.grid(row=4,column=3,sticky=W)\n",
    "        button_rbrace = Button(label_rbrace,text=')',bd = 2,height = 2, width = 2, font=('Helvetica', '18'),command= lambda: self.click_button(')'),bg='orange',fg='black')\n",
    "        button_rbrace.pack()\n",
    "\n",
    "c = Calculator(root)\n",
    "root.title(\"Calculator\")\n",
    "root.mainloop()"
   ]
  },
  {
   "cell_type": "code",
   "execution_count": null,
   "metadata": {},
   "outputs": [],
   "source": []
  }
 ],
 "metadata": {
  "kernelspec": {
   "display_name": "Python 3",
   "language": "python",
   "name": "python3"
  },
  "language_info": {
   "codemirror_mode": {
    "name": "ipython",
    "version": 2
   },
   "file_extension": ".py",
   "mimetype": "text/x-python",
   "name": "python",
   "nbconvert_exporter": "python",
   "pygments_lexer": "ipython2",
   "version": "2.7.17"
  }
 },
 "nbformat": 4,
 "nbformat_minor": 4
}
