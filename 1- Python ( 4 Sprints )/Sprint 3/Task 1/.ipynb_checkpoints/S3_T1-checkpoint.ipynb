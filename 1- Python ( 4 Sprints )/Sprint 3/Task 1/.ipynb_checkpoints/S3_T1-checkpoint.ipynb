{
 "cells": [
  {
   "cell_type": "markdown",
   "metadata": {},
   "source": [
    "**1. itertools.product()**"
   ]
  },
  {
   "cell_type": "code",
   "execution_count": 13,
   "metadata": {},
   "outputs": [
    {
     "name": "stdout",
     "output_type": "stream",
     "text": [
      "1 2\n",
      "3 4\n",
      "(1, 3) (1, 4) (2, 3) (2, 4)\n"
     ]
    }
   ],
   "source": [
    "from itertools import product\n",
    "\n",
    "def cartesian_product(lst1, lst2): \n",
    "    # product(*iterables, repeat=1)\n",
    "    print(*product(lst1, lst2))  \n",
    "\n",
    "if __name__ == \"__main__\":\n",
    "    \n",
    "    # map(func, iterable)\n",
    "    # int(x=0, base=10)\n",
    "    # string.split(separator, maxsplit)\n",
    "    lst1 = map(int, input().split())\n",
    "    lst2 = map(int, input().split())\n",
    "\n",
    "    res = cartesian_product(lst1,lst2) "
   ]
  },
  {
   "cell_type": "markdown",
   "metadata": {},
   "source": [
    "**2. itertools.permutations()**"
   ]
  },
  {
   "cell_type": "code",
   "execution_count": 28,
   "metadata": {},
   "outputs": [
    {
     "name": "stdout",
     "output_type": "stream",
     "text": [
      "hack 2\n",
      "[('A', 'C'), ('A', 'H'), ('A', 'K'), ('C', 'A'), ('C', 'H'), ('C', 'K'), ('H', 'A'), ('H', 'C'), ('H', 'K'), ('K', 'A'), ('K', 'C'), ('K', 'H')]\n",
      "AC\n",
      "AH\n",
      "AK\n",
      "CA\n",
      "CH\n",
      "CK\n",
      "HA\n",
      "HC\n",
      "HK\n",
      "KA\n",
      "KC\n",
      "KH\n"
     ]
    }
   ],
   "source": [
    "from itertools import permutations\n",
    "\n",
    "def str_perm(str1, k):\n",
    "    \n",
    "    # upper() : returns the uppercased string from the given string.\n",
    "    str1 = str1.upper()\n",
    "    # permutations(p, r) : r-length tuples, all possible orderings, no repeated elements\n",
    "    print(list(permutations(str1, k)))\n",
    "    # string.join(iterable)\n",
    "    print(*[''.join(p) for p in permutations(str1, k)], sep = \"\\n\") \n",
    "\n",
    "\n",
    "if __name__ == \"__main__\":\n",
    "    # string.split(separator, maxsplit)\n",
    "    usr_input = input().split()\n",
    "    # sorted(iterable, reverse = False)\n",
    "    usr_str = ''.join(sorted(usr_input[0]))\n",
    "    # int(x=0, base=10)\n",
    "    k = int(usr_input[1])\n",
    "\n",
    "    res = str_perm(usr_str, k)"
   ]
  },
  {
   "cell_type": "markdown",
   "metadata": {},
   "source": [
    "**3. itertools.combinations()**"
   ]
  },
  {
   "cell_type": "code",
   "execution_count": 12,
   "metadata": {},
   "outputs": [
    {
     "name": "stdout",
     "output_type": "stream",
     "text": [
      "hack 2\n",
      "A\n",
      "C\n",
      "H\n",
      "K\n",
      "AC\n",
      "AH\n",
      "AK\n",
      "CH\n",
      "CK\n",
      "HK\n"
     ]
    }
   ],
   "source": [
    "from itertools import combinations\n",
    "\n",
    "def str_comb(str1, k):\n",
    "    # upper() : returns the uppercased string from the given string.\n",
    "    str1 = str1.upper()\n",
    "    # range(start, stop, step)\n",
    "    for i in range(1, k + 1):\n",
    "        # combinations(p, r) : r-length tuples, in sorted order, no repeated elements\n",
    "        # string.join(iterable)\n",
    "        print(*[''.join(p) for p in combinations(str1, i)], sep = \"\\n\") \n",
    "\n",
    "\n",
    "if __name__ == \"__main__\":\n",
    "    \n",
    "    # string.split(separator, maxsplit)\n",
    "    usr_input = input().split()\n",
    "    # sorted(iterable, reverse = False)\n",
    "    usr_str = ''.join(sorted(usr_input[0]))\n",
    "    # int(x=0, base=10)\n",
    "    k = int(usr_input[1])\n",
    "\n",
    "    res = str_comb(usr_str, k)"
   ]
  },
  {
   "cell_type": "markdown",
   "metadata": {},
   "source": [
    "**4. itertools.combinations_with_replacement()**"
   ]
  },
  {
   "cell_type": "code",
   "execution_count": 22,
   "metadata": {},
   "outputs": [
    {
     "name": "stdout",
     "output_type": "stream",
     "text": [
      "hack 2\n",
      "AA\n",
      "AC\n",
      "AH\n",
      "AK\n",
      "CC\n",
      "CH\n",
      "CK\n",
      "HH\n",
      "HK\n",
      "KK\n"
     ]
    }
   ],
   "source": [
    "from itertools import combinations_with_replacement \n",
    "\n",
    "def str_comb_repl(str1, k):\n",
    "\n",
    "    # upper() : returns the uppercased string from the given string.\n",
    "    str1 = str1.upper()\n",
    "    # combinations_with_replacement(iterable, r)\n",
    "    # string.join(iterable)\n",
    "    print(*[''.join(p) for p in combinations_with_replacement(str1, k)], sep = \"\\n\") \n",
    "\n",
    "\n",
    "if __name__ == \"__main__\":\n",
    "    \n",
    "    # string.split(separator, maxsplit)\n",
    "    usr_input = input().split()\n",
    "    # sorted(iterable, reverse = False)\n",
    "    usr_str = ''.join(sorted(usr_input[0]))\n",
    "    # int(x=0, base=10)\n",
    "    k = int(usr_input[1])\n",
    "\n",
    "    res = str_comb_repl(usr_str, k)"
   ]
  },
  {
   "cell_type": "markdown",
   "metadata": {},
   "source": [
    "**5. Compress the String!**\n",
    "\n"
   ]
  },
  {
   "cell_type": "code",
   "execution_count": 19,
   "metadata": {},
   "outputs": [
    {
     "name": "stdout",
     "output_type": "stream",
     "text": [
      "1222311\n",
      "(1, 1) (3, 2) (1, 3) (2, 1) "
     ]
    }
   ],
   "source": [
    "from itertools import groupby\n",
    "\n",
    "def compress_str(mystr):\n",
    "    \n",
    "    # groupby(iterable, key)\n",
    "    for key, group in groupby(mystr):\n",
    "        # len(object)\n",
    "        print(tuple([len(list(group)), key]) ,end = \" \")\n",
    "        \n",
    "if __name__ == \"__main__\":   \n",
    "    # map(func, iterable)\n",
    "    usr_str = map(int, list(input()))\n",
    "    compress_str(usr_str)        "
   ]
  },
  {
   "cell_type": "markdown",
   "metadata": {},
   "source": [
    "**6. Iterables and Iterators**"
   ]
  },
  {
   "cell_type": "code",
   "execution_count": 25,
   "metadata": {},
   "outputs": [
    {
     "name": "stdout",
     "output_type": "stream",
     "text": [
      "4\n",
      "a a c f\n",
      "2\n",
      "('a', 'a')\n",
      "('a', 'c')\n",
      "('a', 'f')\n",
      "('a', 'c')\n",
      "('a', 'f')\n",
      "('c', 'f')\n",
      "probability that at least one of the n_combinations indices selected contains the letter a:  0.8333333333333334\n"
     ]
    }
   ],
   "source": [
    "from itertools import combinations\n",
    "\n",
    "# int(x=0, base=10)\n",
    "n_list = int(input())\n",
    "# string.lower()\n",
    "# string.split(separator, maxsplit)\n",
    "lst_char = list(input().lower().split(' '))\n",
    "n_combinations = int(input())\n",
    "\n",
    "counter_a = 0\n",
    "# combinations(p, r) : r-length tuples, in sorted order, no repeated elements\n",
    "for i in combinations(lst_char, n_combinations):\n",
    "    print(i)\n",
    "    if 'a' in i:\n",
    "        counter_a = counter_a + 1\n",
    "print(\"\")\n",
    "print(\"probability that at least one of the n_combinations indices selected contains the letter a: \", counter_a / len(list(combinations(lst_char, n_combinations))))        \n"
   ]
  },
  {
   "cell_type": "markdown",
   "metadata": {},
   "source": [
    "**7. Maximize It!**"
   ]
  },
  {
   "cell_type": "code",
   "execution_count": 27,
   "metadata": {},
   "outputs": [
    {
     "name": "stdout",
     "output_type": "stream",
     "text": [
      "3 1000\n",
      "2 4 5\n",
      "3 7 8 9 \n",
      "5 5 7 8 9 10\n",
      "\n",
      "The maximum S value equal to (5 ** 2 + 9 ** 2 + 10 ** 2) % 1000 =  206\n"
     ]
    }
   ],
   "source": [
    "from itertools import product\n",
    "\n",
    "# map(func, iterable)\n",
    "n_lst, modulo_num = map(int, input().split())\n",
    "\n",
    "lst = list()\n",
    "\n",
    "lst = []\n",
    "# range(start, stop, step)\n",
    "for _ in range(n_lst):\n",
    "    # num_element_in_list = l[0]\n",
    "    # map(func, iterable)\n",
    "    lst.append(list(map(int, input().split()))[1:])\n",
    "\n",
    "result = 0\n",
    "# product(*iterables)\n",
    "for combination in product(*lst):\n",
    "    # max(iterable)\n",
    "    # sum(iterable, start)\n",
    "       # iterable --> Required. The sequence to sum\n",
    "       # start --> Optional. A value that is added to the return value\n",
    "    result = max(sum([x ** 2 for x in combination]) % modulo_num, result)\n",
    "\n",
    "print(\"\")    \n",
    "print(\"The maximum S value equal to (5 ** 2 + 9 ** 2 + 10 ** 2) % 1000 = \", result)"
   ]
  },
  {
   "cell_type": "code",
   "execution_count": null,
   "metadata": {},
   "outputs": [],
   "source": []
  }
 ],
 "metadata": {
  "kernelspec": {
   "display_name": "Python 3",
   "language": "python",
   "name": "python3"
  },
  "language_info": {
   "codemirror_mode": {
    "name": "ipython",
    "version": 3
   },
   "file_extension": ".py",
   "mimetype": "text/x-python",
   "name": "python",
   "nbconvert_exporter": "python",
   "pygments_lexer": "ipython3",
   "version": "3.6.9"
  }
 },
 "nbformat": 4,
 "nbformat_minor": 4
}
