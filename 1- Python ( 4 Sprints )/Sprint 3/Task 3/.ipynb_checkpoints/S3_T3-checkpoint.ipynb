{
 "cells": [
  {
   "cell_type": "markdown",
   "metadata": {},
   "source": [
    "**1. Calendar Module**\n",
    "\n",
    "   - You are given a date. The task is to find what the day is on that date."
   ]
  },
  {
   "cell_type": "code",
   "execution_count": 13,
   "metadata": {},
   "outputs": [
    {
     "name": "stdout",
     "output_type": "stream",
     "text": [
      "08 05 2015\n",
      "\n",
      "WEDNESDAY\n"
     ]
    }
   ],
   "source": [
    "import calendar\n",
    "\n",
    "# map(func, iterable)\n",
    "# string.split(separator, maxsplit)\n",
    "month, day, year = map(int, input().split())\n",
    "# day_name --> An array that represents the days of the week in the current locale.\n",
    "# weekday(year, month, day)- Returns the day of the week\n",
    "print(\"\")\n",
    "print(calendar.day_name[calendar.weekday(year, month, day)].upper())"
   ]
  },
  {
   "cell_type": "markdown",
   "metadata": {},
   "source": [
    "**2. Time Delta**"
   ]
  },
  {
   "cell_type": "code",
   "execution_count": 15,
   "metadata": {},
   "outputs": [
    {
     "name": "stdout",
     "output_type": "stream",
     "text": [
      "2\n",
      "Sun 10 May 2015 13:54:36 -0700\n",
      "Sun 10 May 2015 13:54:36 -0000\n",
      "25200\n",
      "Sat 02 May 2015 19:54:36 +0530\n",
      "Fri 01 May 2015 13:54:36 -0000\n",
      "88200\n"
     ]
    }
   ],
   "source": [
    "from datetime import datetime\n",
    "\n",
    "# %a --> Weekday, short version\n",
    "# %d --> Day of month 01-31\n",
    "# %b --> Month name, short version\n",
    "# %Y --> Year, full version\n",
    "# %H --> Hour 00-23\n",
    "# %M --> Minute 00-59\n",
    "# %S --> Second 00-59\n",
    "# %z --> UTC offset\n",
    "format_time = \"%a %d %b %Y %H:%M:%S %z\"\n",
    "\n",
    "# the number of testcases. \n",
    "T = int(input())\n",
    "\n",
    "\n",
    "for _ in range(T):\n",
    "    # strptime(date_string, format)\n",
    "    datetime_1 = datetime.strptime(input(), format_time)\n",
    "    datetime_2 = datetime.strptime(input(), format_time)\n",
    "    # abs(num) --> return the absolute value of num\n",
    "    # total_seconds --> Compute the total number of seconds of a TimeDelta\n",
    "    print(int((datetime_1 - datetime_2).total_seconds()))"
   ]
  },
  {
   "cell_type": "markdown",
   "metadata": {},
   "source": [
    "**3. Incorrect Regex**\n",
    "  \n",
    "   - You are given a string S.\n",
    "   - The task is to find out whether S is a valid regex or not."
   ]
  },
  {
   "cell_type": "code",
   "execution_count": 20,
   "metadata": {},
   "outputs": [
    {
     "name": "stdout",
     "output_type": "stream",
     "text": [
      "2\n",
      "\n",
      ".*\\+\n",
      "\n",
      "True\n",
      "\n",
      ".*+\n",
      "\n",
      "False\n",
      "\n"
     ]
    }
   ],
   "source": [
    "import re\n",
    "\n",
    "# number of testcases\n",
    "T = int(input())\n",
    "print(\"\")\n",
    "\n",
    "# range(start, stop, step)\n",
    "for _ in range(T):\n",
    "    try:\n",
    "        # re.compile(regex) or re.compile(regex, flags)\n",
    "        # The flags are the matching options \n",
    "        re.compile(input())\n",
    "        print(\"\")\n",
    "        print(True)\n",
    "        print(\"\")\n",
    "    except:  \n",
    "        print(\"\")\n",
    "        print(False) \n",
    "        print(\"\")"
   ]
  },
  {
   "cell_type": "markdown",
   "metadata": {},
   "source": [
    "**4. Validating Email Addresses With a Filter**\n",
    "\n",
    "   - You are given an integer N followed by N email addresses.\n",
    "   - Task is to print a list containing only valid email addresses in lexicographical order."
   ]
  },
  {
   "cell_type": "code",
   "execution_count": null,
   "metadata": {},
   "outputs": [],
   "source": [
    "def fun(s):\n",
    "    # return True if s is a valid email, else return False\n",
    "    try:\n",
    "        # string.split(separator, maxsplit)\n",
    "        username, other = s.split(\"@\")\n",
    "        websitename, extension = other.split(\".\")\n",
    "    except:\n",
    "        return False\n",
    "    \n",
    "    #string.replace(old, new, count)\n",
    "    username = username.replace(\"-\",\"\").replace(\"_\",\"\")\n",
    "    #  returns True if all characters in the string are alphanumeric (either alphabets or numbers)\n",
    "    if username.isalnum() == False:\n",
    "        return False\n",
    "    elif websitename.isalnum() == False:\n",
    "        return False\n",
    "    # len(object)\n",
    "    elif len(extension) > 3:\n",
    "        return False\n",
    "    else:\n",
    "        return True     \n",
    "\n",
    "def filter_mail(emails):\n",
    "    # filter(function, iterable)\n",
    "    return list(filter(fun, emails))\n",
    "\n",
    "if __name__ == '__main__':\n",
    "    n = int(input())\n",
    "    emails = []\n",
    "    for _ in range(n):\n",
    "        # append(elmnt)\n",
    "        emails.append(input())\n",
    "\n",
    "filtered_emails = filter_mail(emails)\n",
    "filtered_emails.sort()\n",
    "print(filtered_emails)"
   ]
  },
  {
   "cell_type": "markdown",
   "metadata": {},
   "source": [
    "**5. Exceptions**"
   ]
  },
  {
   "cell_type": "code",
   "execution_count": 22,
   "metadata": {},
   "outputs": [
    {
     "name": "stdout",
     "output_type": "stream",
     "text": [
      "3\n",
      "1 0\n",
      "Error Code: integer division or modulo by zero\n",
      "2 $\n",
      "Error Code: invalid literal for int() with base 10: '$'\n",
      "3 1\n",
      "3\n"
     ]
    }
   ],
   "source": [
    "# the number of test cases\n",
    "T = int(input())\n",
    "\n",
    "for _ in range(T):\n",
    "    a, b = input().split()\n",
    "    try:\n",
    "        print(int(a) // int(b))\n",
    "    except Exception as e:\n",
    "        print('Error Code: ' + str(e))"
   ]
  },
  {
   "cell_type": "markdown",
   "metadata": {},
   "source": [
    "**6. Classes: Dealing with Complex Numbers**\n",
    "\n",
    "   - You are given two complex numbers\n",
    "   - You have to print the result of their addition, subtraction, multiplication, division and modulus operations."
   ]
  },
  {
   "cell_type": "code",
   "execution_count": 23,
   "metadata": {},
   "outputs": [
    {
     "name": "stdout",
     "output_type": "stream",
     "text": [
      "2 1\n",
      "5 6\n",
      "7.00+7.00i\n",
      "-3.00-5.00i\n",
      "4.00+17.00i\n",
      "0.26-0.11i\n",
      "2.24+0.00i\n",
      "7.81+0.00i\n"
     ]
    }
   ],
   "source": [
    "import math\n",
    "\n",
    "class Complex(object):\n",
    "\n",
    "    def __init__(self, real, imaginary):\n",
    "        self.real = real\n",
    "        self.imaginary = imaginary\n",
    "\n",
    "    def __add__(self, no):\n",
    "        real = self.real + no.real\n",
    "        imaginary = self.imaginary + no.imaginary\n",
    "        \n",
    "        return Complex(real, imaginary)\n",
    "        \n",
    "    def __sub__(self, no):\n",
    "        real = self.real - no.real\n",
    "        imaginary = self.imaginary - no.imaginary\n",
    "        return Complex(real, imaginary)\n",
    "\n",
    "    def __mul__(self, no):\n",
    "        real = self.real * no.real - self.imaginary * no.imaginary\n",
    "        imaginary = self.real * no.imaginary + self.imaginary * no.real\n",
    "        return Complex(real, imaginary)\n",
    "\n",
    "    def __truediv__(self, no):\n",
    "        x = float(no.real ** 2 + no.imaginary ** 2)\n",
    "        y = self * Complex(no.real, -no.imaginary)\n",
    "        real = y.real / x\n",
    "        imaginary = y.imaginary / x\n",
    "        return Complex(real, imaginary)\n",
    "\n",
    "    def mod(self):\n",
    "        real = math.sqrt(self.real ** 2 + self.imaginary ** 2)\n",
    "        return Complex(real, 0)\n",
    "\n",
    "    def __str__(self):\n",
    "        if self.imaginary == 0:\n",
    "            result = \"%.2f+0.00i\" % (self.real)\n",
    "        elif self.real == 0:\n",
    "            if self.imaginary >= 0:\n",
    "                result = \"0.00+%.2fi\" % (self.imaginary)\n",
    "            else:\n",
    "                result = \"0.00-%.2fi\" % (abs(self.imaginary))\n",
    "        elif self.imaginary > 0:\n",
    "            result = \"%.2f+%.2fi\" % (self.real, self.imaginary)\n",
    "        else:\n",
    "            result = \"%.2f-%.2fi\" % (self.real, abs(self.imaginary))\n",
    "        return result\n",
    "\n",
    "if __name__ == '__main__':\n",
    "    # map(func, iterable)\n",
    "    c = map(float, input().split())\n",
    "    d = map(float, input().split())\n",
    "    x = Complex(*c)\n",
    "    y = Complex(*d)\n",
    "    \n",
    "    print(*map(str, [x+y, x-y, x*y, x/y, x.mod(), y.mod()]), sep='\\n')"
   ]
  },
  {
   "cell_type": "markdown",
   "metadata": {},
   "source": [
    "**7. Class 2 - Find the Torsional Angle**"
   ]
  },
  {
   "cell_type": "code",
   "execution_count": 24,
   "metadata": {},
   "outputs": [
    {
     "name": "stdout",
     "output_type": "stream",
     "text": [
      "0 4 5\n",
      "1 7 6\n",
      "0 5 9\n",
      "1 7 2\n",
      "8.19\n"
     ]
    }
   ],
   "source": [
    "import math\n",
    "\n",
    "class Points(object):\n",
    "    def __init__(self, x, y, z):\n",
    "        self.x = x\n",
    "        self.y = y\n",
    "        self.z = z\n",
    "\n",
    "    def __sub__(self, no):\n",
    "        x = self.x - no.x\n",
    "        y = self.y - no.y\n",
    "        z = self.z - no.z\n",
    "        return Points(x, y, z)\n",
    "\n",
    "    def dot(self, no):\n",
    "        x = self.x * no.x\n",
    "        y = self.y * no.y\n",
    "        z = self.z * no.z\n",
    "        return x + y + z\n",
    "\n",
    "    def cross(self, no):\n",
    "        x = self.y * no.z - self.z * no.y\n",
    "        y = self.z * no.x - self.x * no.z\n",
    "        z = self.x * no.y - self.y * no.x\n",
    "        return Points(x, y, z)\n",
    "        \n",
    "    def absolute(self):\n",
    "        return pow((self.x ** 2 + self.y ** 2 + self.z ** 2), 0.5)\n",
    "\n",
    "if __name__ == '__main__':\n",
    "    points = list()\n",
    "    for i in range(4):\n",
    "        a = list(map(float, input().split()))\n",
    "        points.append(a)\n",
    "\n",
    "    a, b, c, d = Points(*points[0]), Points(*points[1]), Points(*points[2]), Points(*points[3])\n",
    "    x = (b - a).cross(c - b)\n",
    "    y = (c - b).cross(d - c)\n",
    "    angle = math.acos(x.dot(y) / (x.absolute() * y.absolute()))\n",
    "\n",
    "    print(\"%.2f\" % math.degrees(angle))"
   ]
  },
  {
   "cell_type": "markdown",
   "metadata": {},
   "source": [
    "**8. Zipped!**\n",
    "\n",
    "   - The National University conducts an examination of N students in X subjects.\n",
    "   - Task is to compute the average scores of each student"
   ]
  },
  {
   "cell_type": "code",
   "execution_count": 1,
   "metadata": {},
   "outputs": [
    {
     "name": "stdout",
     "output_type": "stream",
     "text": [
      "5 3\n",
      "89 90 78 93 80\n",
      "90 91 85 88 86 \n",
      "91 92 83 89 90.5\n",
      "90.0\n",
      "91.0\n",
      "82.0\n",
      "90.0\n",
      "85.5\n"
     ]
    }
   ],
   "source": [
    "# map(func, iterable)\n",
    "# string.split(separator, maxsplit)\n",
    "num_stu , num_sub = map(int, input().split())\n",
    "\n",
    "# zip(iterator1, iterator2, iterator3 ...)\n",
    "# range(start, stop, step)\n",
    "for marks in zip(*[list(map(float, input().split())) for _ in range(num_sub)]):\n",
    "    print(sum(marks) / len(marks))"
   ]
  },
  {
   "cell_type": "markdown",
   "metadata": {},
   "source": [
    "**9. Input()**\n",
    "  \n",
    "  - You are given a polynomial P of a single indeterminate (or variable), x.\n",
    "  - You are also given the values of x and l.\n",
    "  - Task is to verify if P(x) = k."
   ]
  },
  {
   "cell_type": "code",
   "execution_count": 2,
   "metadata": {},
   "outputs": [
    {
     "name": "stdout",
     "output_type": "stream",
     "text": [
      "1 4\n",
      "x**3 + x**2 + x + 1\n",
      "True\n"
     ]
    }
   ],
   "source": [
    "# x_k is a list of x and k values\n",
    "x_k = list(map(int, input().split()))\n",
    "x = x_k[0]\n",
    "k = x_k[1]\n",
    "\n",
    "p = input()\n",
    "\n",
    "# eval(expression, globals=None, locals=None)\n",
    "# parse and evaluate a Python expression\n",
    "if eval(p) == k:\n",
    "    print(True)\n",
    "else:\n",
    "    print(False)    "
   ]
  },
  {
   "cell_type": "markdown",
   "metadata": {},
   "source": [
    "**9. Python Evaluation**\n",
    "\n",
    "  - You are given an expression in a line.\n",
    "  - Read that line as a string variable, such as var, and print the result using eval(var)"
   ]
  },
  {
   "cell_type": "code",
   "execution_count": 3,
   "metadata": {},
   "outputs": [
    {
     "name": "stdout",
     "output_type": "stream",
     "text": [
      "print(2 + 3)\n",
      "5\n"
     ]
    }
   ],
   "source": [
    "# eval(expression, globals=None, locals=None)\n",
    "eval(input())"
   ]
  },
  {
   "cell_type": "markdown",
   "metadata": {},
   "source": [
    "**10. Athlete Sort**\n",
    "\n",
    "  - You are given a spreadsheet that contains a list of  athletes\n",
    "    and their details (such as age, height, weight and so on).\n",
    "  - You are required to sort the data based on the th attribute and print the final resulting table. "
   ]
  },
  {
   "cell_type": "code",
   "execution_count": 5,
   "metadata": {},
   "outputs": [
    {
     "name": "stdout",
     "output_type": "stream",
     "text": [
      "5 3 \n",
      "\n",
      "10 2 5\n",
      "7 1 0\n",
      "9 9 9\n",
      "1 23 12\n",
      "6 5 9\n",
      "1\n",
      "7 1 0\n",
      "10 2 5\n",
      "6 5 9\n",
      "9 9 9\n",
      "1 23 12\n"
     ]
    },
    {
     "data": {
      "text/plain": [
       "[None, None, None, None, None]"
      ]
     },
     "execution_count": 5,
     "metadata": {},
     "output_type": "execute_result"
    }
   ],
   "source": [
    "# map(func, iterable)\n",
    "# string.split(separator, maxsplit)\n",
    "num_athletes, num_attributes = map(int, input().split())\n",
    "print(\"\")\n",
    "\n",
    "# data entery \n",
    "rows = [list(map(int, input().split())) for _ in range(num_athletes)]\n",
    "\n",
    "# k is indexed from 0 to num_attributes - 1 \n",
    "# sort based on k \n",
    "k = int(input())\n",
    "\n",
    "# sorted(iterable, key=key, reverse=reverse)\n",
    "# lambda arguments : expression\n",
    "[print(*row) for row in sorted(rows, key = lambda x: x[k])]"
   ]
  },
  {
   "cell_type": "markdown",
   "metadata": {},
   "source": [
    "**11. Any or All**\n",
    "\n",
    "   - You are given a space separated list of integers.\n",
    "   - If all the integers are positive, then you need to check if any integer is a palindromic integer."
   ]
  },
  {
   "cell_type": "code",
   "execution_count": 7,
   "metadata": {},
   "outputs": [
    {
     "name": "stdout",
     "output_type": "stream",
     "text": [
      "5\n",
      "12 25 36 78 98\n",
      "False\n"
     ]
    }
   ],
   "source": [
    "# number of element\n",
    "num_items = int(input())\n",
    "# string.split(separator, maxsplit)\n",
    "items = input().split()\n",
    "\n",
    "# all(iterable)\n",
    "# any(iterable)\n",
    "# check if all items in items > 0 and if at least one item is palindromic number\n",
    "print(all(int(i) > 0 for i in items) and any(j == j[ : : -1] for j in items))"
   ]
  },
  {
   "cell_type": "markdown",
   "metadata": {},
   "source": [
    "**12. ginortS**\n",
    "\n",
    "   - You are given a string S, contains alphanumeric characters only.\n",
    "   - Task is to sort the string  in the following manner:-\n",
    "       - All sorted lowercase letters are ahead of uppercase letters.\n",
    "       - All sorted uppercase letters are ahead of digits.\n",
    "       - All sorted odd digits are ahead of sorted even digits."
   ]
  },
  {
   "cell_type": "code",
   "execution_count": 8,
   "metadata": {},
   "outputs": [
    {
     "name": "stdout",
     "output_type": "stream",
     "text": [
      "Sorting1234\n",
      "ginortS1324\n"
     ]
    }
   ],
   "source": [
    "lower = \"\"\n",
    "upper = \"\"\n",
    "odd = \"\"\n",
    "even = \"\"\n",
    "\n",
    "# sorted(iterable, key=key, reverse=reverse)\n",
    "s = sorted(input())\n",
    "\n",
    "for i in s:\n",
    "    # string.islower()\n",
    "    if i.islower():\n",
    "        lower += i\n",
    "    #  # string.isupper()    \n",
    "    elif i.isupper():\n",
    "        upper += i\n",
    "    elif int(i) % 2 != 0:\n",
    "        odd += i\n",
    "    elif int(i) % 2 == 0:\n",
    "        even += i\n",
    "\n",
    "print(lower + upper + odd + even)        "
   ]
  },
  {
   "cell_type": "code",
   "execution_count": null,
   "metadata": {},
   "outputs": [],
   "source": []
  }
 ],
 "metadata": {
  "kernelspec": {
   "display_name": "Python 3",
   "language": "python",
   "name": "python3"
  },
  "language_info": {
   "codemirror_mode": {
    "name": "ipython",
    "version": 3
   },
   "file_extension": ".py",
   "mimetype": "text/x-python",
   "name": "python",
   "nbconvert_exporter": "python",
   "pygments_lexer": "ipython3",
   "version": "3.6.9"
  }
 },
 "nbformat": 4,
 "nbformat_minor": 4
}
