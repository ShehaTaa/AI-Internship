{
 "cells": [
  {
   "cell_type": "markdown",
   "metadata": {},
   "source": [
    "**1. Detect Floating Point Number**\n",
    "\n",
    "   - You are given a string S.\n",
    "   - Task is to verify that S is a floating point number."
   ]
  },
  {
   "cell_type": "code",
   "execution_count": 1,
   "metadata": {},
   "outputs": [
    {
     "name": "stdout",
     "output_type": "stream",
     "text": [
      "4\n",
      "4.0O0\n",
      "False\n",
      "-1.00\n",
      "True\n",
      "+4.54\n",
      "True\n",
      "SomeRandomStuff\n",
      "False\n"
     ]
    }
   ],
   "source": [
    "import re\n",
    "\n",
    "T = int(input())\n",
    "# ^[+-]? --> input start with + or -\n",
    "# [0-9]* --> next char will be 0, 1, ..., 9 (0 or more)\n",
    "# \\. --> detect . \n",
    "# [0-9]+$ --> last digit will be 0, 1, ..., 9 (one or more)\n",
    "pattern = r'^[+-]?[0-9]*\\.[0-9]+$'\n",
    "\n",
    "for i in range(T):\n",
    "    s = input()\n",
    "    #match(patter, string, flag)\n",
    "    print(bool(re.match(pattern,s)))"
   ]
  },
  {
   "cell_type": "markdown",
   "metadata": {},
   "source": [
    "**2. Map and Lambda Function**\n",
    "\n",
    "   - generate a list of the first N fibonacci numbers, 0 being the first number.\n",
    "   - Then, apply the map function and a lambda expression to cube each fibonacci number and print the list."
   ]
  },
  {
   "cell_type": "code",
   "execution_count": 3,
   "metadata": {},
   "outputs": [
    {
     "name": "stdout",
     "output_type": "stream",
     "text": [
      "5\n",
      "[0, 1, 1, 8, 27]\n"
     ]
    }
   ],
   "source": [
    "cube = lambda x: x ** 3 \n",
    "\n",
    "def fibonacci(n):\n",
    "    # return a list of fibonacci numbers\n",
    "    a = 0\n",
    "    b = 1\n",
    "    l = []\n",
    "    if n == 0:\n",
    "        pass\n",
    "    elif n == 1:\n",
    "        # list.append(elmnt)\n",
    "        l.append(a)\n",
    "    else:\n",
    "        l.append(a)\n",
    "        l.append(b)\n",
    "        for i in range(2, n):\n",
    "            fib = a + b\n",
    "            a = b\n",
    "            b = fib\n",
    "            l.append(fib)\n",
    "    return l             \n",
    "\n",
    "if __name__ == '__main__':\n",
    "    n = int(input())\n",
    "    # map(func, iterable)\n",
    "    print(list(map(cube, fibonacci(n))))"
   ]
  },
  {
   "cell_type": "markdown",
   "metadata": {},
   "source": [
    "**3. Re.split()**\n",
    "\n",
    "   - You are given a string S consisting only of digits 0-9, commas ,, and dots .\n",
    "   - Task is to complete the regex_pattern defined below, which will be used to re.split() all of the , and . symbols in S."
   ]
  },
  {
   "cell_type": "code",
   "execution_count": 2,
   "metadata": {},
   "outputs": [
    {
     "name": "stdout",
     "output_type": "stream",
     "text": [
      "100,000,000.000\n",
      "100\n",
      "000\n",
      "000\n",
      "000\n"
     ]
    }
   ],
   "source": [
    "import re\n",
    "\n",
    "regex_pattern = r\"[.,]\"\n",
    "# re.split(pattern, string)\n",
    "# string.join(iterable)\n",
    "print(\"\\n\".join(re.split(regex_pattern, input())))"
   ]
  },
  {
   "cell_type": "markdown",
   "metadata": {},
   "source": [
    "**4. Group(), Groups() & Groupdict()**\n",
    "\n",
    "  - You are given a string S.\n",
    "  - Your task is to find the first occurrence of an alphanumeric character in S (read from left to right) that has consecutive repetitions."
   ]
  },
  {
   "cell_type": "code",
   "execution_count": 10,
   "metadata": {},
   "outputs": [
    {
     "name": "stdout",
     "output_type": "stream",
     "text": [
      "..12345678910111213141516171820212223\n",
      "1\n"
     ]
    }
   ],
   "source": [
    "import re\n",
    "\n",
    "s = input()\n",
    "\n",
    "pattern = r'([a-z A-Z 0-9])\\1'\n",
    "\n",
    "#search(pattern, string, flag)\n",
    "match_char = re.search(pattern, s)\n",
    "\n",
    "if match_char:\n",
    "    # A groups() --> returns a tuple containing all the subgroups of the match.\n",
    "    print(match_char.groups()[0])\n",
    "else:\n",
    "    print(-1)   "
   ]
  },
  {
   "cell_type": "markdown",
   "metadata": {},
   "source": [
    "**5. Reduce Function**\n",
    "\n",
    "   - Given a list of rational numbers,find their product."
   ]
  },
  {
   "cell_type": "code",
   "execution_count": 11,
   "metadata": {},
   "outputs": [
    {
     "name": "stdout",
     "output_type": "stream",
     "text": [
      "3\n",
      "1 2\n",
      "3 4\n",
      "10 6\n",
      "5 8\n"
     ]
    }
   ],
   "source": [
    "from fractions import Fraction\n",
    "from functools import reduce\n",
    "\n",
    "def product(fracs):\n",
    "    # reduce(function, sequence)\n",
    "    t = reduce(lambda a, b: a * b, fracs)\n",
    "    return t.numerator, t.denominator\n",
    "\n",
    "if __name__ == '__main__':\n",
    "    fracs = []\n",
    "    for _ in range(int(input())):\n",
    "        # fractions.Fraction(numerator=0, denominator=1)\n",
    "        # fractions.Fraction(string)\n",
    "        fracs.append(Fraction(*map(int, input().split())))\n",
    "    result = product(fracs)\n",
    "    print(*result)"
   ]
  },
  {
   "cell_type": "markdown",
   "metadata": {},
   "source": [
    "**6. Re.start() & Re.end()**\n",
    "\n",
    "  - You are given a string S.\n",
    "  - Task is to find the indices of the start and end of string k in S."
   ]
  },
  {
   "cell_type": "code",
   "execution_count": 1,
   "metadata": {},
   "outputs": [
    {
     "name": "stdout",
     "output_type": "stream",
     "text": [
      "aaadaa\n",
      "aa\n",
      "(0, 1)\n",
      "(1, 2)\n",
      "(4, 5)\n"
     ]
    }
   ],
   "source": [
    "import re\n",
    "\n",
    "# take input str and sub-str\n",
    "string = input()\n",
    "substring = input()\n",
    "\n",
    "# compile the pattern with substring\n",
    "# re.compile(pattern, repl, string)\n",
    "pattern = re.compile(substring)\n",
    "\n",
    "# find the matches and print output\n",
    "# search(pattern, string, flag)\n",
    "match = pattern.search(string)\n",
    "if not match:\n",
    "    print(\"(-1, -1)\")\n",
    "while match:\n",
    "    # match.start() --> returns the index of the start of the matched substring\n",
    "    # match.end() --> returns the end index of the matched substring\n",
    "    print(\"({}, {})\".format(match.start(), match.end()-1))\n",
    "    # search(pattern, string, flag)\n",
    "    match = pattern.search(string, match.start()+1)    "
   ]
  },
  {
   "cell_type": "markdown",
   "metadata": {},
   "source": [
    "**7. Regex Substitution**\n",
    "\n",
    "  - Given a text of N lines. The text contains && and || symbols.\n",
    "  - Task is to modify those symbols to the following:\n",
    "     - && → and\n",
    "     - || → or \n",
    "  - Both && and || should have a space \" \" on both sides."
   ]
  },
  {
   "cell_type": "code",
   "execution_count": 3,
   "metadata": {},
   "outputs": [
    {
     "name": "stdout",
     "output_type": "stream",
     "text": [
      "2\n",
      "if a + b > 0 && a - b < 0:\n",
      "if a + b > 0 and a - b < 0:\n",
      "elif a*b > 10 || a/b < 1:\n",
      "elif a*b > 10 or a/b < 1:\n"
     ]
    }
   ],
   "source": [
    "import re\n",
    "\n",
    "N = int(input())\n",
    "\n",
    "for i in range(N):\n",
    "    # re.sub(pattern, replace, string)\n",
    "    print(re.sub(r'(?<= )(&&|\\|\\|)(?= )', \n",
    "    lambda x: 'and' if x.group() == '&&' else 'or', input()))"
   ]
  },
  {
   "cell_type": "markdown",
   "metadata": {},
   "source": [
    "**8. Re.findall() & Re.finditer()**\n",
    "\n",
    "  - Given a string S. It consists of alphanumeric characters, spaces and symbols(+,-).\n",
    "  - Task is to find all the substrings of S that contains 2 or more vowels.\n",
    "  - Also, these substrings must lie in between 2 consonants and should contain vowels only."
   ]
  },
  {
   "cell_type": "code",
   "execution_count": 5,
   "metadata": {},
   "outputs": [
    {
     "name": "stdout",
     "output_type": "stream",
     "text": [
      "rabcdeefgyYhFjkIoomnpOeorteeeeet\n",
      "ee\n",
      "Ioo\n",
      "Oeo\n",
      "eeeee\n"
     ]
    }
   ],
   "source": [
    "import re\n",
    "\n",
    "S = input()\n",
    "Consonants = '[qwrtypsdfghjklzxcvbnm]'\n",
    "Vowels = '[aeiou]'\n",
    "# re.findall(pattern, string) \n",
    "m = re.findall(r'{Consonants}({Vowels}{{2,}})(?={Consonants})'.format(Vowels = Vowels, Consonants = Consonants),\n",
    "               # re.I --> ignore case\n",
    "               S, flags = re.I)\n",
    "print(*(m or ['-1']), sep=\"\\n\")"
   ]
  },
  {
   "cell_type": "markdown",
   "metadata": {},
   "source": [
    "**9. Validating phone numbers**\n",
    "\n",
    "   -  You are given some input, and you are required to check whether they are valid mobile numbers.\n",
    "   - A valid mobile number is a ten digit number starting with a 7, 8 or 9."
   ]
  },
  {
   "cell_type": "code",
   "execution_count": 6,
   "metadata": {},
   "outputs": [
    {
     "name": "stdout",
     "output_type": "stream",
     "text": [
      "2\n",
      "9587456281\n",
      "YES\n",
      "1252478965\n",
      "NO\n"
     ]
    }
   ],
   "source": [
    "import re\n",
    "\n",
    "N = int(input())\n",
    "# convert pattern to object\n",
    "# re.compile(pattern, repl, string)\n",
    "r = re.compile(\"^[789]\\d{9}$\")\n",
    "\n",
    "for _ in range(N):\n",
    "    t = input()\n",
    "    print(\"YES\" if r.search(t) else \"NO\")"
   ]
  },
  {
   "cell_type": "markdown",
   "metadata": {},
   "source": [
    "**10. Validating and Parsing Email Addresses**\n",
    "\n",
    "  - Given N pairs of names and email addresses as input.\n",
    "  - print each name and email address pair having a valid email address on a new line."
   ]
  },
  {
   "cell_type": "code",
   "execution_count": 10,
   "metadata": {},
   "outputs": [
    {
     "name": "stdout",
     "output_type": "stream",
     "text": [
      "2\n",
      "DEXTER <dexter@hotmail.com>\n",
      "DEXTER <dexter@hotmail.com>\n",
      " VIRUS <virus!@variable.:p>\n"
     ]
    }
   ],
   "source": [
    "import re\n",
    "\n",
    "N = int(input())\n",
    "# convert pattern to object\n",
    "# re.compile(pattern, repl, string)\n",
    "r = re.compile(\"^<([a-zA-Z][a-zA-Z0-9\\._-]+)@([a-zA-Z]+)\\.([a-zA-Z]{1,3})>$\")\n",
    "\n",
    "for _ in range(N):\n",
    "    name, email = input().split()\n",
    "    if r.search(email):\n",
    "        print(name, email)"
   ]
  },
  {
   "cell_type": "markdown",
   "metadata": {},
   "source": [
    "**11. Hex Color Code**\n",
    "\n",
    "  - Given  lines of CSS code.\n",
    "  - Task is to print all valid Hex Color Codes, in order of their occurrence from top to bottom."
   ]
  },
  {
   "cell_type": "code",
   "execution_count": 14,
   "metadata": {},
   "outputs": [
    {
     "name": "stdout",
     "output_type": "stream",
     "text": [
      "11\n",
      "#BED\n",
      "{\n",
      "color: #FfFdF8; background-color:#aef;\n",
      "Color:  #FfFdF8\n",
      "Color:  #aef\n",
      "font-size: 123px;\n",
      "background: -webkit-linear-gradient(top, #f9f9f9, #fff);\n",
      "Color:  #f9f9f9\n",
      "Color:  #fff\n",
      "}\n",
      "#Cab\n",
      "{\n",
      "background-color: #ABC;\n",
      "Color:  #ABC\n",
      " border: 2px dashed #fff;\n",
      "Color:  #fff\n",
      "}   \n"
     ]
    }
   ],
   "source": [
    "import re\n",
    "\n",
    "# check css code\n",
    "in_css = False\n",
    "#number of lines\n",
    "N = int(input())\n",
    "\n",
    "for _ in range(N):\n",
    "    # get line and check color code\n",
    "    line = input()\n",
    "    if '{' in line:\n",
    "        in_css = True\n",
    "    elif '}' in line:\n",
    "        in_css = False\n",
    "    elif in_css:\n",
    "        # findall(pattern, string)\n",
    "        for color in re.findall('#[0-9A-Fa-f]{3,6}', line):\n",
    "            print(\"Color: \", color) "
   ]
  },
  {
   "cell_type": "markdown",
   "metadata": {},
   "source": [
    "**12. HTML Parser - Part 1**\n",
    "\n",
    "   - Given an HTML code snippet of N lines.\n",
    "   - Task is to print start tags, end tags and empty tags separately."
   ]
  },
  {
   "cell_type": "code",
   "execution_count": 15,
   "metadata": {},
   "outputs": [
    {
     "name": "stdout",
     "output_type": "stream",
     "text": [
      "2\n",
      "<html><head><title>HTML Parser - I</title></head>\n",
      "Start : html\n",
      "Start : head\n",
      "Start : title\n",
      "End   : title\n",
      "End   : head\n",
      "<body data-modal-target class='1'><h1>HackerRank</h1><br /></body></html>\n",
      "Start : body\n",
      "-> data-modal-target > None\n",
      "-> class > 1\n",
      "Start : h1\n",
      "End   : h1\n",
      "Empty : br\n",
      "End   : body\n",
      "End   : html\n"
     ]
    }
   ],
   "source": [
    "from html.parser import HTMLParser\n",
    "\n",
    "class MyHTMLParser(HTMLParser):\n",
    "    def handle_starttag(self, tag, attrs):        \n",
    "        print ('Start :',tag)\n",
    "        for ele in attrs:\n",
    "            print ('->',ele[0],'>',ele[1])\n",
    "\n",
    "    def handle_endtag(self, tag):\n",
    "        print ('End   :',tag)\n",
    "\n",
    "    def handle_startendtag(self, tag, attrs):\n",
    "        print ('Empty :',tag)\n",
    "        for ele in attrs:\n",
    "            print ('->',ele[0],'>',ele[1])\n",
    "\n",
    "MyParser = MyHTMLParser()\n",
    "for _ in range(int(input())):\n",
    "    # HTMLParser.feed(data)\n",
    "    MyParser.feed(input())"
   ]
  },
  {
   "cell_type": "markdown",
   "metadata": {},
   "source": [
    "**13. HTML Parser - Part 2**\n",
    "\n",
    "   - You are given an HTML code snippet of N lines.\n",
    "   - Task is to print the single-line comments, multi-line comments and the data."
   ]
  },
  {
   "cell_type": "code",
   "execution_count": 16,
   "metadata": {},
   "outputs": [
    {
     "name": "stdout",
     "output_type": "stream",
     "text": [
      "4\n",
      "<!--[if IE 9]>IE9-specific content\n",
      "<![endif]-->\n",
      "<div> Welcome to HackerRank</div>\n",
      "<!--[if IE 9]>IE9-specific content<![endif]-->\n",
      ">>> Multi-line Comment\n",
      "[if IE 9]>IE9-specific content\n",
      "<![endif]\n",
      ">>> Data\n",
      " Welcome to HackerRank\n",
      ">>> Single-line Comment\n",
      "[if IE 9]>IE9-specific content<![endif]\n"
     ]
    }
   ],
   "source": [
    "from html.parser import HTMLParser\n",
    "\n",
    "class MyHTMLParser(HTMLParser):\n",
    "    def handle_comment(self, data):\n",
    "        if '\\n' not in data:\n",
    "            print('>>> Single-line Comment')\n",
    "            print(data)\n",
    "        elif '\\n' in data:\n",
    "            print('>>> Multi-line Comment')\n",
    "            print(data)\n",
    "    def handle_data(self, data):\n",
    "        if data != '\\n':\n",
    "            print('>>> Data')\n",
    "            print(data)\n",
    "html = \"\"       \n",
    "for i in range(int(input())):\n",
    "    #string.rstrip(characters) --> all whitespaces on the right are removed\n",
    "    html += input().rstrip()\n",
    "    html += '\\n'\n",
    "\n",
    "parser = MyHTMLParser()\n",
    "# HTMLParser.feed(data)\n",
    "parser.feed(html)\n",
    "# HTMLParser.close()\n",
    "parser.close()"
   ]
  },
  {
   "cell_type": "markdown",
   "metadata": {},
   "source": [
    "**14. Detect HTML Tags, Attributes and Attribute Values**\n",
    "\n",
    "  - You are given an HTML code snippet of N lines.\n",
    "  - Task is to detect and print all the HTML tags, attributes and attribute values."
   ]
  },
  {
   "cell_type": "code",
   "execution_count": 17,
   "metadata": {},
   "outputs": [
    {
     "name": "stdout",
     "output_type": "stream",
     "text": [
      "9\n",
      "<head>\n",
      "<title>HTML</title>\n",
      "</head>\n",
      "<object type=\"application/x-flash\" \n",
      "data=\"your-file.swf\"\n",
      "width=\"0\" height=\"0\">\n",
      "<!-- <param name=\"movie\" value=\"your-file.swf\" /> -->\n",
      "<param name=\"quality\" value=\"high\"/>\n",
      "</object>\n",
      "head\n",
      "title\n",
      "object\n",
      "-> type > application/x-flash\n",
      "-> data > your-file.swf\n",
      "-> width > 0\n",
      "-> height > 0\n",
      "param\n",
      "-> name > quality\n",
      "-> value > high\n"
     ]
    }
   ],
   "source": [
    "from html.parser import HTMLParser\n",
    "\n",
    "class MyHTMLParser(HTMLParser):\n",
    "    def handle_starttag(self, tag, attrs):\n",
    "        print(tag)\n",
    "        for attr in attrs:\n",
    "            print(\"->\",\" > \".join(attr))\n",
    "\n",
    "parser = MyHTMLParser()\n",
    "\n",
    "html = \"\"\n",
    "for i in range(int(input())):\n",
    "    html += input()\n",
    "    html += '\\n'\n",
    "\n",
    "# HTMLParser.feed(data)\n",
    "parser.feed(html)"
   ]
  },
  {
   "cell_type": "markdown",
   "metadata": {},
   "source": [
    "**15. Validating UID**\n",
    "\n",
    "  -  create a unique identification number (UID) for each of company employees.\n",
    "  - A valid **UID** must follow the rules below:-\n",
    "      - It must contain at least 2 uppercase English alphabet characters.\n",
    "      - It must contain at least 3 digits (0 - 9).\n",
    "      - It should only contain alphanumeric characters (a - z, A - Z & 0 - 9).\n",
    "      - No character should repeat.\n",
    "      - There must be exactly 10 characters in a valid UID."
   ]
  },
  {
   "cell_type": "code",
   "execution_count": 18,
   "metadata": {},
   "outputs": [
    {
     "name": "stdout",
     "output_type": "stream",
     "text": [
      "2\n",
      "B1CD102354\n",
      "Invalid\n",
      "B1CDEF2354\n",
      "Valid\n"
     ]
    }
   ],
   "source": [
    "import re\n",
    "\n",
    "# number of test cases\n",
    "T = int(input())\n",
    "\n",
    "for i in range(T):\n",
    "    # string.strip([chars]) \n",
    "    N = input().strip()\n",
    "    # string.isalnum() --> True or False\n",
    "    if N.isalnum() and len(N) == 10:\n",
    "        #search(pattern, string)\n",
    "        if bool(re.search(r'(.*[A-Z]){2,}',N)) and bool(re.search(r'(.*[0-9]){3,}',N)):\n",
    "            if re.search(r'.*(.).*\\1+.*',N):\n",
    "                print('Invalid')\n",
    "            else:\n",
    "                print('Valid')    \n",
    "        else:\n",
    "            print('Invalid')\n",
    "    else:\n",
    "        print('Invalid')"
   ]
  },
  {
   "cell_type": "markdown",
   "metadata": {},
   "source": [
    "**16. Validating Credit Card Numbers**\n",
    "\n",
    "  - Verify whether a credit card numbers are valid or not.\n",
    "  - Valid credit card has the following characteristics:-\n",
    "     - It must start with a 4, 5 or 6.\n",
    "     - It must contain exactly 16 digits.\n",
    "     - It must only consist of digits (0 - 9).\n",
    "     - It may have digits in groups of 4, separated by one hyphen \"-\".\n",
    "     - It must NOT use any other separator like ' ' , '_', etc.\n",
    "     - It must NOT have 4 or more consecutive repeated digits."
   ]
  },
  {
   "cell_type": "code",
   "execution_count": 19,
   "metadata": {},
   "outputs": [
    {
     "name": "stdout",
     "output_type": "stream",
     "text": [
      "6\n",
      "4123456789123456\n",
      "Valid\n",
      "5123-4567-8912-3456\n",
      "Valid\n",
      "61234-567-8912-3456\n",
      "Invalid\n",
      "4123356789123456\n",
      "Valid\n",
      "5133-3367-8912-3456\n",
      "Invalid\n",
      "5123 - 3567 - 8912 - 3456\n",
      "Invalid\n"
     ]
    }
   ],
   "source": [
    "import re\n",
    "\n",
    "for i in range(int(input())):\n",
    "    # string.strip([chars])\n",
    "    S = input().strip()\n",
    "    #search(pattern, string)\n",
    "    pre_match = re.search(r'^[456]\\d{3}(-?)\\d{4}\\1\\d{4}\\1\\d{4}$',S)\n",
    "    if pre_match:\n",
    "        # group(num=0) \n",
    "        # string.split(separator, maxsplit)\n",
    "        processed_string = \"\".join(pre_match.group(0).split('-'))\n",
    "        final_match = re.search(r'(\\d)\\1{3,}',processed_string)\n",
    "        if final_match:\n",
    "            print('Invalid')\n",
    "        else:\n",
    "            print('Valid')\n",
    "    else:\n",
    "        print('Invalid')"
   ]
  },
  {
   "cell_type": "markdown",
   "metadata": {},
   "source": [
    "**17. Validating Postal Codes**\n",
    "\n",
    "  - A valid postal code P have to fullfil both below requirements:\n",
    "     - must be a number in the range from 100000 to 999999 inclusive.\n",
    "     - must not contain more than one alternating repetitive digit pair."
   ]
  },
  {
   "cell_type": "code",
   "execution_count": 21,
   "metadata": {},
   "outputs": [
    {
     "name": "stdout",
     "output_type": "stream",
     "text": [
      "110000\n",
      "False\n"
     ]
    }
   ],
   "source": [
    "import re\n",
    "\n",
    "regex_integer_in_range = r\"^[1-9][\\d]{5}$\"\n",
    "regex_alternating_repetitive_digit_pair = r\"(\\d)(?=\\d\\1)\"\n",
    "\n",
    "P = input()\n",
    "\n",
    "# match(pattern, string)\n",
    "print (bool(re.match(regex_integer_in_range, P)) \n",
    "# findall(pattern, string)       \n",
    "and len(re.findall(regex_alternating_repetitive_digit_pair, P)) < 2)"
   ]
  },
  {
   "cell_type": "markdown",
   "metadata": {},
   "source": [
    "**18. Matrix Script**"
   ]
  },
  {
   "cell_type": "code",
   "execution_count": 22,
   "metadata": {},
   "outputs": [
    {
     "name": "stdout",
     "output_type": "stream",
     "text": [
      "7 3 \n",
      "Tsi\n",
      "h%x\n",
      "i #\n",
      "sM \n",
      "$a \n",
      "#t%\n",
      "ir!\n",
      "This is Matrix#  %!\n"
     ]
    }
   ],
   "source": [
    "import re\n",
    "\n",
    "first_multiple_input = input().rstrip().split()\n",
    "\n",
    "# num of rows\n",
    "n = int(first_multiple_input[0])\n",
    "# num of columns\n",
    "m = int(first_multiple_input[1])\n",
    "\n",
    "matrix = []\n",
    "\n",
    "for _ in range(n):\n",
    "    matrix_item = input()\n",
    "    matrix.append(matrix_item)\n",
    "\n",
    "string = \"\"\n",
    "for i in range(m):\n",
    "    for j in range(n):\n",
    "        string += matrix[j][i]  \n",
    "        # \\w --> Matches any alphanumeric character (digits and alphabets).\n",
    "        # \\W --> Matches any non-alphanumeric character. \n",
    "        # compile the pattern with substring\n",
    "        # re.compile(pattern, repl, string)\n",
    "pattern = re.compile(r'(\\w)(\\W+)(\\w)') \n",
    "# re.sub(pattern, replace, string)\n",
    "# returns a string where matched occurrences are replaced with the content of replace variable.\n",
    "subs = pattern.sub(r\"\\1 \\3\", string)\n",
    "print(subs)     "
   ]
  },
  {
   "cell_type": "code",
   "execution_count": null,
   "metadata": {},
   "outputs": [],
   "source": []
  }
 ],
 "metadata": {
  "kernelspec": {
   "display_name": "Python 3",
   "language": "python",
   "name": "python3"
  },
  "language_info": {
   "codemirror_mode": {
    "name": "ipython",
    "version": 3
   },
   "file_extension": ".py",
   "mimetype": "text/x-python",
   "name": "python",
   "nbconvert_exporter": "python",
   "pygments_lexer": "ipython3",
   "version": "3.6.9"
  }
 },
 "nbformat": 4,
 "nbformat_minor": 4
}
