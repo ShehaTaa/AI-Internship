{
 "cells": [
  {
   "cell_type": "markdown",
   "metadata": {},
   "source": [
    "**1. collections.Counter()**\n",
    "\n",
    "  - you have shoe shop, and shop has X number of shoes.\n",
    "  - you has a list containing the size of each shoe he has in his shop.\n",
    "  - There are N number of customers who are willing to pay xi amount of money only if they get the shoe of their  desired size.\n",
    "  - Your task is to compute how much money you earned.\n"
   ]
  },
  {
   "cell_type": "code",
   "execution_count": 4,
   "metadata": {},
   "outputs": [
    {
     "name": "stdout",
     "output_type": "stream",
     "text": [
      "10\n",
      "2 3 4 5 6 8 7 6 5 18\n",
      "6\n",
      "6 55\n",
      "6 45\n",
      "6 55\n",
      "4 40\n",
      "18 60\n",
      "10 50\n",
      "\n",
      "200\n"
     ]
    }
   ],
   "source": [
    "from collections import Counter\n",
    "\n",
    "# X --> number of shoes\n",
    "X = int(input())\n",
    "\n",
    "# sizes --> shoe sizes \n",
    "\n",
    "# map(func, iterable)\n",
    "# int(x=0, base=10)\n",
    "# Counter([iterable-or-mapping])\n",
    "sizes = Counter(map(int, input().split()))\n",
    "# N -->  number of customers\n",
    "N = int(input())\n",
    "\n",
    "money = 0\n",
    "# range(start, stop, step)\n",
    "for i in range(N):\n",
    "    # Show size, shoe price\n",
    "    size, price = map(int, input().split())\n",
    "    if sizes[size] > 0:\n",
    "        sizes[size] -= 1\n",
    "        money += price\n",
    "\n",
    "print(\"\")\n",
    "print(money)"
   ]
  },
  {
   "cell_type": "markdown",
   "metadata": {},
   "source": [
    "**2. DefaultDict Tutorial**\n",
    "  \n",
    "  - you will be given 2 integers, n and m.\n",
    "  - There are n words, which might repeat, in word group A. \n",
    "  - There are  words belonging to word group B.\n",
    "  - For each m words, check whether the word has appeared in group A or not.\n",
    "  - Print the indices of each occurrence of m in group A. If it does not appear, print -1. "
   ]
  },
  {
   "cell_type": "code",
   "execution_count": 13,
   "metadata": {},
   "outputs": [
    {
     "name": "stdout",
     "output_type": "stream",
     "text": [
      "5 2\n",
      "a\n",
      "a\n",
      "b\n",
      "a\n",
      "b\n",
      "a\n",
      "1 2 4\n",
      "b\n",
      "3 5\n",
      " \n",
      "defaultdict(<class 'list'>, {'a': [1, 2, 4], 'b': [3, 5]})\n"
     ]
    }
   ],
   "source": [
    "from collections import defaultdict\n",
    "\n",
    "# length of two list\n",
    "\n",
    "# map(func, iterable)\n",
    "# int(x=0, base=10)\n",
    "n, m = map(int, input().split())\n",
    "\n",
    "# defaultdict(default_factory)\n",
    "# default_factory --> data type.\n",
    "A = defaultdict(list)\n",
    "\n",
    "# range(start, stop, step)\n",
    "for i in range(1, n + 1):\n",
    "    # append(elmnt)\n",
    "    A[input()].append(i)\n",
    "for _ in range(m):\n",
    "    key = input()\n",
    "    if key in A:\n",
    "        print(*A[key])\n",
    "    else:\n",
    "        print(-1)\n",
    "       \n",
    "\n",
    "print(\" \")    \n",
    "print(A)   "
   ]
  },
  {
   "cell_type": "markdown",
   "metadata": {},
   "source": [
    "**3.collections.namedtuple()**\n",
    "\n",
    "  - you have a spreadsheet containing a list of student's ID, marks, class and name.\n",
    "  - calculate the average marks of the students."
   ]
  },
  {
   "cell_type": "code",
   "execution_count": 15,
   "metadata": {},
   "outputs": [
    {
     "name": "stdout",
     "output_type": "stream",
     "text": [
      "5\n",
      "ID         MARKS      NAME       CLASS \n",
      "1          97         Raymond    7 \n",
      "2          50         Steven     4   \n",
      "3          91         Adrian     9   \n",
      "4          72         Stewart    5    \n",
      "5          80         Peter      6   \n",
      "\n",
      "average marks:  78.0\n"
     ]
    }
   ],
   "source": [
    "import numpy as np\n",
    "from collections import namedtuple\n",
    "\n",
    "\n",
    "# int(x=0, base=10)\n",
    "N = int(input())   # number of students\n",
    "\n",
    "# string.split(separator, maxsplit)\n",
    "columns = input().split()\n",
    "\n",
    "# namedtuple(typename, field_names)\n",
    "Student = namedtuple(\"Student\", columns)\n",
    "\n",
    "students = []\n",
    "# range(start, stop, step)\n",
    "for i in range(N):\n",
    "    # append(elmnt)\n",
    "    students.append(Student(*input().split()))\n",
    "    # numpy.mean(arr, axis = None)\n",
    "    # float([x])\n",
    "mark_average = np.mean([float(student.MARKS) for student in students])\n",
    "\n",
    "print(\"\")\n",
    "print(\"average marks: \", mark_average)"
   ]
  },
  {
   "cell_type": "markdown",
   "metadata": {},
   "source": [
    "**4. collections.OrderedDict**\n",
    "\n",
    "  - You are the manager of a supermarket.\n",
    "  - You have a list of N items together with their prices that consumers bought on a particular day.\n",
    "  - Your task is to print each item_name and net_price in order of its first occurrence."
   ]
  },
  {
   "cell_type": "code",
   "execution_count": 17,
   "metadata": {},
   "outputs": [
    {
     "name": "stdout",
     "output_type": "stream",
     "text": [
      "9\n",
      "BANANA FRIES 12\n",
      "POTATO CHIPS 30\n",
      "APPLE JUICE 10\n",
      "CANDY 5\n",
      "APPLE JUICE 10\n",
      "CANDY 5\n",
      "CANDY 5\n",
      "CANDY 5\n",
      "POTATO CHIPS 30\n",
      "\n",
      "BANANA FRIES 12\n",
      "POTATO CHIPS 60\n",
      "APPLE JUICE 20\n",
      "CANDY 20\n"
     ]
    }
   ],
   "source": [
    "from collections import OrderedDict\n",
    "\n",
    "# collections.OrderDict()\n",
    "items = OrderedDict()\n",
    "\n",
    "# number of items\n",
    "N = int(input())\n",
    "# range(start, stop, step)\n",
    "for _ in range(N):\n",
    "    # string.rpartition(separator)\n",
    "    line = input().rpartition(\" \")\n",
    "    price = int(line[2])\n",
    "    name = line[0]\n",
    "    if (name in items):\n",
    "        items[name] += price\n",
    "    else:\n",
    "        items[name] = price\n",
    "\n",
    "print(\"\")  \n",
    "# string.join(iterable\n",
    "# str(object, encoding='utf-8', errors='strict')\n",
    "print (*[\" \".join((key, str(items[key]))) for key in items], sep = \"\\n\")"
   ]
  },
  {
   "cell_type": "markdown",
   "metadata": {},
   "source": [
    "**5. Word Order**\n",
    "\n",
    "  - You are given n words. Some words may repeat.\n",
    "  - For each word, output its number of occurrences.\n",
    "  - The output order should correspond with the input order of appearance of the word."
   ]
  },
  {
   "cell_type": "code",
   "execution_count": 22,
   "metadata": {},
   "outputs": [
    {
     "name": "stdout",
     "output_type": "stream",
     "text": [
      "4\n",
      "bcdef\n",
      "abcdefg\n",
      "bcde\n",
      "bcdef\n",
      "\n",
      "number of distinct words:  3\n",
      "\n",
      "2 1 1\n"
     ]
    }
   ],
   "source": [
    "from collections import OrderedDict\n",
    "\n",
    "words = OrderedDict()\n",
    "n = int(input())\n",
    "for _ in range(n):\n",
    "    key = input()\n",
    "    \n",
    "    if (key in words):\n",
    "        words[key] += 1\n",
    "    else:\n",
    "        words[key] = 1\n",
    "    \n",
    "#     words[key] = words.get(key, 0) + 1\n",
    "print(\"\")\n",
    "print (\"number of distinct words: \", len(words))\n",
    "print(\"\")\n",
    "\n",
    "# output the number of occurrences for each distinct word according to their appearance in the input.\n",
    "print(*[str(words[key]) for key in words], sep = \" \")"
   ]
  },
  {
   "cell_type": "markdown",
   "metadata": {},
   "source": [
    "**6. collections.deque()**\n",
    "\n",
    "  - Perform append, pop, popleft and appendleft methods on an empty deque d."
   ]
  },
  {
   "cell_type": "code",
   "execution_count": 27,
   "metadata": {},
   "outputs": [
    {
     "name": "stdout",
     "output_type": "stream",
     "text": [
      "6\n",
      "append 1\n",
      "append 2\n",
      "append 3\n",
      "appendleft 4\n",
      "pop\n",
      "popleft\n",
      "\n",
      "1 2\n"
     ]
    }
   ],
   "source": [
    "from collections import deque\n",
    "\n",
    "# collections.deque(list)\n",
    "d = deque()\n",
    "\n",
    "# operation number\n",
    "N = int(input())\n",
    "\n",
    "# range(start, stop, step)\n",
    "for _ in range(N):\n",
    "    # string.split(separator, maxsplit)\n",
    "    # op --> operation\n",
    "    # *num --> num used in op\n",
    "    op, *num = input().split()\n",
    "    # getattr(object, name[, default])\n",
    "    getattr(d, op)(*num)\n",
    "    \n",
    "print(\"\")    \n",
    "print (*[item for item in d], sep = \" \")"
   ]
  },
  {
   "cell_type": "markdown",
   "metadata": {},
   "source": [
    "**7. Piling Up!**\n",
    "\n",
    "  - There is a horizontal row of n cubes. The length of each cube is given.\n",
    "  - You need to create a new vertical pile of cubes.\n",
    "  - The new pile should follow these directions: if cube_i is on top of cube_j then sidelength_j > sidelength_i .\n",
    "  - When stacking the cubes, you can only pick up either the leftmost or the rightmost cube each time.\n",
    "     - Print \"Yes\" if it is possible to stack the cubes.\n",
    "     - Otherwise, print \"No\". Do not print the quotation marks."
   ]
  },
  {
   "cell_type": "code",
   "execution_count": 28,
   "metadata": {},
   "outputs": [
    {
     "name": "stdout",
     "output_type": "stream",
     "text": [
      "2\n",
      "6\n",
      "4 3 2 1 3 4\n",
      "Yes\n",
      "3\n",
      "1 3 2\n",
      "No\n"
     ]
    }
   ],
   "source": [
    "from collections import deque\n",
    "\n",
    "# the number of test cases\n",
    "T = int(input())\n",
    "\n",
    "while(T > 0):\n",
    "    # number of items in each test case\n",
    "    n = int(input())\n",
    "    \n",
    "    items = list(map(int, input().split()))\n",
    "    \n",
    "    deq_items = deque(items)\n",
    "    # Right most item in deque\n",
    "    rm = deq_items.pop()\n",
    "    # Left most item in deque\n",
    "    lm = deq_items.popleft()\n",
    "    # csv --> current stack value\n",
    "    csv = lm if lm > rm else rm\n",
    "       \n",
    "    flag = False\n",
    "    while(len(deq_items) > 0):\n",
    "        if(lm >= rm and lm <= csv):\n",
    "            csv = lm\n",
    "            lm = deq_items.popleft()\n",
    "            latest = lm\n",
    "        elif(rm > lm and rm <= csv):\n",
    "            csv = rm\n",
    "            rm = deq_items.pop()\n",
    "            latest = rm\n",
    "        else:\n",
    "            flag = True\n",
    "            break\n",
    "    \n",
    "    if flag or latest > csv:\n",
    "        print(\"No\")\n",
    "    else:\n",
    "        print(\"Yes\")\n",
    "        \n",
    "    T -= 1     "
   ]
  },
  {
   "cell_type": "markdown",
   "metadata": {},
   "source": [
    "**8. Company Logo**"
   ]
  },
  {
   "cell_type": "code",
   "execution_count": 33,
   "metadata": {},
   "outputs": [
    {
     "name": "stdout",
     "output_type": "stream",
     "text": [
      "aabbbccde\n",
      "['a', 'a', 'b', 'b', 'b', 'c', 'c', 'd', 'e']\n",
      "\n",
      "Counter({'b': 3, 'a': 2, 'c': 2, 'd': 1, 'e': 1})\n",
      "\n",
      "[('b', 3), ('a', 2), ('c', 2)]\n",
      "\n",
      "b 3\n",
      "a 2\n",
      "c 2\n"
     ]
    }
   ],
   "source": [
    "from collections import Counter\n",
    "\n",
    "# sorted(iterable, reverse = False)\n",
    "company_name = sorted(input())\n",
    "print(company_name)\n",
    "print(\"\")\n",
    "\n",
    "# Counter([iterable-or-mapping])\n",
    "c = Counter(company_name)\n",
    "print(c)\n",
    "print(\"\")\n",
    "\n",
    "# most_common([n])\n",
    "most_common_3 = Counter(company_name).most_common(3)\n",
    "print(most_common_3)\n",
    "print(\"\")\n",
    "\n",
    "for i,j in most_common_3:\n",
    "    print(i,j)"
   ]
  },
  {
   "cell_type": "code",
   "execution_count": null,
   "metadata": {},
   "outputs": [],
   "source": []
  }
 ],
 "metadata": {
  "kernelspec": {
   "display_name": "Python 3",
   "language": "python",
   "name": "python3"
  },
  "language_info": {
   "codemirror_mode": {
    "name": "ipython",
    "version": 3
   },
   "file_extension": ".py",
   "mimetype": "text/x-python",
   "name": "python",
   "nbconvert_exporter": "python",
   "pygments_lexer": "ipython3",
   "version": "3.6.9"
  }
 },
 "nbformat": 4,
 "nbformat_minor": 4
}
