{
 "cells": [
  {
   "cell_type": "markdown",
   "metadata": {},
   "source": [
    "**1. XML 1 - Find the Score**\n",
    "\n",
    "  - Given a valid XML document, print its score.\n",
    "  - The score is calculated by the sum of the score of each element.\n",
    "    - For any element, the score is equal to the number of attributes it has."
   ]
  },
  {
   "cell_type": "code",
   "execution_count": 15,
   "metadata": {},
   "outputs": [
    {
     "name": "stdout",
     "output_type": "stream",
     "text": [
      "6\n",
      "<feed xml:lang='en'>\n",
      " <title>HackerRank</title>\n",
      "<subtitle lang='en'>Programming challenges</subtitle>\n",
      " <link rel='alternate' type='text/html' href='http://hackerrank.com/'/>\n",
      " <updated>2013-12-25T12:00:00</updated>\n",
      "</feed>\n",
      "Number of Attributes: 5\n"
     ]
    }
   ],
   "source": [
    "import xml.etree.ElementTree as ET\n",
    "\n",
    "# number of lines in the XML document\n",
    "N = int(input())\n",
    "# range(start, stop, step)\n",
    "for _ in range(N):\n",
    "    # string.join(iterable)\n",
    "    xml = ''.join(input())\n",
    "\n",
    "# ElementTree(element=None, file=None)\n",
    "# fromstring(text, parser=None)\n",
    "tree = ET.ElementTree(ET.fromstring(xml))\n",
    "\n",
    "def get_attr_number(node):\n",
    "    # attrib --> A dictionary containing the element’s attributes\n",
    "    return len(node.attrib) + sum(get_attr_number(child) for child in node)\n",
    "\n",
    "# getroot() --> Returns the root element for this tree.\n",
    "print(\"Number of Attributes:\",get_attr_number(tree.getroot()))"
   ]
  },
  {
   "cell_type": "markdown",
   "metadata": {},
   "source": [
    "**2. XML2 - Find the Maximum Depth**\n",
    "\n",
    "  - Given a valid XML document, print the maximum level of nesting in it.\n",
    "  - Take the depth of the root as 0."
   ]
  },
  {
   "cell_type": "code",
   "execution_count": 22,
   "metadata": {},
   "outputs": [
    {
     "name": "stdout",
     "output_type": "stream",
     "text": [
      "6\n",
      "<feed xml:lang='en'>\n",
      "<title>HackerRank</title>\n",
      "<subtitle lang='en'>Programming challenges</subtitle>\n",
      "<link rel='alternate' type='text/html' href='http://hackerrank.com/'/>\n",
      "<updated>2013-12-25T12:00:00</updated>\n",
      "</feed>\n",
      "Max depth: 1\n"
     ]
    }
   ],
   "source": [
    "import xml.etree.ElementTree as ET\n",
    "\n",
    "maxdepth = 0\n",
    "def depth(elem, level):\n",
    "    global maxdepth\n",
    "    # your code goes here\n",
    "    if level == maxdepth:\n",
    "        maxdepth += 1\n",
    "    for child in elem:\n",
    "        depth(child, level + 1)    \n",
    "\n",
    "if __name__ == '__main__':\n",
    "    # the number of lines in the XML document\n",
    "    n = int(input())\n",
    "    \n",
    "    xml = \"\"\n",
    "    for i in range(n):\n",
    "        xml =  xml + input() + \"\\n\"\n",
    "    \n",
    "    # ElementTree(element=None, file=None)\n",
    "    # fromstring(text, parser=None)\n",
    "    tree = ET.ElementTree(ET.fromstring(xml))\n",
    "    # getroot() --> Returns the root element for this tree.\n",
    "    depth(tree.getroot(), -1)\n",
    "    print(\"Max depth:\",maxdepth)"
   ]
  },
  {
   "cell_type": "markdown",
   "metadata": {},
   "source": [
    "**3. Standardize Mobile Number Using Decorators**\n",
    "\n",
    "  - Given N mobile numbers.\n",
    "  - Sort them in ascending order then print them in the standard format shown below: +91 xxxxx xxxxx"
   ]
  },
  {
   "cell_type": "code",
   "execution_count": 3,
   "metadata": {},
   "outputs": [
    {
     "name": "stdout",
     "output_type": "stream",
     "text": [
      "3\n",
      "07895462130\n",
      "919875641230\n",
      "9195969878\n",
      "+91 78954 62130\n",
      "+91 91959 69878\n",
      "+91 98756 41230\n"
     ]
    }
   ],
   "source": [
    "def wrapper(func):\n",
    "    def fun(l):\n",
    "        # complete the function\n",
    "        selceted_number = []\n",
    "        for number in l:\n",
    "            c = \"\"\n",
    "            # [::-1] --> reverse list number \n",
    "            # [0:10] --> selcet first 10 number in reversed list to git rid of any additionl number\n",
    "            # [::-1] --> reverse the list number again after gitting rid of any additionl number\n",
    "            c = number[::-1][0:10][::-1]\n",
    "            c = \" \".join([\"+91\"] + [c[0:5], c[5:]])\n",
    "            selceted_number.append(c)\n",
    "        # func(selceted_number) --> sort_phone(selceted_number)    \n",
    "        func(selceted_number)    \n",
    "    return fun\n",
    "\n",
    "@wrapper\n",
    "def sort_phone(l):\n",
    "    # sorted(iterable, key=key, reverse=reverse)\n",
    "    print(*sorted(l), sep='\\n')\n",
    "\n",
    "if __name__ == '__main__':\n",
    "    l = [input() for _ in range(int(input()))]\n",
    "    sort_phone(l) "
   ]
  },
  {
   "cell_type": "markdown",
   "metadata": {},
   "source": [
    "**4. Decorators 2 - Name Directory**\n",
    "\n",
    "  - Given some information about N people.\n",
    "  - Each person has a first name, last name, age and sex.\n",
    "  - Print their names in a specific format sorted by their age in ascending order i.e.\n",
    "  - The youngest person's name should be printed first.\n",
    "  - For two people of the same age, print them in the order of their input.\n"
   ]
  },
  {
   "cell_type": "code",
   "execution_count": 5,
   "metadata": {},
   "outputs": [
    {
     "name": "stdout",
     "output_type": "stream",
     "text": [
      "3\n",
      "Mike Thomson 20 M\n",
      "Robert Bustle 32 M\n",
      "Andria Bustle 30 F\n",
      "\n",
      "Mr. Mike Thomson\n",
      "Ms. Andria Bustle\n",
      "Mr. Robert Bustle\n"
     ]
    }
   ],
   "source": [
    "import operator\n",
    "\n",
    "def person_lister(func):\n",
    "    def inner(people):\n",
    "        # complete the function\n",
    "        # Sort by Age\n",
    "        # people = \"first name, last name, age and sex\" \n",
    "        # sorted(iterable, key=key, reverse=reverse)\n",
    "        people = sorted(people, key = lambda x: int(x[2]))\n",
    "        # list of sorted people based on age\n",
    "        sorted_people = []\n",
    "        for p in people:\n",
    "            # func(p) --> name_format(person)\n",
    "            sorted_people.append(func(p))\n",
    "        return sorted_people    \n",
    "    return inner\n",
    "\n",
    "@person_lister\n",
    "def name_format(person):\n",
    "    return (\"Mr. \" if person[3] == \"M\" else \"Ms. \") + person[0] + \" \" + person[1]\n",
    "\n",
    "if __name__ == '__main__':\n",
    "    # string.split(separator, maxsplit)\n",
    "    # range(start, stop, step)\n",
    "    people = [input().split() for i in range(int(input()))]\n",
    "    # print(object(s), sep=separator, end=end, file=file, flush=flush)\n",
    "    print()\n",
    "    print(*name_format(people), sep='\\n')"
   ]
  },
  {
   "cell_type": "markdown",
   "metadata": {},
   "source": [
    "**5. Words Score**\n",
    "\n",
    "  - task is to debug the existing code to successfully execute all provided test files.\n",
    "     - Consider that vowels in the alphabet are a, e, i, o, u and y.\n",
    "     - Function score_words takes a list of lowercase words as an argument and returns a score as follows:\n",
    "        - The score of a single word is 2 if the word contains an even number of vowels.\n",
    "        - Otherwise, the score of this word is 1.\n",
    "        - The score for the whole list of words is the sum of scores of all words in the list."
   ]
  },
  {
   "cell_type": "code",
   "execution_count": 10,
   "metadata": {},
   "outputs": [
    {
     "name": "stdout",
     "output_type": "stream",
     "text": [
      "3\n",
      "programming is awesome\n",
      "\n",
      "Words Score:  4\n"
     ]
    }
   ],
   "source": [
    "def is_vowel(letter):\n",
    "    return letter in ['a', 'e', 'i', 'o', 'u', 'y']\n",
    "\n",
    "def score_words(words):\n",
    "    score = 0\n",
    "    for word in words:\n",
    "        num_vowels = 0\n",
    "        for letter in word:\n",
    "            if is_vowel(letter):\n",
    "                num_vowels += 1\n",
    "        # even number of vowels        \n",
    "        if num_vowels % 2 == 0:\n",
    "            score += 2\n",
    "        else:\n",
    "            # odd number of vowels\n",
    "            score += 1\n",
    "    return score\n",
    "\n",
    "\n",
    "n = int(input())\n",
    "# string.split(separator, maxsplit)\n",
    "words = input().split()\n",
    "print()\n",
    "print(\"Words Score: \",score_words(words))"
   ]
  },
  {
   "cell_type": "markdown",
   "metadata": {},
   "source": [
    "**6. Arrays**\n",
    "\n",
    "   - Given a space separated list of numbers.\n",
    "   - Task is to print a reversed NumPy array with the element type float."
   ]
  },
  {
   "cell_type": "code",
   "execution_count": 12,
   "metadata": {},
   "outputs": [
    {
     "name": "stdout",
     "output_type": "stream",
     "text": [
      "1 2 3 4 -8 -10\n",
      "[-10.  -8.   4.   3.   2.   1.]\n"
     ]
    }
   ],
   "source": [
    "import numpy as np\n",
    "\n",
    "def arrays(arr):\n",
    "    # numpy.array(object, dtype=None, *, copy=True, order='K', subok=False, ndmin=0)\n",
    "    return(np.array(arr[::-1], float))\n",
    "\n",
    "# string.strip(characters)\n",
    "# string.split(separator, maxsplit)\n",
    "arr = input().strip().split(' ')\n",
    "result = arrays(arr)\n",
    "print(result)"
   ]
  },
  {
   "cell_type": "markdown",
   "metadata": {},
   "source": [
    "**7. Shape and Reshape**\n",
    "\n",
    "   - You are given a space separated list of nine integers. \n",
    "   - Task is to convert this list into a 3 X 3 NumPy array."
   ]
  },
  {
   "cell_type": "code",
   "execution_count": 15,
   "metadata": {},
   "outputs": [
    {
     "name": "stdout",
     "output_type": "stream",
     "text": [
      "1 2 3 4 5 6 7 8 9\n",
      "[[1 2 3]\n",
      " [4 5 6]\n",
      " [7 8 9]]\n"
     ]
    }
   ],
   "source": [
    "import numpy as np\n",
    "arr = input().split()\n",
    "# numpy.reshape(a, newshape, order='C')\n",
    "# numpy.array(object, dtype=None, *, copy=True, order='K', subok=False, ndmin=0)\n",
    "print(np.array(arr, int).reshape(3, 3))"
   ]
  },
  {
   "cell_type": "markdown",
   "metadata": {},
   "source": [
    "**8. Default Arguments**\n",
    "\n",
    "  - For each keyword argument of a function, we can assign a default value.\n",
    "  - which is going to be used as the value of said argument if the function is called without it. "
   ]
  },
  {
   "cell_type": "code",
   "execution_count": 18,
   "metadata": {},
   "outputs": [
    {
     "name": "stdout",
     "output_type": "stream",
     "text": [
      "3\n",
      "odd 2\n",
      "1\n",
      "3\n",
      "even 3\n",
      "0\n",
      "2\n",
      "4\n",
      "odd 5\n",
      "1\n",
      "3\n",
      "5\n",
      "7\n",
      "9\n"
     ]
    }
   ],
   "source": [
    "class EvenStream(object):\n",
    "    def __init__(self):\n",
    "        self.current = 0\n",
    "\n",
    "    def get_next(self):\n",
    "        to_return = self.current\n",
    "        self.current += 2\n",
    "        return to_return\n",
    "\n",
    "class OddStream(object):\n",
    "    def __init__(self):\n",
    "        self.current = 1\n",
    "\n",
    "    def get_next(self):\n",
    "        to_return = self.current\n",
    "        self.current += 2\n",
    "        return to_return\n",
    "\n",
    "def print_from_stream(n, stream = None):\n",
    "    if stream is None:\n",
    "        stream = EvenStream()\n",
    "    for _ in range(n):\n",
    "        print(stream.get_next())\n",
    "\n",
    "\n",
    "queries = int(input())\n",
    "for _ in range(queries):\n",
    "    # string.split(separator, maxsplit)\n",
    "    stream_name, n = input().split()\n",
    "    n = int(n)\n",
    "    if stream_name == \"even\":\n",
    "        print_from_stream(n)\n",
    "    else:\n",
    "        print_from_stream(n, OddStream())\n"
   ]
  },
  {
   "cell_type": "markdown",
   "metadata": {},
   "source": [
    "**9. Transpose and Flatten**\n",
    "\n",
    "  - Given a X integer array matrix with space separated elements ( = rows and  = columns).\n",
    "  - Task is to print the transpose and flatten results."
   ]
  },
  {
   "cell_type": "code",
   "execution_count": 40,
   "metadata": {},
   "outputs": [
    {
     "name": "stdout",
     "output_type": "stream",
     "text": [
      "2 2 \n",
      "1 2 \n",
      "3 4\n",
      "[[1 3]\n",
      " [2 4]]\n",
      "[1 2 3 4]\n"
     ]
    }
   ],
   "source": [
    "import numpy as np\n",
    "\n",
    "# N --> row numbers \n",
    "# M --> columns number\n",
    "N, M = list(map(int, input().split()))\n",
    "\n",
    "lines = []\n",
    "for _ in range(N):\n",
    "    # map(func, iterable)\n",
    "    # string.split(separator, maxsplit)\n",
    "    lines.append(list(map(int, input().split())))\n",
    "\n",
    "# numpy.array(object, dtype=None, *, copy=True, order='K', subok=False, ndmin=0)\n",
    "arr = np.array(lines) \n",
    "# numpy.transpose(a, axes=None)\n",
    "print(np.transpose(arr))\n",
    "print(arr.flatten())"
   ]
  },
  {
   "cell_type": "markdown",
   "metadata": {},
   "source": [
    "**10. Concatenate** \n",
    "\n",
    "  - Given two integer arrays of size N X P and M X P (N & M are rows, and P is the column).\n",
    "  - Task is to concatenate the arrays along axis 0."
   ]
  },
  {
   "cell_type": "code",
   "execution_count": 44,
   "metadata": {},
   "outputs": [
    {
     "name": "stdout",
     "output_type": "stream",
     "text": [
      "4 3 2\n",
      "1 2\n",
      "1 2\n",
      "1 2\n",
      "1 2\n",
      "3 4\n",
      "3 4\n",
      "3 4\n",
      "[[1 2]\n",
      " [1 2]\n",
      " [1 2]\n",
      " [1 2]\n",
      " [3 4]\n",
      " [3 4]\n",
      " [3 4]]\n"
     ]
    }
   ],
   "source": [
    "import numpy as np\n",
    "\n",
    "# N --> # arr1 rows \n",
    "# M --> # arr2 rows\n",
    "# P --> # arr1 & arr2 columns\n",
    "N, M, P = list(map(int, input().split()))\n",
    "arr1 = []\n",
    "arr2 = []\n",
    "for _ in range(N) :\n",
    "    arr1.append(list(map(int, input().split())))\n",
    "for _ in range(M):\n",
    "    arr2.append(list(map(int, input().split())))\n",
    "    \n",
    "# numpy.array(object, dtype=None, *, copy=True, order='K', subok=False, ndmin=0)    \n",
    "nparr1 = np.array(arr1)\n",
    "nparr2 = np.array(arr2)\n",
    "\n",
    "#numpy.concatenate((a1, a2, ...), axis=0, out=None)\n",
    "print(np.concatenate((arr1, arr2), axis = 0))"
   ]
  },
  {
   "cell_type": "markdown",
   "metadata": {},
   "source": [
    "**11. Zeros and Ones**\n",
    "\n",
    "  - Given the shape of the array in the form of space-separated integers\n",
    "  - each integer representing the size of different dimensions\n",
    "  - Task is to print an array of the given shape and integer type using the tools numpy.zeros and numpy.ones."
   ]
  },
  {
   "cell_type": "code",
   "execution_count": 46,
   "metadata": {},
   "outputs": [
    {
     "name": "stdout",
     "output_type": "stream",
     "text": [
      "3 3 3\n",
      "[[[0 0 0]\n",
      "  [0 0 0]\n",
      "  [0 0 0]]\n",
      "\n",
      " [[0 0 0]\n",
      "  [0 0 0]\n",
      "  [0 0 0]]\n",
      "\n",
      " [[0 0 0]\n",
      "  [0 0 0]\n",
      "  [0 0 0]]]\n",
      "[[[1 1 1]\n",
      "  [1 1 1]\n",
      "  [1 1 1]]\n",
      "\n",
      " [[1 1 1]\n",
      "  [1 1 1]\n",
      "  [1 1 1]]\n",
      "\n",
      " [[1 1 1]\n",
      "  [1 1 1]\n",
      "  [1 1 1]]]\n"
     ]
    }
   ],
   "source": [
    "import numpy as np\n",
    "\n",
    "N = tuple(map(int, input().split()))\n",
    "\n",
    "# numpy.zeros(shape, dtype=float, order='C')\n",
    "print(np.zeros(N, dtype = numpy.int)) \n",
    "# numpy.ones(shape, dtype=None, order='C')\n",
    "print(np.ones(N, dtype = numpy.int))"
   ]
  },
  {
   "cell_type": "markdown",
   "metadata": {},
   "source": [
    "**12. Eye and Identity**\n",
    "\n",
    "  - Task is to print an array of size N X M with its main diagonal elements as 1's and 0's everywhere else."
   ]
  },
  {
   "cell_type": "code",
   "execution_count": 47,
   "metadata": {},
   "outputs": [
    {
     "name": "stdout",
     "output_type": "stream",
     "text": [
      "3 3\n",
      "[[1. 0. 0.]\n",
      " [0. 1. 0.]\n",
      " [0. 0. 1.]]\n"
     ]
    }
   ],
   "source": [
    "import numpy as np\n",
    "N, M = map(int, input().split())\n",
    "\n",
    "#numpy.eye(N, M=None, k=0, dtype=<class 'float'>, order='C')\n",
    "print(np.eye(N, M, k = 0))"
   ]
  },
  {
   "cell_type": "markdown",
   "metadata": {},
   "source": [
    "**13. Array Mathematics**"
   ]
  },
  {
   "cell_type": "code",
   "execution_count": 52,
   "metadata": {},
   "outputs": [
    {
     "name": "stdout",
     "output_type": "stream",
     "text": [
      "1 4 \n",
      "1 2 3 4\n",
      "5 6 7 8\n",
      "\n",
      "Add:  [[ 6  8 10 12]]\n",
      "Sub:  [[-4 -4 -4 -4]]\n",
      "Mul:  [[ 5 12 21 32]]\n",
      "Div:  [[0 0 0 0]]\n",
      "Mod:  [[1 2 3 4]]\n",
      "Power A^B:  [[    1    64  2187 65536]]\n"
     ]
    }
   ],
   "source": [
    "import numpy as np\n",
    "\n",
    "N,M = map(int, input().split())\n",
    "\n",
    "A = numpy.array([list(map(int, input().split())) for n in range(N)])\n",
    "B = numpy.array([list(map(int, input().split())) for n in range(N)])\n",
    "\n",
    "print()\n",
    "# numpy.add(arr1, arr2, /, out=None, *, where=True, casting=’same_kind’, order=’K’, dtype=None, subok=True[, signature, extobj], ufunc ‘add’)\n",
    "print(\"Add: \",numpy.add(A,B))\n",
    "# numpy.subtract(arr1, arr2, /, out=None, *, where=True, casting=’same_kind’, order=’K’, dtype=None, subok=True[, signature, extobj], ufunc ‘subtract’)\n",
    "print(\"Sub: \",numpy.subtract(A,B))\n",
    "# numpy.multiply(arr1, arr2, /, out=None, *, where=True, casting=’same_kind’, order=’K’, dtype=None, subok=True[, signature, extobj], ufunc ‘multiply’)\n",
    "print(\"Mul: \",numpy.multiply(A,B))\n",
    "\n",
    "div = A / B\n",
    "\n",
    "# int_ --> Integer (-32768 to 32767)\n",
    "print(\"Div: \",numpy.int16(div))\n",
    "# numpy.mod(arr1, arr2, /, out=None, *, where=True, casting=’same_kind’, order=’K’, dtype=None, subok=True[, signature, extobj], ufunc ‘remainder’)\n",
    "print(\"Mod: \",numpy.mod(A,B))\n",
    "# numpy.power(arr1, arr2, out = None, where = True, casting = ‘same_kind’, order = ‘K’, dtype = None)\n",
    "print(\"Power A^B: \",numpy.power(A,B))\n"
   ]
  },
  {
   "cell_type": "markdown",
   "metadata": {},
   "source": [
    "**14. Floor, Ceil and Rint**\n",
    "\n",
    "  - Given a 1-D array, A. \n",
    "  - Task is to print the Floor, Ceil and Rint of all the elements of A."
   ]
  },
  {
   "cell_type": "code",
   "execution_count": 61,
   "metadata": {},
   "outputs": [
    {
     "name": "stdout",
     "output_type": "stream",
     "text": [
      "1.1 2.2 3.3 4.4 5.5 6.6 7.7 8.8 9.9\n",
      "\n",
      "Floor:  [1. 2. 3. 4. 5. 6. 7. 8. 9.]\n",
      "Ceil:  [ 2.  3.  4.  5.  6.  7.  8.  9. 10.]\n",
      "Rint:  [ 1.  2.  3.  4.  6.  7.  8.  9. 10.]\n"
     ]
    }
   ],
   "source": [
    "import numpy as np\n",
    "\n",
    "arr = np.array(list(map(float, input().split())))\n",
    "print()\n",
    "# numpy.floor(x, /, out=None, *, where=True, casting='same_kind', order='K', dtype=None, subok=True[, signature, extobj]) = <ufunc 'floor'>\n",
    "print(\"Floor: \",np.floor(arr))\n",
    "# numpy.ceil(x, /, out=None, *, where=True, casting='same_kind', order='K', dtype=None, subok=True[, signature, extobj]) = <ufunc 'ceil'>\n",
    "print(\"Ceil: \",np.ceil(arr))\n",
    "# numpy.rint(x, /, out=None, *, where=True, casting='same_kind', order='K', dtype=None, subok=True[, signature, extobj]) = <ufunc 'rint'>\n",
    "print(\"Rint: \",np.rint(arr))"
   ]
  },
  {
   "cell_type": "markdown",
   "metadata": {},
   "source": [
    "**15. Sum and Prod**\n",
    "\n",
    "  - Given a 2-D array with dimensions N X M.\n",
    "  - Task is to perform the sum tool over axis 0 and then find the product of that result."
   ]
  },
  {
   "cell_type": "code",
   "execution_count": 66,
   "metadata": {},
   "outputs": [
    {
     "name": "stdout",
     "output_type": "stream",
     "text": [
      "2 2\n",
      "1 2\n",
      "3 4\n",
      "24\n"
     ]
    }
   ],
   "source": [
    "import numpy as np\n",
    "N, M = map(int, input().split())\n",
    "\n",
    "arr = []\n",
    "for _ in range(N) :\n",
    "    # list.append(elmnt)\n",
    "    arr.append(list(map(int, input().split())))\n",
    "\n",
    "# numpy.array(object, dtype=None, *, copy=True, order='K', subok=False, ndmin=0)    \n",
    "nparr = np.array(arr)\n",
    "# numpy.prod(a, axis=None, dtype=None, out=None, keepdims=<no value>, initial=<no value>, where=<no value>)\n",
    "# numpy.sum(a, axis=None, dtype=None, out=None, keepdims=<no value>, initial=<no value>, where=<no value>)\n",
    "print(np.prod(np.sum(nparr, axis = 0)))"
   ]
  },
  {
   "cell_type": "markdown",
   "metadata": {},
   "source": [
    "**16. Min and Max**\n",
    "\n",
    "  - Given a 2-D array with dimensions N X M.\n",
    "  - Task is to perform the min function over axis 1 and then find the max of that."
   ]
  },
  {
   "cell_type": "code",
   "execution_count": 73,
   "metadata": {},
   "outputs": [
    {
     "name": "stdout",
     "output_type": "stream",
     "text": [
      "4 2\n",
      "2 5\n",
      "3 7\n",
      "1 3\n",
      "4 0\n",
      "\n",
      "The Max of Min along axis 1:  3\n"
     ]
    }
   ],
   "source": [
    "import numpy as np\n",
    "\n",
    "N, M = map(int, input().split())\n",
    "\n",
    "arr = []\n",
    "for _ in range(N) :\n",
    "    arr.append(list(map(int, input().split())))\n",
    "\n",
    "# numpy.array(object, dtype=None, *, copy=True, order='K', subok=False, ndmin=0)\n",
    "nparr = np.array(arr)\n",
    "\n",
    "print()\n",
    "# ndarray.max(axis=None, out=None, keepdims=False, initial=<no value>, where=True)\n",
    "# ndarray.min(axis=None, out=None, keepdims=False, initial=<no value>, where=True)\n",
    "print(\"The Max of Min along axis 1: \",np.max(numpy.min(nparr, axis = 1)))"
   ]
  },
  {
   "cell_type": "markdown",
   "metadata": {},
   "source": [
    "**17. Mean, Var, and Std**\n",
    "\n",
    "  - Given a 2-D array of size N X M.\n",
    "  - Task is to find:\n",
    "    - The mean along axis 1\n",
    "    - The var along axis 0\n",
    "    - The std along axis None"
   ]
  },
  {
   "cell_type": "code",
   "execution_count": 76,
   "metadata": {},
   "outputs": [
    {
     "name": "stdout",
     "output_type": "stream",
     "text": [
      "2 2\n",
      "1 2\n",
      "3 4\n",
      "\n",
      "Mean:  [1.5 3.5]\n",
      "Variance:  [1. 1.]\n",
      "Standard Deviation:  1.118033988749895\n"
     ]
    }
   ],
   "source": [
    "import numpy\n",
    "\n",
    "N, M = map(int, input().split())\n",
    "\n",
    "arr = []\n",
    "for _ in range(N) :\n",
    "    arr.append(list(map(int, input().split())))\n",
    "# numpy.array(object, dtype=None, *, copy=True, order='K', subok=False, ndmin=0)\n",
    "nparr = np.array(arr)\n",
    "\n",
    "print()\n",
    "# numpy.mean(a, axis=None, dtype=None, out=None, keepdims=<no value>)\n",
    "print(\"Mean: \",np.mean(nparr, axis = 1))\n",
    "# numpy.var(a, axis=None, dtype=None, out=None, ddof=0, keepdims=<no value>)             \n",
    "print(\"Variance: \",np.var(nparr, axis = 0))\n",
    "# numpy.std(a, axis=None, dtype=None, out=None, ddof=0, keepdims=<no value>)\n",
    "# std = sqrt(mean(abs(x - x.mean())**2))\n",
    "print(\"Standard Deviation: \",np.std(nparr, axis = None))"
   ]
  },
  {
   "cell_type": "markdown",
   "metadata": {},
   "source": [
    "**18. Dot and Cross**\n",
    "\n",
    "  - Given two arrays A and B. Both have dimensions of N X N.\n",
    "  - Task is to compute their matrix product."
   ]
  },
  {
   "cell_type": "code",
   "execution_count": 81,
   "metadata": {},
   "outputs": [
    {
     "name": "stdout",
     "output_type": "stream",
     "text": [
      "2\n",
      "1 2\n",
      "3 4\n",
      "1 2\n",
      "3 4\n",
      "\n",
      "[[ 7 10]\n",
      " [15 22]]\n"
     ]
    }
   ],
   "source": [
    "import numpy as np\n",
    "\n",
    "N = int(input())\n",
    "\n",
    "arr1 = []\n",
    "arr2 = []\n",
    "for _ in range(N) :\n",
    "    arr1.append(list(map(int, input().split())))\n",
    "for _ in range(M):\n",
    "    arr2.append(list(map(int, input().split())))\n",
    "\n",
    "# numpy.array(object, dtype=None, *, copy=True, order='K', subok=False, ndmin=0)    \n",
    "A = np.array(arr1)\n",
    "B = np.array(arr2)\n",
    "\n",
    "print()\n",
    "# numpy.dot(a, b, out=None)\n",
    "print(np.dot(A, B))"
   ]
  },
  {
   "cell_type": "markdown",
   "metadata": {},
   "source": [
    "**19. Inner and Outer**\n",
    "\n",
    "  - Given two arrays: A and B.\n",
    "  - Task is to compute their inner and outer product."
   ]
  },
  {
   "cell_type": "code",
   "execution_count": 86,
   "metadata": {},
   "outputs": [
    {
     "name": "stdout",
     "output_type": "stream",
     "text": [
      "0 1\n",
      "2 3\n",
      "3\n",
      "[[0 0]\n",
      " [2 3]]\n"
     ]
    }
   ],
   "source": [
    "import numpy as np\n",
    "\n",
    "A = np.array(input().split(), int)\n",
    "B = np.array(input().split(), int)\n",
    "# numpy.inner(a, b) \n",
    "# umpy.outer(a, b)\n",
    "print(np.inner(A, B), np.outer(A, B), sep='\\n')"
   ]
  },
  {
   "cell_type": "markdown",
   "metadata": {},
   "source": [
    "**20. Polynomials**\n",
    "\n",
    "  - Given the coefficients of a polynomial P.\n",
    "  - Task is to find the value of P at point x."
   ]
  },
  {
   "cell_type": "code",
   "execution_count": 87,
   "metadata": {},
   "outputs": [
    {
     "name": "stdout",
     "output_type": "stream",
     "text": [
      "1.1 2 3\n",
      "0\n",
      "3.0\n"
     ]
    }
   ],
   "source": [
    "import numpy as np\n",
    "\n",
    "m = np.array(input().split(), float)\n",
    "n = float(input())\n",
    "# numpy.polyval(p, x)\n",
    "print(np.polyval(m, n))"
   ]
  },
  {
   "cell_type": "markdown",
   "metadata": {},
   "source": [
    "**21. Linear Algebra**"
   ]
  },
  {
   "cell_type": "code",
   "execution_count": 88,
   "metadata": {},
   "outputs": [
    {
     "name": "stdout",
     "output_type": "stream",
     "text": [
      "2\n",
      "1.1 1.1\n",
      "1.1 1.1\n",
      "0.0\n"
     ]
    }
   ],
   "source": [
    "import numpy as np\n",
    "\n",
    "matrix_rank = int(input())\n",
    "matrix = np.array([input().split() for i in range(matrix_rank)],float)\n",
    "\n",
    "# round(number, digits)\n",
    "# numpy.linalg.det(a) --> Determinant of a\n",
    "print(round(np.linalg.det(matrix),2))"
   ]
  },
  {
   "cell_type": "code",
   "execution_count": null,
   "metadata": {},
   "outputs": [],
   "source": []
  }
 ],
 "metadata": {
  "kernelspec": {
   "display_name": "Python 3",
   "language": "python",
   "name": "python3"
  },
  "language_info": {
   "codemirror_mode": {
    "name": "ipython",
    "version": 3
   },
   "file_extension": ".py",
   "mimetype": "text/x-python",
   "name": "python",
   "nbconvert_exporter": "python",
   "pygments_lexer": "ipython3",
   "version": "3.6.9"
  }
 },
 "nbformat": 4,
 "nbformat_minor": 4
}
