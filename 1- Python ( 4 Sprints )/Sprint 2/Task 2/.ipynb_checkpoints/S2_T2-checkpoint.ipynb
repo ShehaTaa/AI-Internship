{
 "cells": [
  {
   "cell_type": "markdown",
   "metadata": {},
   "source": [
    "## Sprint 2 - Task 2"
   ]
  },
  {
   "cell_type": "markdown",
   "metadata": {},
   "source": [
    "**1. List Comprehensions**\n",
    "- You are given three integers x, y, and z representing the dimensions of a cuboid along with an integer n.<br />\n",
    "- Print a list of all possible coordinates given by (i, j, k) on a 3D grid where the sum of i + j + k is != to n.<br />\n",
    "- Note that 0 <= i <= x & 0 <= j <= y & 0 <= k <= z"
   ]
  },
  {
   "cell_type": "code",
   "execution_count": 8,
   "metadata": {},
   "outputs": [
    {
     "name": "stdout",
     "output_type": "stream",
     "text": [
      "1\n",
      "1\n",
      "2\n",
      "3\n",
      "[[0, 0, 0], [0, 0, 1], [0, 0, 2], [0, 1, 0], [0, 1, 1], [1, 0, 0], [1, 0, 1], [1, 1, 0], [1, 1, 2]]\n"
     ]
    }
   ],
   "source": [
    "if __name__ == '__main__':\n",
    "\n",
    "    x, y, z, n = (int(input()) for _ in range(4))\n",
    "    print ([[i, j, k] for i in range(x + 1) for j in range(y + 1) for k in range (z + 1) if ((i + j + k) != n)])"
   ]
  },
  {
   "cell_type": "markdown",
   "metadata": {},
   "source": [
    "**2. Given the names and grades for each student in a class of n students, store them in a nested list and print the name(s) of any student(s) having the second lowest grade.**\n",
    "\n",
    "Note: If there are multiple students with the second lowest grade, order their names alphabetically and print each name on a new line."
   ]
  },
  {
   "cell_type": "code",
   "execution_count": 14,
   "metadata": {},
   "outputs": [
    {
     "name": "stdout",
     "output_type": "stream",
     "text": [
      "5\n",
      "Ah\n",
      "56\n",
      "Mu\n",
      "56\n",
      "He\n",
      "60\n",
      "Ys\n",
      "60\n",
      "Us \n",
      "70\n",
      "\n",
      "He\n",
      "Ys\n"
     ]
    }
   ],
   "source": [
    "if __name__ == '__main__':\n",
    "    \n",
    "    '''\n",
    "     - sorted(iterable, key=None, reverse=False)\n",
    "     - Parameters for the sorted() function\n",
    "         - iterable - A sequence (string, tuple, list) or collection\n",
    "           (set, dictionary, frozen set) or any other iterator.\n",
    "         - reverse (Optional) - If True, the sorted list is reversed \n",
    "           (or sorted in descending order). Defaults to False if not provided.\n",
    "         - key (Optional) - A function that serves as a key for the sort comparison. Defaults to None.\n",
    "    '''\n",
    "    \n",
    "    # n: number of stu\n",
    "    n = int(input())\n",
    "    # list of stu name and mark\n",
    "    marksheet = [(input(), float(input())) for _ in range(n)]\n",
    "    # list of marks\n",
    "    marks = [mark for name, mark in marksheet]\n",
    "    # store second_high_mark \n",
    "    second_high_mark = sorted(set(marks))[1]\n",
    "    # store name of second_high_mark \n",
    "    names = [name for [name, grade] in marksheet if grade == second_high_mark]\n",
    "    print(\"\")\n",
    "    print(\"\\n\".join(sorted(names)))"
   ]
  },
  {
   "cell_type": "markdown",
   "metadata": {},
   "source": [
    "**3. Read in a dictionary containing key/value pairs of name:[marks] for a list of students and Print the average of the marks array for the student name provided, showing 2 places after the decimal.**"
   ]
  },
  {
   "cell_type": "code",
   "execution_count": 23,
   "metadata": {},
   "outputs": [
    {
     "name": "stdout",
     "output_type": "stream",
     "text": [
      "3\n",
      "a 1 2 3 \n",
      "s 4 5 6\n",
      "w 7 8 9\n",
      "w\n",
      "\n",
      "Averge Score of:w is 8.00\n"
     ]
    }
   ],
   "source": [
    "if __name__ == '__main__':\n",
    "    n = int(input())\n",
    "    student_marks = {}\n",
    "    for _ in range(n):\n",
    "        '''\n",
    "         - The * is being used to grab additional returns from the split statement.\n",
    "         - ex:-\n",
    "            first, *rest = input().split()\n",
    "            print(first)\n",
    "            print(*rest)\n",
    "            \n",
    "            let's enter \"Welcome to machine learning\" \n",
    "            It would print outP:-\n",
    "              Welcome\n",
    "             ['to', 'machine', 'learning']\n",
    "\n",
    "        '''\n",
    "        name, *marks = input().split()\n",
    "        # split the scores in the line and store them in a list\n",
    "        scores = list(map(float, marks))\n",
    "        # assign scores to each student\n",
    "        student_marks[name] = scores\n",
    "    # query by name    \n",
    "    query_name = input()\n",
    "    # store score of query student name\n",
    "    query_score = student_marks[query_name]\n",
    "    # calc average score of query student\n",
    "    avergae_score = (sum(query_score)/len(query_score))\n",
    "    print(\"\")\n",
    "    print(\"Averge Score of:{0} is {1:.2f}\".format(query_name, avergae_score))"
   ]
  },
  {
   "cell_type": "markdown",
   "metadata": {},
   "source": [
    "**4. Consider a list (list = []).perform the following commands:-**\n",
    "\n",
    "- insert i e: Insert integer e at position i.\n",
    "- print: Print the list.\n",
    "- remove e: Delete the first occurrence of integer e.\n",
    "- append e: Insert integer e at the end of the list.\n",
    "- sort: Sort the list.\n",
    "- pop: Pop the last element from the list.\n",
    "- reverse: Reverse the list.\n",
    "\n",
    "Initialize your list and read in the value of n followed by n lines of commands where each command will be of the  7 types listed above.\n",
    "Iterate through each command in order and perform the corresponding operation on your list."
   ]
  },
  {
   "cell_type": "code",
   "execution_count": 1,
   "metadata": {},
   "outputs": [
    {
     "name": "stdout",
     "output_type": "stream",
     "text": [
      "4\n",
      "append 1\n",
      "append 2\n",
      "insert 3 1\n",
      "print\n",
      "[1, 2, 1]\n"
     ]
    }
   ],
   "source": [
    "'''\n",
    "execute method parameters\n",
    " - lst --> my executing list\n",
    " - cmd --> my executing command like insert\n",
    " - *args --> value and index as list of strings\n",
    "     User data are like : insert 0 5\n",
    "     so, 0 is the index of the list\n",
    "     and 5 is the value stored at index 0 in list \n",
    "'''\n",
    "\n",
    "def execute(lst, cmd, *args):\n",
    "    if cmd == 'insert':\n",
    "        lst.insert(int(args[0]), int(args[1]))\n",
    "    elif cmd == 'print':\n",
    "        print(lst)\n",
    "    elif cmd == 'remove':\n",
    "        lst.remove(int(args[0]))\n",
    "    elif cmd == 'append':\n",
    "        lst.append(int(args[0]))\n",
    "    elif cmd == 'sort':\n",
    "        lst.sort()\n",
    "    elif cmd == 'reverse':\n",
    "        lst.reverse()\n",
    "    elif cmd == 'pop':\n",
    "        lst.pop()\n",
    "    else: \n",
    "        print(\"Command not recognized!\")\n",
    "\n",
    "lst = []\n",
    "for _ in range(int(input())):\n",
    "    execute(lst, *input().split())\n"
   ]
  },
  {
   "cell_type": "markdown",
   "metadata": {},
   "source": [
    "**5. Given an integer,n, and n space-separated integers as input, create a tuple, t, of those n integers.<br />\n",
    "    Then compute and print the result of hash(t).**"
   ]
  },
  {
   "cell_type": "code",
   "execution_count": 2,
   "metadata": {},
   "outputs": [
    {
     "name": "stdout",
     "output_type": "stream",
     "text": [
      "2\n",
      "1 2\n",
      "3713081631934410656\n"
     ]
    }
   ],
   "source": [
    "'''\n",
    "- The hash() method returns the hash value of an object if it has one.\n",
    "- Hash values are just integers that are used to compare dictionary keys during a dictionary lookup quickly.\n",
    "- Internally, hash() method calls __hash__() method of an object which is set by default for any object.\n",
    "- The syntax of hash() method is:-\n",
    "       hash(object)  \n",
    "- hash() Parameters\n",
    "     - hash() method takes a single parameter:-\n",
    "     - object --> the object whose hash value is to be returned (integer, string, float)     \n",
    "--------------------------------------------------------------------------------------------------     \n",
    "-The syntax of map() is:\n",
    "   - map(function, iterable, ...)  \n",
    "   - map() Parameter\n",
    "      - function - map() passes each item of the iterable to this function.\n",
    "      - iterable - iterable which is to be mapped\n",
    "      - You can pass more than one iterable to the map() function.\n",
    "   - Return Value from map()\n",
    "      - The map() function applies a given to function to each item of an iterable\n",
    "        and returns a list of the results.\n",
    "      - The returned value from map() (map object) can then be passed to functions\n",
    "        like list() (to create a list), set() (to create a set) and so on.\n",
    "'''\n",
    "\n",
    "if __name__ == '__main__':\n",
    "    n = int(input())\n",
    "    s = map(int, input().strip().split(\" \"))\n",
    "    t = tuple(s)\n",
    "    print(hash(t))"
   ]
  },
  {
   "cell_type": "markdown",
   "metadata": {},
   "source": [
    "**6. Given the participants' score sheet for your University Sports Day, you are required to find the runner-up score.<br /> You are given  scores. Store them in a list and find the score of the runner-up.**"
   ]
  },
  {
   "cell_type": "code",
   "execution_count": 3,
   "metadata": {},
   "outputs": [
    {
     "name": "stdout",
     "output_type": "stream",
     "text": [
      "5\n",
      "5 6 9 48 50 \n",
      "48\n"
     ]
    }
   ],
   "source": [
    "if __name__ == '__main__':\n",
    "    \n",
    "    n_of_scores = int(input())\n",
    "    scores = (map(int, input().split()))\n",
    "    # use set to prevent duplicate scores\n",
    "    s = set(scores)\n",
    "    # use sorted to sort in ascending order \n",
    "    # to get The score before the last\n",
    "    print(sorted(s)[-2])"
   ]
  },
  {
   "cell_type": "code",
   "execution_count": null,
   "metadata": {},
   "outputs": [],
   "source": []
  }
 ],
 "metadata": {
  "kernelspec": {
   "display_name": "Python 3",
   "language": "python",
   "name": "python3"
  },
  "language_info": {
   "codemirror_mode": {
    "name": "ipython",
    "version": 3
   },
   "file_extension": ".py",
   "mimetype": "text/x-python",
   "name": "python",
   "nbconvert_exporter": "python",
   "pygments_lexer": "ipython3",
   "version": "3.6.9"
  }
 },
 "nbformat": 4,
 "nbformat_minor": 4
}
