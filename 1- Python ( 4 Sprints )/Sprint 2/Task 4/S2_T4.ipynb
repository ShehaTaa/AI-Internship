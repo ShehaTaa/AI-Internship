{
 "cells": [
  {
   "cell_type": "markdown",
   "metadata": {},
   "source": [
    "**1. Average of set items**"
   ]
  },
  {
   "cell_type": "code",
   "execution_count": 1,
   "metadata": {},
   "outputs": [
    {
     "name": "stdout",
     "output_type": "stream",
     "text": [
      "10\n",
      "161 182 161 154 176 170 167 171 170 174\n",
      "169.375\n"
     ]
    }
   ],
   "source": [
    "def average(array):\n",
    "    return sum(set(array))/len(set(array))\n",
    "\n",
    "if __name__ == '__main__':\n",
    "    n = int(input())\n",
    "    arr = list(map(int, input().split()))\n",
    "    result = average(arr)\n",
    "    print(result)"
   ]
  },
  {
   "cell_type": "markdown",
   "metadata": {},
   "source": [
    "**2. Symmetric Difference**\n",
    "\n",
    "  - Given 2 sets of integers, M and N, print their symmetric difference in ascending order.\n",
    "  - The term symmetric difference indicates those values that exist in either M or N but do not exist in both."
   ]
  },
  {
   "cell_type": "code",
   "execution_count": 2,
   "metadata": {},
   "outputs": [
    {
     "name": "stdout",
     "output_type": "stream",
     "text": [
      "4\n",
      "2 4 5 9\n",
      "4\n",
      "2 4 11 12\n",
      "5\n",
      "9\n",
      "11\n",
      "12\n"
     ]
    }
   ],
   "source": [
    "set1_len = int(input())\n",
    "set1_item = set(map(int, input().split()))\n",
    "\n",
    "set2_len = int(input())\n",
    "set2_item = set(map(int, input().split()))\n",
    "\n",
    "'''\n",
    "- Symmetric Difference of A and B :-\n",
    "    is a set of elements in A and B but not in both (excluding the intersection).\n",
    "\n",
    "- Symmetric difference is performed using ^ operator.\n",
    "- Same can be accomplished using the method symmetric_difference().\n",
    "'''\n",
    "stm_dif = sorted(set1_item.symmetric_difference(set2_item))\n",
    "for i in stm_dif:\n",
    "    print(i)"
   ]
  },
  {
   "cell_type": "markdown",
   "metadata": {},
   "source": [
    "**3. Set .add()**\n",
    " \n",
    "  - Rupal has a huge collection of country stamps.\n",
    "  - She decided to count the total number of distinct country stamps in her collection.\n",
    "  - She asked for your help. You pick the stamps one by one from a stack of  country stamps.\n",
    "  - Find the total number of distinct country stamps."
   ]
  },
  {
   "cell_type": "code",
   "execution_count": 1,
   "metadata": {},
   "outputs": [
    {
     "name": "stdout",
     "output_type": "stream",
     "text": [
      "5\n",
      "UK\n",
      "China\n",
      "UK\n",
      "France\n",
      "USA\n",
      "4\n"
     ]
    }
   ],
   "source": [
    "num_country = int(input())\n",
    "countries = set(input() for i in range(num_country))\n",
    "print(len(countries))"
   ]
  },
  {
   "cell_type": "markdown",
   "metadata": {},
   "source": [
    "**4. Set discard(), remove(), pop()**\n",
    "  "
   ]
  },
  {
   "cell_type": "code",
   "execution_count": 3,
   "metadata": {},
   "outputs": [
    {
     "name": "stdout",
     "output_type": "stream",
     "text": [
      "4\n",
      "1 2 5 4\n",
      "3\n",
      "remove 4\n",
      "discard 2\n",
      "discard 4\n",
      "6\n"
     ]
    }
   ],
   "source": [
    "'''\n",
    " - discard() --> Removes an element from the set if it is a member. (Do nothing if the element is not in set)\n",
    " - remove() --> Removes an element from the set. If the element is not a member, raises a KeyError\n",
    " - pop() --> Removes and returns an arbitrary set element. Raises KeyError if the set is empty\n",
    "'''\n",
    "num_item = int(input())\n",
    "myset = set(map(int, input().split()))\n",
    "\n",
    "num_op = int(input())\n",
    "\n",
    "for i in range(num_op):\n",
    "    command = input().split()\n",
    "    if command[0] == \"remove\":\n",
    "         myset.remove(int(command[1]))\n",
    "    elif command[0] == \"discard\":\n",
    "         myset.discard(int(command[1]))\n",
    "    else:\n",
    "         myset.pop()\n",
    "print(sum(myset))"
   ]
  },
  {
   "cell_type": "markdown",
   "metadata": {},
   "source": [
    "**5. Set .union() Operation**"
   ]
  },
  {
   "cell_type": "code",
   "execution_count": 6,
   "metadata": {},
   "outputs": [
    {
     "name": "stdout",
     "output_type": "stream",
     "text": [
      "9\n",
      "1 2 3 4 5 6 7 8 9\n",
      "9\n",
      "10 1 2 3 11 21 55 6 8\n",
      "13\n"
     ]
    }
   ],
   "source": [
    "'''\n",
    "- Union of A and B :-\n",
    "   is a set of all elements from both sets.\n",
    "\n",
    "- Union is performed using | operator.\n",
    "- Same can be accomplished using the union() method.\n",
    "'''\n",
    "\n",
    "eng_stu_num = int(input())\n",
    "eng_stu = list(map(int, input().rstrip().split()))\n",
    "\n",
    "fre_stu_num = int(input())\n",
    "fre_stu = list(map(int, input().rstrip().split()))\n",
    "\n",
    "eng_stu_set = set(eng_stu)\n",
    "fre_stu_set = set(fre_stu)\n",
    "\n",
    "union_set = eng_stu_set.union(fre_stu_set)\n",
    "print(len(union_set)) "
   ]
  },
  {
   "cell_type": "markdown",
   "metadata": {},
   "source": [
    "**6. Set intersection() Operation**"
   ]
  },
  {
   "cell_type": "code",
   "execution_count": 8,
   "metadata": {},
   "outputs": [
    {
     "name": "stdout",
     "output_type": "stream",
     "text": [
      "9\n",
      "1 2 3 4 5 6 7 8 9\n",
      "9\n",
      "10 1 2 3 11 21 55 6 8\n",
      "5\n"
     ]
    }
   ],
   "source": [
    "'''\n",
    "- Intersection of A and B :-\n",
    "    is a set of elements that are common in both the sets.\n",
    "\n",
    "- Intersection is performed using & operator.\n",
    "- Same can be accomplished using the intersection() method.\n",
    "'''\n",
    "\n",
    "eng_stu_num = int(input())\n",
    "eng_stu = list(map(int, input().rstrip().split()))\n",
    "\n",
    "fre_stu_num = int(input())\n",
    "fre_stu = list(map(int, input().rstrip().split()))\n",
    "\n",
    "eng_stu_set = set(eng_stu)\n",
    "fre_stu_set = set(fre_stu)\n",
    "\n",
    "intersect_set = eng_stu_set.intersection(fre_stu_set)\n",
    "print(len(intersect_set))"
   ]
  },
  {
   "cell_type": "markdown",
   "metadata": {},
   "source": [
    "**7. Set difference() Operation:-**"
   ]
  },
  {
   "cell_type": "code",
   "execution_count": 9,
   "metadata": {},
   "outputs": [
    {
     "name": "stdout",
     "output_type": "stream",
     "text": [
      "9\n",
      "1 2 3 4 5 6 7 8 9\n",
      "9\n",
      "10 1 2 3 11 21 55 6 8\n",
      "4\n"
     ]
    }
   ],
   "source": [
    "'''\n",
    "- Difference of the set B from set A(A - B):-\n",
    "    is a set of elements that are only in A but not in B. Similarly, B - A is a set of elements in B but not in A.\n",
    "\n",
    "- Difference is performed using - operator.\n",
    "- Same can be accomplished using the difference() method.\n",
    "'''\n",
    "\n",
    "eng_stu_num = int(input())\n",
    "eng_stu = list(map(int, input().rstrip().split()))\n",
    "\n",
    "fre_stu_num = int(input())\n",
    "fre_stu = list(map(int, input().rstrip().split()))\n",
    "\n",
    "eng_stu_set = set(eng_stu)\n",
    "fre_stu_set = set(fre_stu)\n",
    "\n",
    "difference_set = eng_stu_set.difference(fre_stu_set)\n",
    "print(len(difference_set))"
   ]
  },
  {
   "cell_type": "markdown",
   "metadata": {},
   "source": [
    "**8. Set symmetric difference() Operation**"
   ]
  },
  {
   "cell_type": "code",
   "execution_count": 10,
   "metadata": {},
   "outputs": [
    {
     "name": "stdout",
     "output_type": "stream",
     "text": [
      "9\n",
      "1 2 3 4 5 6 7 8 9\n",
      "9\n",
      "10 1 2 3 11 21 55 6 8\n",
      "8\n"
     ]
    }
   ],
   "source": [
    "'''\n",
    "- Symmetric Difference of A and B :-\n",
    "    is a set of elements in A and B but not in both (excluding the intersection).\n",
    "\n",
    "- Symmetric difference is performed using ^ operator.\n",
    "- Same can be accomplished using the method symmetric_difference().\n",
    "'''\n",
    "\n",
    "eng_stu_num = int(input())\n",
    "eng_stu = list(map(int, input().rstrip().split()))\n",
    "\n",
    "fre_stu_num = int(input())\n",
    "fre_stu = list(map(int, input().rstrip().split()))\n",
    "\n",
    "eng_stu_set = set(eng_stu)\n",
    "fre_stu_set = set(fre_stu)\n",
    "\n",
    "symm_difference_set = eng_stu_set.symmetric_difference(fre_stu_set)\n",
    "print(len(symm_difference_set))"
   ]
  },
  {
   "cell_type": "markdown",
   "metadata": {},
   "source": [
    "**9. Set Mutations**\n",
    "  \n",
    "  - update() \n",
    "  - intersection_update() \n",
    "  - difference_update() \n",
    "  - symmetric_difference_update()    "
   ]
  },
  {
   "cell_type": "code",
   "execution_count": 7,
   "metadata": {},
   "outputs": [
    {
     "name": "stdout",
     "output_type": "stream",
     "text": [
      "16\n",
      "1 2 3 4 5 6 7 8 9 10 11 12 13 14 24 52\n",
      "4\n",
      "intersection_update 10\n",
      "2 3 5 6 8 9 1 4 7 11\n",
      "update 2\n",
      "55 66\n",
      "symmetric_difference_update 5\n",
      "22 7 35 62 58\n",
      "difference_update 7\n",
      "11 22 35 55 58 62 66\n",
      "38\n"
     ]
    }
   ],
   "source": [
    "'''\n",
    "  - .update() or |=\n",
    "      - Update the set by adding elements from an iterable/another set. \n",
    "      \n",
    "  - .intersection_update() or &=\n",
    "      - Update the set by keeping only the elements found in it and an iterable/another set.\n",
    "      \n",
    "  - .difference_update() or -=\n",
    "      - Update the set by removing elements found in an iterable/another set.  \n",
    "      \n",
    "  - .symmetric_difference_update() or ^=\n",
    "      - Update the set by only keeping the elements found in either set, but not in both.\n",
    "'''\n",
    "\n",
    "set_A_len = int(input())\n",
    "set_A = set(map(int, input().split()))\n",
    "N = int(input())\n",
    "\n",
    "for i in range(N):\n",
    "    op = (input().split())[0]\n",
    "    other_set = set(map(int, input().split()))\n",
    "    \n",
    "    if op == 'intersection_update':\n",
    "        set_A.intersection_update(other_set)\n",
    "    elif op == 'symmetric_difference_update':\n",
    "        set_A.symmetric_difference_update(other_set)\n",
    "    elif op == 'difference_update':\n",
    "        set_A.difference_update(other_set)  \n",
    "    elif op == 'update':\n",
    "        set_A.update(other_set)\n",
    "print(sum(set_A))  "
   ]
  },
  {
   "cell_type": "markdown",
   "metadata": {},
   "source": [
    "**10. The Captain's Room**.\n",
    "\n",
    " - Mr. Anant Asankhya is the manager at the INFINITE hotel. The hotel has an infinite amount of rooms.\n",
    " - One fine day, a finite number of tourists come to stay at the hotel.\n",
    " - The tourists consist of:\n",
    "    - A Captain.\n",
    "    - An unknown group of families consisting of k members per group where k ≠ 1.\n",
    "\n",
    " - The Captain was given a separate room, and the rest were given one room per group.\n",
    " - Mr. Anant has an unordered list of randomly arranged room entries.\n",
    " - The list consists of the room numbers for all of the tourists. \n",
    " - The room numbers will appear k times per group except for the Captain's room.\n",
    " - Mr. Anant needs you to help him find the Captain's room number.\n",
    " - The total number of tourists or the total number of groups of families is not known to you.\n",
    " - You only know the value of k and the room number list."
   ]
  },
  {
   "cell_type": "code",
   "execution_count": 13,
   "metadata": {},
   "outputs": [
    {
     "name": "stdout",
     "output_type": "stream",
     "text": [
      "5\n",
      "1 2 3 6 5 4 4 2 5 3 6 1 6 5 3 2 4 1 2 5 1 4 3 6 8 4 3 1 5 6 2 \n",
      "\n",
      "The unique Captain's room number:  8\n"
     ]
    }
   ],
   "source": [
    "# k --> The size of each group.\n",
    "k = int(input())\n",
    "\n",
    "# a list contains the unordered elements of the room number \n",
    "rooms = list(map(int, input().split()))\n",
    "\n",
    "# define two sets to to extract the Captain's room number \n",
    "# Captain's room number should be unique \n",
    "a = set()\n",
    "b = set()\n",
    "\n",
    "for room in rooms:\n",
    "    if room not in a:\n",
    "        # add every rooms in a with no dublicates \n",
    "        a.add(room)\n",
    "        # add every rooms in b with no dublicates\n",
    "        b.add(room)\n",
    "    else:\n",
    "        # discard every dublicated room numbers\n",
    "        # to to extract the unique Captain's room number \n",
    "        b.discard(room)   \n",
    "\n",
    "b = list(b)\n",
    "print(\"\")\n",
    "print(\"The unique Captain's room number: \", b[0])        "
   ]
  },
  {
   "cell_type": "markdown",
   "metadata": {},
   "source": [
    "**11. Check Subset**\n",
    "\n",
    " - You are given two sets, A and B.\n",
    " - Your job is to find whether set A is a subset of set B.\n",
    "    - If set A is subset of set B, print True.\n",
    "    - If set A is not a subset of set B, print False."
   ]
  },
  {
   "cell_type": "code",
   "execution_count": 1,
   "metadata": {},
   "outputs": [
    {
     "name": "stdout",
     "output_type": "stream",
     "text": [
      "2\n",
      "5\n",
      "4 5 6 4 7\n",
      "6\n",
      "2 3 5 4 9 6 \n",
      "False\n",
      "5\n",
      "1 2 3 5 6 \n",
      "7\n",
      "1 2 3 5 6 7 \n",
      "True\n"
     ]
    }
   ],
   "source": [
    "def check_supset():\n",
    "    # set A item number\n",
    "    set_A_size = int(input())\n",
    "    set_A = set(map(int, input().split()))\n",
    "\n",
    "    # set B item number\n",
    "    set_B_size = int(input())\n",
    "    set_B = set(map(int, input().split()))\n",
    "    \n",
    "    # issubset() --> Returns True if another set contains this set\n",
    "    # issuperset() --> Returns True if this set contains another set\n",
    "\n",
    "    print(set_A.issubset(set_B))  \n",
    "    \n",
    "'''    \n",
    "    # define empty list to check if \n",
    "    # set_A item is in set_B, then append \n",
    "    # item in list\n",
    "    lst = []\n",
    "    for i in set_A:\n",
    "        if i in set_B:\n",
    "            lst.append(i)\n",
    "    \n",
    "    # convert to set to remove dublicate numbers\n",
    "    matching_set = set(lst)\n",
    "    \n",
    "    if matching_set == set_A:\n",
    "        print(True)\n",
    "    else:\n",
    "        print(False)\n",
    "'''\n",
    "        \n",
    "num_of_test_cases = int(input())\n",
    "for i in range(num_of_test_cases):\n",
    "    check_supset()\n",
    "    "
   ]
  },
  {
   "cell_type": "markdown",
   "metadata": {},
   "source": [
    "**12. Check Strict Superset**\n",
    "\n",
    "  - You are given a set  and  other sets.\n",
    "  - Your job is to find whether set  is a strict superset of each of the  sets.\n",
    "      - Print True, if  is a strict superset of each of the  sets. Otherwise, print False.\n",
    "  - A strict superset has at least one element that does not exist in its subset.  \n",
    "\n"
   ]
  },
  {
   "cell_type": "code",
   "execution_count": 3,
   "metadata": {},
   "outputs": [
    {
     "name": "stdout",
     "output_type": "stream",
     "text": [
      "1 2 3 4 5 6 7 8 9 10 11 12 23 45 84 78\n",
      "2\n",
      "1 2 3 4 5\n",
      "100 11 12\n",
      "False\n"
     ]
    }
   ],
   "source": [
    "super_set = set(map(int, input().split()))\n",
    "\n",
    "n = int(input())\n",
    "\n",
    "is_strict_superset = True\n",
    "\n",
    "for i in range(n):\n",
    "    normal_set = set(map(int, input().split())) \n",
    "\n",
    "    if len(super_set) > len(normal_set):\n",
    "        if not super_set.issuperset(normal_set):\n",
    "            is_strict_superset = False\n",
    "\n",
    "print(is_strict_superset)    "
   ]
  },
  {
   "cell_type": "markdown",
   "metadata": {},
   "source": [
    "**13.**\n",
    " - There is an array of n integers.\n",
    " - There are also 2 disjoint sets, A and B, each containing m integers.\n",
    " - You like all the integers in set A and dislike all the integers in set B.\n",
    " - Your initial happiness is 0.\n",
    " - For each i integer in the array, \n",
    "    - If i ∈ A, you add 1 to your happiness.\n",
    "    - If i ∈ B , you add -1 to your happiness.   \n",
    "    - Otherwise, your happiness does not change.\n",
    " - Output your final happiness at the end.\n"
   ]
  },
  {
   "cell_type": "code",
   "execution_count": 5,
   "metadata": {},
   "outputs": [
    {
     "name": "stdout",
     "output_type": "stream",
     "text": [
      "2 3 \n",
      "1 5 3\n",
      "3 1\n",
      "5 7\n",
      "\n",
      "Final Result:  1\n"
     ]
    }
   ],
   "source": [
    "# n --> number of array items\n",
    "# m --> number of set items\n",
    "n, m = (int(i) for i in input().split())\n",
    "\n",
    "# list l --> the elements of the array.\n",
    "l = map(int, input().strip().split(' '))\n",
    "# set a and b\n",
    "a = set(map(int, input().strip().split(' ')))\n",
    "b = set(map(int, input().strip().split(' ')))\n",
    "\n",
    "result = 0\n",
    "for i in l:\n",
    "    if i in a:\n",
    "        result += 1\n",
    "    if i in b:\n",
    "        result += -1\n",
    "print(\"\")        \n",
    "print(\"Final Result: \",result)"
   ]
  },
  {
   "cell_type": "code",
   "execution_count": null,
   "metadata": {},
   "outputs": [],
   "source": []
  }
 ],
 "metadata": {
  "kernelspec": {
   "display_name": "Python 3",
   "language": "python",
   "name": "python3"
  },
  "language_info": {
   "codemirror_mode": {
    "name": "ipython",
    "version": 3
   },
   "file_extension": ".py",
   "mimetype": "text/x-python",
   "name": "python",
   "nbconvert_exporter": "python",
   "pygments_lexer": "ipython3",
   "version": "3.6.9"
  }
 },
 "nbformat": 4,
 "nbformat_minor": 4
}
