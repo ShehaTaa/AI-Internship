{
 "cells": [
  {
   "cell_type": "markdown",
   "metadata": {},
   "source": [
    "**1. Split string on a delimiter and add \"-\" between str.** "
   ]
  },
  {
   "cell_type": "code",
   "execution_count": 3,
   "metadata": {},
   "outputs": [
    {
     "name": "stdout",
     "output_type": "stream",
     "text": [
      "machine learning\n",
      "machine-learning\n"
     ]
    }
   ],
   "source": [
    "def split_and_join(line):\n",
    "    '''\n",
    "     - The split() method splits a string into a list.\n",
    "     - You can specify the separator, default separator is any whitespace.\n",
    "     - Syntax:-\n",
    "         string.split(separator, maxsplit)\n",
    "           - separator:-\n",
    "               Optional --> Specifies the separator to use when splitting the string.\n",
    "               By default any whitespace is a separator.\n",
    "           - maxsplit:-\n",
    "               Optional --> Specifies how many splits to do. Default value is -1, which is \"all occurrences\".  \n",
    "               \n",
    "    - The join() method takes all items in an iterable and joins them into one string.\n",
    "    - A string must be specified as the separator.  \n",
    "    - Syntax:-\n",
    "         string.join(iterable)\n",
    "           - iterable --> Required. Any iterable object where all the returned values are strings\n",
    "    '''\n",
    "    \n",
    "    \n",
    "    strlst = line.split(\" \")\n",
    "    newstr = \"-\".join(strlst)\n",
    "    \n",
    "    return newstr\n",
    "\n",
    "if __name__ == '__main__':\n",
    "    line = input()\n",
    "    result = split_and_join(line)\n",
    "    print(result)"
   ]
  },
  {
   "cell_type": "markdown",
   "metadata": {},
   "source": [
    "**2. You are given the firstname and lastname of a person on two different lines.<br />\n",
    "Read them and print the following:-**\n",
    "\n",
    "Hello firstname lastname! You just delved into python."
   ]
  },
  {
   "cell_type": "code",
   "execution_count": 4,
   "metadata": {},
   "outputs": [
    {
     "name": "stdout",
     "output_type": "stream",
     "text": [
      "Ahmed\n",
      "Shehata\n",
      "Hello Ahmed Shehata! You just delved into python.\n"
     ]
    }
   ],
   "source": [
    "def print_full_name(a, b):\n",
    "    print(\"Hello {} {}! You just delved into python.\".format(a,b))\n",
    "    \n",
    "\n",
    "if __name__ == '__main__':\n",
    "    first_name = input()\n",
    "    last_name = input()\n",
    "    print_full_name(first_name, last_name)"
   ]
  },
  {
   "cell_type": "markdown",
   "metadata": {},
   "source": [
    "**3. Read a given string, change the character at a given index and then print the modified string.**"
   ]
  },
  {
   "cell_type": "code",
   "execution_count": 1,
   "metadata": {},
   "outputs": [
    {
     "name": "stdout",
     "output_type": "stream",
     "text": [
      "abracadabra\n",
      "5 k\n",
      "abrackdabra\n"
     ]
    }
   ],
   "source": [
    "def mutate_string(string, position, character):\n",
    "    modified_str = string[ : position] + character + string[position + 1 :]\n",
    "    return modified_str\n",
    "\n",
    "if __name__ == '__main__':\n",
    "    s = input()\n",
    "    i, c = input().split()\n",
    "    s_new = mutate_string(s, int(i), c)\n",
    "    print(s_new)"
   ]
  },
  {
   "cell_type": "markdown",
   "metadata": {},
   "source": [
    "**4. The user enters a string and a substring.**<br />\n",
    "   - You have to print the number of times that the substring occurs in the given string.<br />\n",
    "   - String traversal will take place from left to right, not from right to left."
   ]
  },
  {
   "cell_type": "code",
   "execution_count": 2,
   "metadata": {},
   "outputs": [
    {
     "name": "stdout",
     "output_type": "stream",
     "text": [
      "ABCDCDC\n",
      "CDC\n",
      "2\n"
     ]
    }
   ],
   "source": [
    "def count_substring(string, sub_string):\n",
    "    '''\n",
    "    count_substring :-\n",
    "       count number of occurance of sub_string in string\n",
    "    '''\n",
    "    count = 0\n",
    "    for i in range(len(string)):\n",
    "        if string[i : i + len(sub_string)] == sub_string:\n",
    "            count += 1\n",
    "    return count\n",
    "\n",
    "if __name__ == '__main__':\n",
    "    \n",
    "    string = input().strip()\n",
    "    sub_string = input().strip()\n",
    "    \n",
    "    count = count_substring(string, sub_string)\n",
    "    print(count)"
   ]
  },
  {
   "cell_type": "markdown",
   "metadata": {},
   "source": [
    "**5. Built-in string validation methods for basic data.**\n",
    "   - It can check if a string is composed of alphabetical characters, alphanumeric characters, digits, etc."
   ]
  },
  {
   "cell_type": "code",
   "execution_count": 13,
   "metadata": {},
   "outputs": [
    {
     "name": "stdout",
     "output_type": "stream",
     "text": [
      "Aq2\n",
      "True\n",
      "True\n",
      "True\n",
      "True\n",
      "True\n"
     ]
    }
   ],
   "source": [
    "if __name__ == '__main__':\n",
    "    \n",
    "    '''\n",
    "    - The any() function returns True if any element of an iterable is True.\n",
    "      If not, any() returns False.\n",
    "      \n",
    "    - The syntax of any() is:-\n",
    "        - any(iterable) \n",
    "     \n",
    "    - Value Returned by the any() function - The any() function returns a boolean value:\n",
    "        - True if at least one element of an iterable is true\n",
    "        - False if all elements are false or if an iterable is empty \n",
    "        \n",
    "        \n",
    "    '''\n",
    "    ## first way\n",
    "#     ustr = input()\n",
    "#     lstop = [\"isalnum\", \"isalpha\", \"isdigit\", \"islower\", \"isupper\"]\n",
    "#     [print(any(getattr(c, lstop)() for c in ustr)) for lstop in lstop]\n",
    "\n",
    "#_____________________________________________________________________________\n",
    "   ## second way\n",
    "\n",
    "    S = input()\n",
    "    \n",
    "    print(any(map(str.isalnum, S)))\n",
    "    print(any(map(str.isalpha, S)))\n",
    "    print(any(map(str.isdigit, S)))\n",
    "    print(any(map(str.islower, S)))\n",
    "    print(any(map(str.isupper, S)))"
   ]
  },
  {
   "cell_type": "markdown",
   "metadata": {},
   "source": [
    "**6. Text Alignment**"
   ]
  },
  {
   "cell_type": "code",
   "execution_count": 33,
   "metadata": {},
   "outputs": [
    {
     "name": "stdout",
     "output_type": "stream",
     "text": [
      "5\n",
      "    H    \n",
      "   HHH   \n",
      "  HHHHH  \n",
      " HHHHHHH \n",
      "HHHHHHHHH\n",
      "  HHHHH               HHHHH             \n",
      "  HHHHH               HHHHH             \n",
      "  HHHHH               HHHHH             \n",
      "  HHHHH               HHHHH             \n",
      "  HHHHH               HHHHH             \n",
      "  HHHHH               HHHHH             \n",
      "  HHHHHHHHHHHHHHHHHHHHHHHHH   \n",
      "  HHHHHHHHHHHHHHHHHHHHHHHHH   \n",
      "  HHHHHHHHHHHHHHHHHHHHHHHHH   \n",
      "  HHHHH               HHHHH             \n",
      "  HHHHH               HHHHH             \n",
      "  HHHHH               HHHHH             \n",
      "  HHHHH               HHHHH             \n",
      "  HHHHH               HHHHH             \n",
      "  HHHHH               HHHHH             \n",
      "                    HHHHHHHHH \n",
      "                     HHHHHHH  \n",
      "                      HHHHH   \n",
      "                       HHH    \n",
      "                        H     \n"
     ]
    }
   ],
   "source": [
    "thickness = int(input())\n",
    "chlogo = 'H'\n",
    "\n",
    "'''\n",
    " - The string ljust() method returns a left-justified string of a given minimum width.\n",
    " - The syntax of ljust() method is:-\n",
    "      string.ljust(width[, fillchar])\n",
    " - ljust() method takes two parameters:\n",
    "      width --> width of the given string. \n",
    "                If width is less than or equal to the length of the string, the original string is returned.\n",
    "      fillchar (Optional) --> character to fill the remaining space of the width.\n",
    "      \n",
    " - ex:-\n",
    "    string = 'cat'\n",
    "    width = 5\n",
    "    fillchar = '*'\n",
    "\n",
    "    # print left justified string\n",
    "    print(string.ljust(width, fillchar))\n",
    "    \n",
    "    Output -->cat**\n",
    "  ___________________________________________________________________________________\n",
    "  \n",
    " - The string rjust() method returns a right-justified string of a given minimum width.\n",
    " - The syntax of rjust() method is:-\n",
    "      string.rjust(width[, fillchar])\n",
    " - The rjust() method takes two parameters:\n",
    "      width --> width of the given string.\n",
    "               If width is less than or equal to the length of the string, original string is returned.\n",
    "      fillchar (Optional) --> character to fill the remaining space of the width.\n",
    "      \n",
    " - ex:-\n",
    "    string = 'cat'\n",
    "    width = 5\n",
    "    fillchar = '*'\n",
    "\n",
    "    # print left justified string\n",
    "    print(string.rjust(width, fillchar))\n",
    "    \n",
    "    Output -->**cat \n",
    "  ___________________________________________________________________________________\n",
    "  \n",
    " - The center() method returns a string which is padded with the specified character.\n",
    " - The syntax of center() method is:-\n",
    "      tring.center(width[, fillchar])\n",
    " - The center() method takes two arguments:\n",
    "      width --> length of the string with padded characters.\n",
    "      fillchar (optional) --> padding character.\n",
    "    \n",
    " - ex:-\n",
    "    string = \"cat\"\n",
    "    new_string = string.center(7, '*')\n",
    "    print(\"Centered String: \", new_string)\n",
    "    \n",
    "    Output -->**cat**\n",
    "    \n",
    "'''\n",
    "# Top Cone\n",
    "for i in range(thickness):\n",
    "    # thickness - 1 as params ro rjust and ljust to \n",
    "    # add every iteration thickness - 1 of white space on left and right \n",
    "    print((chlogo * i).rjust(thickness - 1) + chlogo + (chlogo * i).ljust(thickness - 1))\n",
    "    \n",
    "# Top two columns\n",
    "# thickness + 1 to make thickness = 6\n",
    "for i in range(thickness + 1):\n",
    "    # thickness * 2 as params to first center to assign 10 spaces \n",
    "    # to first left column(5 H and 5 space --> 2 space left and 3 space right)\n",
    "    \n",
    "    # thickness * 6 as params to second center to assign 30 spaces\n",
    "    # to second right column(5 H and 25 space --> 22 space left and 2 space right)\n",
    "    print((chlogo * thickness).center(thickness * 2) + (chlogo * thickness).center(thickness * 6))\n",
    "\n",
    "# Middel Rect\n",
    "for i in range((thickness + 1) // 2):\n",
    "    # mul thickness * 5 to get 25 H \n",
    "    # thickness * 6 as param of center to get 4 spaces on lift and right\n",
    "    print((chlogo * thickness * 5).center(thickness * 6))\n",
    "\n",
    "# Bottom two columns\n",
    "# thickness + 1 to make thickness = 6\n",
    "for i in range(thickness + 1):\n",
    "    # thickness * 2 as params to first center to assign 10 spaces \n",
    "    # to first left column(5 H and 5 space --> 2 space left and 3 space right)\n",
    "    \n",
    "    # thickness * 6 as params to second center to assign 30 spaces\n",
    "    # to second right column(5 H and 25 space --> 22 space left and 2 space right)\n",
    "    print((chlogo * thickness).center(thickness * 2) + (chlogo * thickness).center(thickness * 6))\n",
    "\n",
    "# Bottom Cone\n",
    "for i in range(thickness):\n",
    "    # thickness - i - 1 to start with 4 H in left + H +  4 H to right\n",
    "    # \n",
    "    # every iteration thickness - i - 1 decrease number of H by 1 at ervery side \n",
    "    # and invrease white space by on left and right\n",
    "    print(((chlogo * (thickness - i - 1)).rjust(thickness) + chlogo + (chlogo * (thickness - i - 1)).ljust(thickness)).rjust(\n",
    "       thickness * 6))"
   ]
  },
  {
   "cell_type": "markdown",
   "metadata": {},
   "source": [
    "**7. Text Wrap**\n",
    "  - You are given a string S and width W.\n",
    "  - Wrap the string into a paragraph of width W."
   ]
  },
  {
   "cell_type": "code",
   "execution_count": 46,
   "metadata": {},
   "outputs": [
    {
     "name": "stdout",
     "output_type": "stream",
     "text": [
      "ABCDEFGHIJKLIMNOQRSTUVWXYZ\n",
      "4\n",
      "ABCD\n",
      "EFGH\n",
      "IJKL\n",
      "IMNO\n",
      "QRST\n",
      "UVWX\n",
      "YZ\n"
     ]
    }
   ],
   "source": [
    "import textwrap\n",
    "'''\n",
    " - textwrap module is used to format and wrap plain texts.\n",
    " - Text Wrapping Methods:-\n",
    " \n",
    "    - textwrap.wrap(text, width = 70, **kwargs):-\n",
    "       This method wraps the input paragraph.\n",
    "       It uses the line width to wrap the content.\n",
    "       Default line width is 70.\n",
    "       It returns a list of lines.\n",
    "       In the list all wrapped lines are stored.\n",
    "    \n",
    "    - textwrap.fill(text, width = 70, **kwargs):-\n",
    "       The fill() method is similar to the wrap method, but it does not generate a list.\n",
    "       It generates a string.\n",
    "       It adds the new line character after exceeding the specified width.\n",
    "       \n",
    "    - textwrap.shorten(text, width, **kwargs):-\n",
    "       This method shortens or truncates the string.\n",
    "       After truncation the length of the text will be same as the specified width.\n",
    "       It will add […] at the end of the string.\n",
    "       \n",
    "    - textwrap.dedent(text):-\n",
    "       This function is used to remove any common leading whitespace from every line in the input text.\n",
    "    \n",
    "    - textwrap.indent(text, prefix, predicate=None):-\n",
    "       This function is used to add the given prefix to the beginning of the selected lines of the text.\n",
    "          \n",
    "'''\n",
    "def wrap(string, max_len):\n",
    "    strlst = textwrap.fill(string, max_len)\n",
    "    return strlst\n",
    "\n",
    "if __name__ == '__main__':\n",
    "    string, max_width = input(), int(input())\n",
    "    result = wrap(string, max_width)\n",
    "    print(result)"
   ]
  },
  {
   "cell_type": "markdown",
   "metadata": {},
   "source": [
    "**8. Designer Door Mat**"
   ]
  },
  {
   "cell_type": "code",
   "execution_count": 62,
   "metadata": {},
   "outputs": [
    {
     "name": "stdout",
     "output_type": "stream",
     "text": [
      "7 21\n",
      "---------.|.---------\n",
      "------.|..|..|.------\n",
      "---.|..|..|..|..|.---\n",
      "-------WELCOME-------\n",
      "---.|..|..|..|..|.---\n",
      "------.|..|..|.------\n",
      "---------.|.---------\n"
     ]
    }
   ],
   "source": [
    "n, m = map(int,input().split())\n",
    "\n",
    "m1 = \".|.\"\n",
    "m2 = \"WELCOME\"\n",
    "\n",
    "# Part 1\n",
    "# range(n // 2) is seperate the mat to upper part and lower part\n",
    "# for upper part range(n // 2) \n",
    "# m1 * (i * 2) + 1 to print m1 with this equation \n",
    "for i in range(n // 2): \n",
    "    print((m1 * ((i * 2) + 1)).center(m, '-'))\n",
    "\n",
    "# Part 2\n",
    "# m is the length of Mat\n",
    "print(m2.center(m,'-'))\n",
    "\n",
    "# Part 3\n",
    "# range(n // 2 - 1, -1, -1),\n",
    "  # use n // 2 - 1 to start after WELCOME line\n",
    "  # use -1 as stop to decrement from 3 to 0\n",
    "  # use -1 as step to decrement every iteration by 1 \n",
    "for i in range(n // 2 - 1, -1, -1):\n",
    "    print((m1 * ((i * 2) + 1)).center(m, '-'))\n"
   ]
  },
  {
   "cell_type": "markdown",
   "metadata": {},
   "source": [
    "**9. String Formatting**\n",
    "\n",
    "Given an integer, n, print the following values for each integer i from 1 to n :\n",
    " - Decimal\n",
    " - Octal\n",
    " - Hexadecimal (capitalized)\n",
    " - Binary\n",
    " \n",
    "The four values must be printed on a single line in the order specified above for each i from 1 to n.\n",
    "Each value should be space-padded to match the width of the binary value of ."
   ]
  },
  {
   "cell_type": "code",
   "execution_count": 64,
   "metadata": {},
   "outputs": [
    {
     "name": "stdout",
     "output_type": "stream",
     "text": [
      "5\n",
      "str bin oct hex\n",
      "  1   1   1   1\n",
      "  2   2   2  10\n",
      "  3   3   3  11\n",
      "  4   4   4 100\n",
      "  5   5   5 101\n"
     ]
    }
   ],
   "source": [
    "def print_formatted(number):\n",
    "    '''      \n",
    "    - bin() function:-\n",
    "         used to returns the binary equivalent string of a given integer.\n",
    "         The syntax of bin(num):-\n",
    "           - num --> an integer number whose binary equivalent is to be calculated.\n",
    "           - If not an integer, should implement __index__() method to return an integer.\n",
    "           - returns the binary string equivalent to the given integer\n",
    "     \n",
    "     - oct() function:-\n",
    "         used to returns an octal string from the given integer number\n",
    "         The syntax of oct(x):-\n",
    "            - an integer number (binary, decimal or hexadecimal)\n",
    "            - if not an integer, it should implement __index__() to return an integer\n",
    "            \n",
    "     - The hex() function:-\n",
    "         used to converts an integer number to the corresponding hexadecimal string.\n",
    "         The syntax of hex(x):-\n",
    "            - x --> integer number (int object or it has to define __index__() method that returns an integer)\n",
    "    '''\n",
    "    w = len(str(bin(number)).replace('0b',''))\n",
    "    print('str','bin','oct','hex')\n",
    "    for i in range(1,number+1):   \n",
    "        d = str(i).rjust(w,' ')\n",
    "        b = bin(i)[2:].rjust(w,' ')   \n",
    "        o = oct(i)[2:].rjust(w, ' ')\n",
    "        h = hex(i)[2:].rjust(w, ' ').upper()\n",
    "        \n",
    "        print(d, o, h, b)\n",
    "\n",
    "if __name__ == '__main__':\n",
    "    n = int(input())\n",
    "    print_formatted(n)"
   ]
  },
  {
   "cell_type": "markdown",
   "metadata": {},
   "source": [
    "**10. Alphabet Rangoli**\n",
    "\n",
    "<img align=\"left\" src=\"image.jpg\" >\n"
   ]
  },
  {
   "cell_type": "code",
   "execution_count": 3,
   "metadata": {},
   "outputs": [
    {
     "name": "stdout",
     "output_type": "stream",
     "text": [
      "7\n",
      "------------g------------\n",
      "----------g-f-g----------\n",
      "--------g-f-e-f-g--------\n",
      "------g-f-e-d-e-f-g------\n",
      "----g-f-e-d-c-d-e-f-g----\n",
      "--g-f-e-d-c-b-c-d-e-f-g--\n",
      "g-f-e-d-c-b-a-b-c-d-e-f-g\n",
      "--g-f-e-d-c-b-c-d-e-f-g--\n",
      "----g-f-e-d-c-d-e-f-g----\n",
      "------g-f-e-d-e-f-g------\n",
      "--------g-f-e-f-g--------\n",
      "----------g-f-g----------\n",
      "------------g------------\n"
     ]
    }
   ],
   "source": [
    "def print_rangoli(size):\n",
    "    \n",
    "    n = size\n",
    "    \n",
    "    # define range of ascii code char\n",
    "    chr_list = list(map(chr, range(97,123)))\n",
    "    \n",
    "    # The middle line\n",
    "    # [n-1 : : -1] to print e-d-c-b-a\n",
    "    # [1 : n] to print b-c-d-e\n",
    "    mid_line = chr_list[n-1 : : -1] + chr_list[1 : n]\n",
    "    # get length of Rangoli and join - between char\n",
    "    length = len('-'.join(mid_line))\n",
    "    \n",
    "    # Upper Rangoli Part\n",
    "    for i in range(1 , n):\n",
    "        # chr_list[n - 1 : n - i : -1] to print - - - - -\n",
    "        #                                       - - - - e\n",
    "        #                                       - - - e d \n",
    "        #                                       - - e d c \n",
    "        \n",
    "        # chr_list[n - 1 : n - i : -1] to print  e - - - - -\n",
    "        #                                        d e - - - -\n",
    "        #                                        c d e - - -\n",
    "        #                                        b c d e - - \n",
    "        print('-'.join(chr_list[n - 1 : n - i : -1] + chr_list[n - i : n]).center(length, '-'))\n",
    "        \n",
    "     # Lower Rangoli Part\n",
    "    \n",
    "    # range(n , 0 , -1) to start from e d c b a\n",
    "    for i in range(n , 0 , -1):\n",
    "        # chr_list[n - 1 : n - i : -1] to print - - - - -\n",
    "        #                                       - - - - e\n",
    "        #                                       - - - e d \n",
    "        #                                       - - e d c \n",
    "        \n",
    "        # chr_list[n - 1 : n - i : -1] to print  e - - - - -\n",
    "        #                                        d e - - - -\n",
    "        #                                        c d e - - -\n",
    "        #                                        b c d e - - \n",
    "        print('-'.join(chr_list[n - 1 : n - i : -1] + chr_list[n - i : n]).center(length, '-'))\n",
    "           \n",
    "        \n",
    "if __name__ == '__main__':\n",
    "    n = int(input())\n",
    "    print_rangoli(n)       "
   ]
  },
  {
   "cell_type": "markdown",
   "metadata": {},
   "source": [
    "**11. Capitalize!**\n",
    "\n"
   ]
  },
  {
   "cell_type": "code",
   "execution_count": 7,
   "metadata": {},
   "outputs": [
    {
     "name": "stdout",
     "output_type": "stream",
     "text": [
      "machine learning \n",
      "Machine Learning \n"
     ]
    }
   ],
   "source": [
    "import math\n",
    "import os\n",
    "import random\n",
    "import re\n",
    "import sys\n",
    "\n",
    "\n",
    "def cap_first_char(s):\n",
    "    '''\n",
    "    cap_first_char is a function that capitalize\n",
    "    first char in each name by using capitalize() method\n",
    "    \n",
    "    - capitalize() method converts the first character\n",
    "      of a string to capital (uppercase) letter.\n",
    "    - If the string has its first character as capital,\n",
    "      then it returns the original string.\n",
    "    - The capitalize() function does not takes any parameter. \n",
    "    - Return value:-\n",
    "         The capitalize() function returns a string with the first character in capital.\n",
    "    '''\n",
    "    \n",
    "    full_name = s.split(' ')\n",
    "    return ' '.join((word.capitalize() for word in full_name))\n",
    "\n",
    "if __name__ == '__main__':\n",
    "\n",
    "    s = input()\n",
    "\n",
    "    result = cap_first_char(s)\n",
    "    \n",
    "    print(result)\n"
   ]
  },
  {
   "cell_type": "markdown",
   "metadata": {},
   "source": [
    "**12. Minion Game**"
   ]
  },
  {
   "cell_type": "code",
   "execution_count": 5,
   "metadata": {},
   "outputs": [
    {
     "name": "stdout",
     "output_type": "stream",
     "text": [
      "BANANA\n",
      "Stuart 12\n"
     ]
    }
   ],
   "source": [
    "\n",
    "\n",
    "def minion_game(s):\n",
    "    # your code goes here\n",
    "    \n",
    "    '''\n",
    "    BANANA\n",
    "    Start with B \n",
    "    B --> len(S[i : ]) --> 6 prob\n",
    "    Start with first N\n",
    "    N --> len(S[i : ]) -- 4 prob\n",
    "    Start with second N \n",
    "    N --> len(S[i : ]) -- 2 prob  \n",
    "    Total --> 12\n",
    "\n",
    "    Start with fisrt A\n",
    "    A --> len(S[i : ]) --> 5 prob\n",
    "    Start with second A\n",
    "    A --> len(S[i : ]) --> 3 prob\n",
    "    Start with third A\n",
    "    A --> len(S[i : ]) --> 1 prob\n",
    "    Total --> 9\n",
    "    '''\n",
    "    \n",
    "    player1 = 0\n",
    "    player2 = 0 \n",
    "    vowels = \"AEIOU\"\n",
    "    \n",
    "    for i in range(len(s)):\n",
    "        if s[i] not in vowels:\n",
    "            player1 = player1 + len(s[i : ])\n",
    "        else:\n",
    "            player2 = player2 + len(s[i : ])    \n",
    "\n",
    "    if player1 > player2:\n",
    "        print(\"Stuart\", player1)\n",
    "    elif player2 > player1:\n",
    "        print(\"Kevin\", player2)   \n",
    "    else:\n",
    "        print(\"Draw\")            \n",
    "\n",
    "if __name__ == '__main__':\n",
    "    s = input()\n",
    "    minion_game(s)"
   ]
  },
  {
   "cell_type": "markdown",
   "metadata": {},
   "source": [
    "**13. Merge the Tools!**"
   ]
  },
  {
   "cell_type": "code",
   "execution_count": 6,
   "metadata": {},
   "outputs": [
    {
     "name": "stdout",
     "output_type": "stream",
     "text": [
      "AABCAAADA\n",
      "3\n",
      "AB\n",
      "CA\n",
      "AD\n"
     ]
    }
   ],
   "source": [
    "def merge_the_tools(string, k):\n",
    "    # your code goes here\n",
    "    '''\n",
    "    - merge_the_tools take string and calc it's len\n",
    "    - and cut string according to len of len(string) // k\n",
    "      where k is divisable by n and store cutted strings them in list.\n",
    "    - then remove any dublicate char in cutted strings stored in list.  \n",
    "    '''\n",
    "    \n",
    "    str_lst=[]\n",
    "    cut_edge=0\n",
    "    \n",
    "    for i in range(len(string)//k):\n",
    "        # if len(str) = 9 then k = 3\n",
    "        # so the cut edge start from 0 to 3 \n",
    "        # then from 3 to 6, then from 6 to 9 \n",
    "        str_lst.append(string[cut_edge : cut_edge + k])\n",
    "        # update cut edge\n",
    "        cut_edge += k\n",
    "    \n",
    "    # loop through str_lst and convert lst to dict to calc \n",
    "    # occurance of every char, then convert it to list to deal \n",
    "    # them as strings and print them.\n",
    "    for v in str_lst:\n",
    "        print(''.join(list(dict.fromkeys(list(v)).keys())))\n",
    "\n",
    "if __name__ == '__main__':\n",
    "    string, k = input(), int(input())\n",
    "    merge_the_tools(string, k)"
   ]
  },
  {
   "cell_type": "markdown",
   "metadata": {},
   "source": [
    "**14. Lower and Upper String** "
   ]
  },
  {
   "cell_type": "code",
   "execution_count": 8,
   "metadata": {},
   "outputs": [
    {
     "name": "stdout",
     "output_type": "stream",
     "text": [
      "HackerRank.com presents \"Pythonist 2\".\n",
      "hACKERrANK.COM PRESENTS \"pYTHONIST 2\".\n"
     ]
    }
   ],
   "source": [
    "def swap_case(s):\n",
    "    \n",
    "    '''\n",
    "     - string.lower()\n",
    "     - Parameters:\n",
    "         lower() does not take any parameters\n",
    "     - Returns : \n",
    "         It converts the given string in into lowercase and returns the string.\n",
    "     __________________________________________________________________________\n",
    "     \n",
    "     - string.upper()\n",
    "     - Parameters:\n",
    "         upper() does not take any parameters\n",
    "     - Returns :\n",
    "         It converts the given string in into uppercase and returns the string.\n",
    "     __________________________________________________________________________  \n",
    "     \n",
    "     - string.isupper()\n",
    "     - Parameters:\n",
    "         isupper() does not take any parameters\n",
    "     - Returns :\n",
    "         - True- If all characters in the string are uppercase.\n",
    "         - False- If the string contains 1 or more non-uppercase characters.\n",
    "     __________________________________________________________________________\n",
    "     \n",
    "     - string.islower()\n",
    "     - Parameters:\n",
    "         islower() does not take any parameters\n",
    "     - Returns :\n",
    "         - True- If all characters in the string are lower.\n",
    "         - False- If the string contains 1 or more non-lowercase characters.\n",
    "    '''\n",
    "    \n",
    "    # empty str\n",
    "    new_str = \"\"\n",
    "    for i in s:\n",
    "        # check any lower char and convert it to upper\n",
    "        if(i.islower()):\n",
    "            new_str = new_str + i.upper()\n",
    "        # check any upper char and convert it yo lower    \n",
    "        elif(i.isupper()):\n",
    "            new_str = new_str + i.lower()\n",
    "        else:\n",
    "            new_str = new_str + i\n",
    "    return new_str                 \n",
    "\n",
    "if __name__ == '__main__':\n",
    "    s = input()\n",
    "    result = swap_case(s)\n",
    "    print(result)"
   ]
  },
  {
   "cell_type": "code",
   "execution_count": null,
   "metadata": {},
   "outputs": [],
   "source": []
  }
 ],
 "metadata": {
  "kernelspec": {
   "display_name": "Python 3",
   "language": "python",
   "name": "python3"
  },
  "language_info": {
   "codemirror_mode": {
    "name": "ipython",
    "version": 3
   },
   "file_extension": ".py",
   "mimetype": "text/x-python",
   "name": "python",
   "nbconvert_exporter": "python",
   "pygments_lexer": "ipython3",
   "version": "3.6.9"
  }
 },
 "nbformat": 4,
 "nbformat_minor": 4
}
