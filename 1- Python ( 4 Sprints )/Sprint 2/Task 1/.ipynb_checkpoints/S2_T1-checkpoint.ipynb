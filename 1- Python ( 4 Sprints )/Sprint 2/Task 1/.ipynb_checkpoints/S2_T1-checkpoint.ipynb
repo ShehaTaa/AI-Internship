{
 "cells": [
  {
   "cell_type": "markdown",
   "metadata": {},
   "source": [
    "## Sprint 2 - Task 1"
   ]
  },
  {
   "cell_type": "markdown",
   "metadata": {},
   "source": [
    "**1. Print message**"
   ]
  },
  {
   "cell_type": "code",
   "execution_count": 2,
   "metadata": {},
   "outputs": [
    {
     "name": "stdout",
     "output_type": "stream",
     "text": [
      "Hello, World!\n"
     ]
    }
   ],
   "source": [
    "if __name__ == '__main__':\n",
    "    print(\"Hello, World!\")"
   ]
  },
  {
   "cell_type": "markdown",
   "metadata": {},
   "source": [
    "**2. Use if else statement**"
   ]
  },
  {
   "cell_type": "code",
   "execution_count": 3,
   "metadata": {},
   "outputs": [
    {
     "name": "stdout",
     "output_type": "stream",
     "text": [
      "50\n",
      "Not Weird\n"
     ]
    }
   ],
   "source": [
    "if __name__ == '__main__':\n",
    "    \n",
    "    '''\n",
    "    - strip() :-\n",
    "        * returns a copy of the string with both leading and trailing characters stripped.\n",
    "        * The syntax of the strip():\n",
    "             string.strip([chars])\n",
    "             strip() Parameters\n",
    "               - chars (optional) - a string specifying the set of characters to be removed\n",
    "                 from the left and right part of the string.\n",
    "               - If the chars argument is not provided, all leading and trailing whitespaces\n",
    "                 are removed from the string.\n",
    "    '''\n",
    "    num = int(input().strip())\n",
    "    \n",
    "    if num < 1 and num > 100:\n",
    "        print(\"Out of Range\")\n",
    "        #break\n",
    "\n",
    "    if num % 2 == 0 and num in range(2,5):\n",
    "        print(\"Not Weird\")\n",
    "    elif num % 2 != 0:\n",
    "        print(\"Weird\")\n",
    "    elif num % 2 == 0 and num in range(6,21):\n",
    "        print(\"Weird\")\n",
    "    elif num % 2 == 0 and num > 20:\n",
    "        print(\"Not Weird\") "
   ]
  },
  {
   "cell_type": "markdown",
   "metadata": {},
   "source": [
    "**3. Arithmetic Operators** "
   ]
  },
  {
   "cell_type": "code",
   "execution_count": 1,
   "metadata": {},
   "outputs": [
    {
     "name": "stdout",
     "output_type": "stream",
     "text": [
      "2\n",
      "3\n",
      "\n",
      "Sum:  5\n",
      "Sub:  -1\n",
      "Mul:  6\n"
     ]
    }
   ],
   "source": [
    "if __name__ == '__main__':\n",
    "    a = int(input())\n",
    "    b = int(input())\n",
    "\n",
    "    sumab = a + b \n",
    "    subab = a - b\n",
    "    mulab = a * b \n",
    "    \n",
    "    print(\"\")\n",
    "    print(\"Sum: \",sumab)\n",
    "    print(\"Sub: \",subab)\n",
    "    print(\"Mul: \",mulab)"
   ]
  },
  {
   "cell_type": "markdown",
   "metadata": {},
   "source": [
    "**4. Python: Division**"
   ]
  },
  {
   "cell_type": "code",
   "execution_count": 5,
   "metadata": {},
   "outputs": [
    {
     "name": "stdout",
     "output_type": "stream",
     "text": [
      "5\n",
      "2\n",
      "\n",
      "Floating point division:  2.5\n",
      "Floor division:  2\n"
     ]
    }
   ],
   "source": [
    "if __name__ == '__main__':\n",
    "    a = int(input())\n",
    "    b = int(input())\n",
    "    \n",
    "    '''\n",
    "    / --> Floating point division\n",
    "\n",
    "    // --> Floor division\n",
    "    \n",
    "    5 / 2  = 2.5\n",
    "    5 // 2 = 2\n",
    "    \n",
    "    math.floor(x)\n",
    "      - Parameter: \n",
    "          x-numeric expression. \n",
    "      - Returns: \n",
    "          largest integer not greater than x.\n",
    "          ex: floor(2.7) --> 2 \n",
    "          \n",
    "    math.ceil(x)\n",
    "      - Parameter:\n",
    "          x:This is a numeric expression.\n",
    "      - Returns: \n",
    "          Smallest integer not less than x.\n",
    "          ex: ceil(2.7) --> 3\n",
    "    '''\n",
    "\n",
    "    intdiv = a / b\n",
    "    flodiv = a // b \n",
    "    \n",
    "    print(\"\")\n",
    "    print(\"Floating point division: \",intdiv)\n",
    "    print(\"Floor division: \",flodiv)\n",
    "    "
   ]
  },
  {
   "cell_type": "markdown",
   "metadata": {},
   "source": [
    "**5. Loops**\n",
    "\n",
    "The provided code stub reads and integer,n , from STDIN.\n",
    "For all non-negative integers i < n , print i * i  "
   ]
  },
  {
   "cell_type": "code",
   "execution_count": 6,
   "metadata": {},
   "outputs": [
    {
     "name": "stdout",
     "output_type": "stream",
     "text": [
      "5\n",
      "\n",
      "0\n",
      "1\n",
      "4\n",
      "9\n",
      "16\n"
     ]
    }
   ],
   "source": [
    "if __name__ == '__main__':\n",
    "    n = int(input())\n",
    "    print(\"\")\n",
    "    if (n<=0) and (n>=20):\n",
    "        print(\"Exit\")\n",
    "    else:\n",
    "        for i in range(0,n):\n",
    "            print(i*i)\n",
    "    "
   ]
  },
  {
   "cell_type": "markdown",
   "metadata": {},
   "source": [
    "**5. Read an integer,n and print 1 .. n Without using any string methods**"
   ]
  },
  {
   "cell_type": "code",
   "execution_count": 9,
   "metadata": {},
   "outputs": [
    {
     "name": "stdout",
     "output_type": "stream",
     "text": [
      "5\n",
      "12345\n"
     ]
    }
   ],
   "source": [
    "if __name__ == '__main__':\n",
    "\n",
    "    '''\n",
    "    The syntax of print() is:\n",
    "       - print(*objects, sep=' ', end='\\n', file=sys.stdout, flush=False)\n",
    "       - print() Parameters\n",
    "          - objects --> object to the printed. * indicates that there may be more than one object\n",
    "          - sep --> objects are separated by sep. Default value: ' '\n",
    "          - end --> end is printed at last\n",
    "          - file --> must be an object with write(string) method. If omitted it, sys.stdout will be used which prints objects on the screen.\n",
    "          - flush --> If True, the stream is forcibly flushed. Default value: False\n",
    "    '''\n",
    "    n = int(input())\n",
    "    r = range(1, n + 1)\n",
    "    print (*r, sep='', end = '\\n')"
   ]
  },
  {
   "cell_type": "markdown",
   "metadata": {},
   "source": [
    "**6. Cheak leap year**\n",
    "\n",
    "An extra day is added to the calendar almost every four years as February 29, and the day is called a leap day. It corrects the calendar for the fact that our planet takes approximately 365.25 days to orbit the sun. A leap year contains a leap day.\n",
    "\n",
    "In the Gregorian calendar, three conditions are used to identify leap years:\n",
    "\n",
    "- The year can be evenly divided by 4, is a leap year, unless:<br />\n",
    "    - The year can be evenly divided by 100, it is NOT a leap year, unless:<br />\n",
    "         - The year is also evenly divisible by 400. Then it is a leap year.<br />"
   ]
  },
  {
   "cell_type": "code",
   "execution_count": 2,
   "metadata": {},
   "outputs": [
    {
     "name": "stdout",
     "output_type": "stream",
     "text": [
      "2020\n"
     ]
    },
    {
     "data": {
      "text/plain": [
       "True"
      ]
     },
     "execution_count": 2,
     "metadata": {},
     "output_type": "execute_result"
    }
   ],
   "source": [
    "def is_leap():\n",
    "    \n",
    "    year = int(input())\n",
    "    if (year % 4) == 0:\n",
    "        if (year % 100) == 0:\n",
    "            if (year % 400) == 0:\n",
    "                return True\n",
    "            else:\n",
    "                return False\n",
    "        else:\n",
    "            return True    \n",
    "    else:\n",
    "        return False\n",
    "\n",
    "is_leap()"
   ]
  },
  {
   "cell_type": "code",
   "execution_count": null,
   "metadata": {},
   "outputs": [],
   "source": []
  }
 ],
 "metadata": {
  "kernelspec": {
   "display_name": "Python 3",
   "language": "python",
   "name": "python3"
  },
  "language_info": {
   "codemirror_mode": {
    "name": "ipython",
    "version": 3
   },
   "file_extension": ".py",
   "mimetype": "text/x-python",
   "name": "python",
   "nbconvert_exporter": "python",
   "pygments_lexer": "ipython3",
   "version": "3.6.9"
  }
 },
 "nbformat": 4,
 "nbformat_minor": 4
}
