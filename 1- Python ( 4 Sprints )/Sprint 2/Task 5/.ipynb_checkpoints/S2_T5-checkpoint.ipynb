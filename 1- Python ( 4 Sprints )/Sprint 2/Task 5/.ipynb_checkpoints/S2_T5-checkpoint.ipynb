{
 "cells": [
  {
   "cell_type": "markdown",
   "metadata": {},
   "source": [
    "**1. Polar Coordinates**\n",
    "\n",
    "  - Polar coordinates are an alternative way of representing Cartesian coordinates or Complex Numbers."
   ]
  },
  {
   "cell_type": "code",
   "execution_count": 2,
   "metadata": {},
   "outputs": [
    {
     "name": "stdout",
     "output_type": "stream",
     "text": [
      "1+2j\n",
      "\n",
      "Value of r:  2.23606797749979\n",
      "Value of phi:  1.1071487177940904\n"
     ]
    }
   ],
   "source": [
    "'''\n",
    "- Polar coordinates give an alternative way to represent a complex number.\n",
    "- In polar coordinates, a complex number z is defined by the modulus r and the phase angle phi.\n",
    "  - The modulus r is the distance from z to the origin,\n",
    "  - while the phase phi is the counterclockwise angle,\n",
    "    measured in radians, from the positive x-axis to the line segment that joins the origin to z\n",
    "\n",
    "- cmath is a python built-in module that you can use for mathematical tasks for complex numbers.\n",
    "- Python Complex Numbers:-\n",
    "   two ways to create complex number:-\n",
    "   \n",
    "        - c1 = 1 + 2j\n",
    "\n",
    "        - c2 = complex(2, 4)\n",
    "____________________________________________________________________________________________________\n",
    "\n",
    "- The syntax of complex() is:\n",
    "    - complex([real[, imag]])\n",
    "    - complex() Parameters\n",
    "        In general, complex() method takes two parameters:\n",
    "           - real - real part. If real is omitted, it defaults to 0.\n",
    "           - imag - imaginary part. If imag is omitted, it defaults to 0.\n",
    "        Return Value from complex()\n",
    "           - As suggested by the name, complex() method returns a complex number.\n",
    "           - If the string passed to this method is not a valid complex number, ValueError exception is raised.\n",
    "           - Note: The string passed to complex() should be in the form real+imagj or real + imag J \n",
    "____________________________________________________________________________________________________        \n",
    "\n",
    "- The cmath.polar() method:-\n",
    "    - Converts a complex number to polar coordinates.\n",
    "    - It returns a tuple of modulus r and phase phi.\n",
    "    - In polar coordinates, a complex number is defined by modulus r and phase angle phi.     \n",
    "    - Syntax --> cmath.polar(x)\n",
    "             --> x: Required. A number to find polar coordinates of\n",
    "             --> Return Value: A tuple value, representing polar coordinates \n",
    "'''\n",
    "\n",
    "import cmath\n",
    "\n",
    "complex_num = complex(input().strip())\n",
    "\n",
    "polar_coordinates = cmath.polar(complex_num)\n",
    "\n",
    "print(\"\")\n",
    "# value of r.\n",
    "print(\"Value of r: \", polar_coordinates[0])\n",
    "# value of phi\n",
    "print(\"Value of phi: \", polar_coordinates[1])"
   ]
  },
  {
   "cell_type": "markdown",
   "metadata": {},
   "source": [
    "**2. Find Angle MBC**\n",
    "\n",
    "<img align=\"left\" src=\"img\\ABC Tri.png\" >"
   ]
  },
  {
   "cell_type": "code",
   "execution_count": 3,
   "metadata": {},
   "outputs": [
    {
     "name": "stdout",
     "output_type": "stream",
     "text": [
      "10\n",
      "10\n",
      "45°\n"
     ]
    }
   ],
   "source": [
    "'''\n",
    "- In triangle ABC:-\n",
    "    - ABC is a right triangle 90 at B\n",
    "    - M is the midpoint of AC so, AM = MC\n",
    "    - so, from that BM = MC = AM, and from that\n",
    "         angle MBC = angle ACB\n",
    "    - so, we calc angle ACB using nverse tangent atan(x)\n",
    "    - note that, we calc Ac from Pythagorean Theorem as \n",
    "       AC = math.sqrt(AB^AB, BC^BC)\n",
    "       \n",
    "____________________________________________________________________________\n",
    "\n",
    "    - The math.atan() method (arctan or tan-1) returns the arctangent\n",
    "      of a number as a value between -PI/2 and PI/2 radians.\n",
    "    - arctan x --> the angle whose tangent is x  \n",
    "    - Arctangent is also defined as an inverse tangent function of x,\n",
    "      where x is the value of the arctangent is to be calculated.\n",
    "      \n",
    "    - Syntax:-\n",
    "         --> math.atan(x)  \n",
    "         --> x: - Required.\n",
    "                - A number to find the arctangent of.\n",
    "                - If the value is not a number, it returns error a TypeError\n",
    "                \n",
    "         --> Return Value: A float value, from -PI/2 to PI/2, representing the arctangent of a number\n",
    "'''\n",
    "\n",
    "import math\n",
    "\n",
    "AB = int(input())\n",
    "BC = int(input())\n",
    "# round(number, ndigits)\n",
    "# degrees(x) --> Converts angle x from radians to degrees\n",
    "print(round(math.degrees(math.atan(AB/BC))), chr(176),sep = '')"
   ]
  },
  {
   "cell_type": "code",
   "execution_count": 1,
   "metadata": {},
   "outputs": [
    {
     "data": {
      "text/plain": [
       "3"
      ]
     },
     "execution_count": 1,
     "metadata": {},
     "output_type": "execute_result"
    }
   ],
   "source": [
    "round(2.4)"
   ]
  },
  {
   "cell_type": "markdown",
   "metadata": {},
   "source": [
    "**3. Triangle Quest 2**\n",
    "\n",
    "<img align=\"left\" src=\"img/Triangle_Quest_2.png\" >\n",
    "\n",
    "<img align=\"left\" src=\"img/Triangle_Quest_2_logic.png\" >"
   ]
  },
  {
   "cell_type": "code",
   "execution_count": 4,
   "metadata": {},
   "outputs": [
    {
     "name": "stdout",
     "output_type": "stream",
     "text": [
      "5\n",
      "1\n",
      "121\n",
      "12321\n",
      "1234321\n",
      "123454321\n"
     ]
    }
   ],
   "source": [
    "for i in range(1, int(input())+ 1):\n",
    "    print((pow(10,i)//9)**2)"
   ]
  },
  {
   "cell_type": "markdown",
   "metadata": {},
   "source": [
    "**4.Mod Divmod**"
   ]
  },
  {
   "cell_type": "code",
   "execution_count": 7,
   "metadata": {},
   "outputs": [
    {
     "name": "stdout",
     "output_type": "stream",
     "text": [
      "177\n",
      "10\n",
      "\n",
      "a // b =  17\n",
      "a % b =  7\n",
      "Divmod res =  (17, 7)\n"
     ]
    }
   ],
   "source": [
    "'''\n",
    "divmod is a built in Python method\n",
    "  - takes two arguments a and b \n",
    "  - returns a tuple containing the quotient of a/b first and then the remainder a.\n",
    "  \n",
    "  - syntax of divmod() is:-\n",
    "       divmod(x, y)\n",
    "       \n",
    "  - divmod() takes two parameters:-\n",
    "       x --> a non-complex number (numerator)\n",
    "       y --> a non-complex number (denominator)\n",
    "       \n",
    "  - divmod() returns:-\n",
    "      (q, r) - a pair of numbers (a tuple) consisting of quotient q and remainder r\n",
    "      If x and y are integers, the return value from divmod() is same as (a // b, x % y).\n",
    "      If either x or y is a float, the result is (q, x%y). Here, q is the whole part of the quotient.    \n",
    "'''\n",
    "\n",
    "a = int(input())\n",
    "b = int(input())\n",
    "\n",
    "print(\"\")\n",
    "print(\"a // b = \", a // b)\n",
    "print(\"a % b = \", a % b)\n",
    "print(\"Divmod res = \", divmod(a,b))"
   ]
  },
  {
   "cell_type": "markdown",
   "metadata": {},
   "source": [
    "**5. Power - Mod Power**"
   ]
  },
  {
   "cell_type": "code",
   "execution_count": 8,
   "metadata": {},
   "outputs": [
    {
     "name": "stdout",
     "output_type": "stream",
     "text": [
      "3\n",
      "4\n",
      "5\n",
      "\n",
      "pow(a,b) =  81\n",
      "pow(a,b,m) =  1\n"
     ]
    }
   ],
   "source": [
    "'''\n",
    " - The pow() function returns the power of a number.\n",
    " - The syntax of pow() is:-\n",
    "     pow(x, y, z)\n",
    "     \n",
    " - pow() Parameters:-\n",
    "     The pow() function takes three parameters:\n",
    "     x --> a number, the base\n",
    "     y --> a number, the exponent\n",
    "     z (optional) --> a number, used for modulus\n",
    "        pow(x, y) is equal to x**y\n",
    "        pow(x, y, z) is equal to x**y % z    \n",
    "'''\n",
    "\n",
    "a = int(input())\n",
    "b = int(input())\n",
    "m = int(input())\n",
    "\n",
    "print(\"\")\n",
    "print(\"pow(a,b) = \", pow(a,b))\n",
    "print(\"pow(a,b,m) = \", pow(a,b,m))"
   ]
  },
  {
   "cell_type": "markdown",
   "metadata": {},
   "source": [
    "**6. Integers Come In All Sizes**"
   ]
  },
  {
   "cell_type": "code",
   "execution_count": 9,
   "metadata": {},
   "outputs": [
    {
     "name": "stdout",
     "output_type": "stream",
     "text": [
      "9\n",
      "29\n",
      "7\n",
      "27\n",
      "4710194409608608369201743232\n"
     ]
    }
   ],
   "source": [
    "a = int(input())\n",
    "b = int(input())\n",
    "c = int(input())\n",
    "d = int(input())\n",
    "\n",
    "print(pow(a,b) + pow(c,d))"
   ]
  },
  {
   "cell_type": "markdown",
   "metadata": {},
   "source": [
    "**7. Triangle Quest**\n",
    "\n",
    "<img align=\"left\" src=\"img/Triangle_Quest_1.png\" >\n",
    "\n",
    "<img align=\"left\" src=\"img/Triangle_Quest_1_logic.png\" >"
   ]
  },
  {
   "cell_type": "code",
   "execution_count": 12,
   "metadata": {},
   "outputs": [
    {
     "name": "stdout",
     "output_type": "stream",
     "text": [
      "5\n",
      "\n",
      "1\n",
      "22\n",
      "333\n",
      "4444\n"
     ]
    }
   ],
   "source": [
    "n = int(input())\n",
    "print()\n",
    "for i in range(1, n):\n",
    "    print((pow(10,i)//9) * i)"
   ]
  },
  {
   "cell_type": "code",
   "execution_count": null,
   "metadata": {},
   "outputs": [],
   "source": []
  }
 ],
 "metadata": {
  "kernelspec": {
   "display_name": "Python 3",
   "language": "python",
   "name": "python3"
  },
  "language_info": {
   "codemirror_mode": {
    "name": "ipython",
    "version": 3
   },
   "file_extension": ".py",
   "mimetype": "text/x-python",
   "name": "python",
   "nbconvert_exporter": "python",
   "pygments_lexer": "ipython3",
   "version": "3.6.9"
  }
 },
 "nbformat": 4,
 "nbformat_minor": 4
}
