{
 "cells": [
  {
   "cell_type": "markdown",
   "metadata": {},
   "source": [
    "# Question 1\n",
    "Write a Python program to count the number of characters (character frequency) in a string.\n",
    "\n",
    "Examble: ('google.com') =>  {'g': 2, 'o': 3, 'l': 1, 'e': 1, '.': 1, 'c': 1, 'm': 1}\n"
   ]
  },
  {
   "cell_type": "code",
   "execution_count": 1,
   "metadata": {},
   "outputs": [
    {
     "name": "stdout",
     "output_type": "stream",
     "text": [
      "{'c': 1, 'e': 1, 'g': 2, 'm': 1, 'l': 1, 'o': 3, '.': 1}\n"
     ]
    }
   ],
   "source": [
    "def char_count(mystr):\n",
    "    dict = {}\n",
    "    for n in mystr:\n",
    "        keys = dict.keys()\n",
    "        if n in keys:\n",
    "            dict[n] += 1\n",
    "        else:\n",
    "            dict[n] = 1\n",
    "    return dict\n",
    "\n",
    "print(char_count('google.com'))"
   ]
  },
  {
   "cell_type": "markdown",
   "metadata": {},
   "source": [
    "# Question  2"
   ]
  },
  {
   "cell_type": "raw",
   "metadata": {},
   "source": [
    "Write a Python program to get a string from a given string where all occurrences of its first char have been changed to '$', except the first char itself.\n",
    "\n",
    "Examble => 'restart' => 'resta$t'\n",
    "           'google'  => 'goo$le'"
   ]
  },
  {
   "cell_type": "code",
   "execution_count": 5,
   "metadata": {},
   "outputs": [
    {
     "name": "stdout",
     "output_type": "stream",
     "text": [
      "resta$t\n",
      "goo$le\n"
     ]
    }
   ],
   "source": [
    "def change_occ_char(mystr):\n",
    "    f_char = mystr[0]\n",
    "    mystr = mystr.replace(f_char, '$')\n",
    "    new_str = f_char + mystr[1:]\n",
    "\n",
    "    return new_str\n",
    "\n",
    "print(change_occ_char('restart'))\n",
    "print(change_occ_char('google'))"
   ]
  },
  {
   "cell_type": "markdown",
   "metadata": {},
   "source": [
    "# Question 3"
   ]
  },
  {
   "cell_type": "raw",
   "metadata": {},
   "source": [
    "Write a Python program to get a single string from two given strings, separated by a space and swap the first two characters of each string.\n",
    "Examble : 'abc', 'xyz' => xyc abz"
   ]
  },
  {
   "cell_type": "code",
   "execution_count": 6,
   "metadata": {},
   "outputs": [
    {
     "name": "stdout",
     "output_type": "stream",
     "text": [
      "xyc abz\n"
     ]
    }
   ],
   "source": [
    "def swap_str(str1, str2):\n",
    "    new_str1 = str2[:2] + str1[2:]\n",
    "    new_str2 = str1[:2] + str2[2:]\n",
    "\n",
    "    return new_str1 + ' ' + new_str2\n",
    "\n",
    "print(swap_str('abc', 'xyz'))"
   ]
  },
  {
   "cell_type": "markdown",
   "metadata": {},
   "source": [
    "# Question 4"
   ]
  },
  {
   "cell_type": "raw",
   "metadata": {},
   "source": [
    "Write a Python program to add 'ing' at the end of a given string (length should be at least 3). If the given string already ends with 'ing' then add 'ly' instead. If the string length of the given string is less than 3, leave it unchanged.\n",
    "Examble => ab => ab\n",
    "        => abc => abcing \n",
    "        => string => stringly"
   ]
  },
  {
   "cell_type": "code",
   "execution_count": 8,
   "metadata": {},
   "outputs": [
    {
     "name": "stdout",
     "output_type": "stream",
     "text": [
      "ab\n",
      "abcing\n",
      "stringly\n"
     ]
    }
   ],
   "source": [
    "def add_letters(mystr):\n",
    "    # get length of string\n",
    "    str_len = len(mystr)\n",
    "\n",
    "    if str_len > 2:\n",
    "        if mystr[-3:] == 'ing':\n",
    "            mystr += 'ly'\n",
    "        else:\n",
    "            mystr += 'ing'\n",
    "\n",
    "    return mystr\n",
    "\n",
    "print(add_letters('ab'))\n",
    "print(add_letters('abc'))\n",
    "print(add_letters('string'))"
   ]
  },
  {
   "cell_type": "markdown",
   "metadata": {},
   "source": [
    "# Question 5"
   ]
  },
  {
   "cell_type": "markdown",
   "metadata": {},
   "source": [
    "Write a Python script to display the various Date Time formats.\n",
    "\n",
    "a) Current date and time\n",
    "b) Current year\n",
    "c) Month of year\n",
    "d) Week number of the year\n",
    "e) Weekday of the week\n",
    "f) Day of year\n",
    "g) Day of the month\n",
    "h) Day of week\n",
    "Solution=>\n",
    "import time\n",
    "import datetime"
   ]
  },
  {
   "cell_type": "code",
   "execution_count": 20,
   "metadata": {},
   "outputs": [
    {
     "name": "stdout",
     "output_type": "stream",
     "text": [
      "('1.Current date and time: ', datetime.datetime(2020, 8, 7, 16, 34, 13, 537689))\n",
      "('2.Current year: ', '2020')\n",
      "('3.Month of year: ', 'August')\n",
      "('4.Week number of the year: ', '31')\n",
      "('5.Weekday of the week: ', '5')\n",
      "('6.Day of year: ', '220')\n",
      "('7.Day of the month : ', '07')\n",
      "('8.Day of week: ', 'Friday')\n"
     ]
    }
   ],
   "source": [
    "import time\n",
    "import datetime\n",
    "\n",
    "print(\"1.Current date and time: \" , datetime.datetime.now())\n",
    "print(\"2.Current year: \", datetime.date.today().strftime(\"%Y\"))\n",
    "print(\"3.Month of year: \", datetime.date.today().strftime(\"%B\"))\n",
    "print(\"4.Week number of the year: \", datetime.date.today().strftime(\"%W\"))\n",
    "print(\"5.Weekday of the week: \", datetime.date.today().strftime(\"%w\"))\n",
    "print(\"6.Day of year: \", datetime.date.today().strftime(\"%j\"))\n",
    "print(\"7.Day of the month : \", datetime.date.today().strftime(\"%d\"))\n",
    "print(\"8.Day of week: \", datetime.date.today().strftime(\"%A\"))"
   ]
  },
  {
   "cell_type": "markdown",
   "metadata": {},
   "source": [
    "# Question 6"
   ]
  },
  {
   "cell_type": "markdown",
   "metadata": {},
   "source": [
    "Write a Python program to print yesterday, today, tomorrow.\n",
    "\n",
    "Yesterday :  2020-01-17\n",
    "Today :  2020-01-18\n",
    "Tomorrow :  2020-01-19\n",
    "Solution=>\n",
    "import datetime"
   ]
  },
  {
   "cell_type": "code",
   "execution_count": 22,
   "metadata": {},
   "outputs": [
    {
     "name": "stdout",
     "output_type": "stream",
     "text": [
      "('Today : ', datetime.date(2020, 8, 7))\n",
      "('Yesterday : ', datetime.date(2020, 8, 6))\n",
      "('Tomorrow : ', datetime.date(2020, 8, 8))\n"
     ]
    }
   ],
   "source": [
    "import datetime \n",
    "\n",
    "today = datetime.date.today()\n",
    "yesterday = today - datetime.timedelta(days = 1)\n",
    "tomorrow = today + datetime.timedelta(days = 1) \n",
    "\n",
    "print('Today : ',today)\n",
    "print('Yesterday : ',yesterday)\n",
    "print('Tomorrow : ',tomorrow)"
   ]
  },
  {
   "cell_type": "markdown",
   "metadata": {},
   "source": [
    "# Question 7"
   ]
  },
  {
   "cell_type": "markdown",
   "metadata": {},
   "source": [
    "\n",
    "Write a Python program to add 5 seconds with the current time.\n",
    "\n",
    "\n",
    "Current time=> 13:09:38.491219\n",
    "After 5 seconds => 13:09:43.491219"
   ]
  },
  {
   "cell_type": "code",
   "execution_count": 36,
   "metadata": {},
   "outputs": [
    {
     "name": "stdout",
     "output_type": "stream",
     "text": [
      "16:51:48.794515\n",
      "16:51:53.794515\n"
     ]
    }
   ],
   "source": [
    "import datetime\n",
    "\n",
    "time_now = datetime.datetime.now()\n",
    "time_plus_5 = time_now + datetime.timedelta(seconds = 5)\n",
    "\n",
    "print(time_now.time())\n",
    "print(time_plus_5.time())"
   ]
  },
  {
   "cell_type": "markdown",
   "metadata": {},
   "source": [
    "# Question 8"
   ]
  },
  {
   "cell_type": "code",
   "execution_count": null,
   "metadata": {},
   "outputs": [],
   "source": [
    "Write a Python program to convert Year/Month/Day to Day of Year."
   ]
  },
  {
   "cell_type": "code",
   "execution_count": 43,
   "metadata": {},
   "outputs": [
    {
     "name": "stdout",
     "output_type": "stream",
     "text": [
      "2020-08-07 16:55:58.892358\n",
      "219\n"
     ]
    }
   ],
   "source": [
    "import datetime\n",
    "\n",
    "time_now = datetime.datetime.now()\n",
    "day_of_year = (time_now - datetime.datetime(time_now.year, 1, 1)).days \n",
    "\n",
    "print(time_now)\n",
    "print(day_of_year)"
   ]
  },
  {
   "cell_type": "markdown",
   "metadata": {},
   "source": [
    "# Question 9"
   ]
  },
  {
   "cell_type": "raw",
   "metadata": {},
   "source": [
    "Write a Python program to get current time in milliseconds."
   ]
  },
  {
   "cell_type": "code",
   "execution_count": 53,
   "metadata": {},
   "outputs": [
    {
     "name": "stdout",
     "output_type": "stream",
     "text": [
      "1596812516\n",
      "1596812516474\n"
     ]
    }
   ],
   "source": [
    "import time\n",
    "\n",
    "normal_time = int(time.time())\n",
    "time_in_millisec = int(time.time() * 1000)\n",
    "\n",
    "print(normal_time)\n",
    "print(time_in_millisec)"
   ]
  },
  {
   "cell_type": "markdown",
   "metadata": {},
   "source": [
    "# Question 10"
   ]
  },
  {
   "cell_type": "raw",
   "metadata": {},
   "source": [
    "Write a Python program to get week number."
   ]
  },
  {
   "cell_type": "code",
   "execution_count": 55,
   "metadata": {},
   "outputs": [
    {
     "name": "stdout",
     "output_type": "stream",
     "text": [
      "('Week number of the year: ', '31')\n"
     ]
    }
   ],
   "source": [
    "import datetime\n",
    "\n",
    "print(\"Week number of the year: \", datetime.date.today().strftime(\"%W\"))"
   ]
  },
  {
   "cell_type": "markdown",
   "metadata": {},
   "source": [
    "# Question 11"
   ]
  },
  {
   "cell_type": "raw",
   "metadata": {},
   "source": [
    "Write a Python program that matches a string that has an 'a' followed by anything, ending in 'b'."
   ]
  },
  {
   "cell_type": "code",
   "execution_count": 63,
   "metadata": {},
   "outputs": [
    {
     "name": "stdout",
     "output_type": "stream",
     "text": [
      "Match\n",
      "No Match\n",
      "Match\n"
     ]
    }
   ],
   "source": [
    "import re\n",
    "def search_pattern(mystr):\n",
    "    # re* Matches 0 or more occurrences of preceding expression.\n",
    "    # $ Matches end of line\n",
    "    patterns = 'a.*b$'\n",
    "    if re.search(patterns,  mystr):\n",
    "        return 'Match'\n",
    "    else:\n",
    "        return 'No Match'\n",
    "    \n",
    "print(search_pattern(\"xsaahkbnbbbdb\"))\n",
    "print(search_pattern(\"aacnAmbbnjbc\"))\n",
    "print(search_pattern(\"asssnnbbkkib\"))    "
   ]
  },
  {
   "cell_type": "markdown",
   "metadata": {},
   "source": [
    "# Question 12"
   ]
  },
  {
   "cell_type": "raw",
   "metadata": {},
   "source": [
    "Write a Python program to calculate the area of a trapezoid."
   ]
  },
  {
   "cell_type": "code",
   "execution_count": 64,
   "metadata": {},
   "outputs": [
    {
     "name": "stdout",
     "output_type": "stream",
     "text": [
      "Height of trapezoid: 5\n",
      "Base one value: 4\n",
      "Base two value: 8\n",
      "('Area is:', 30.0)\n"
     ]
    }
   ],
   "source": [
    "h = float(input(\"Height of trapezoid: \"))\n",
    "a = float(input('Base one value: '))\n",
    "b = float(input('Base two value: '))\n",
    "\n",
    "area = ((a + b) / 2) * h\n",
    "print(\"Area is:\", area)"
   ]
  }
 ],
 "metadata": {
  "kernelspec": {
   "display_name": "Python 3",
   "language": "python",
   "name": "python3"
  },
  "language_info": {
   "codemirror_mode": {
    "name": "ipython",
    "version": 2
   },
   "file_extension": ".py",
   "mimetype": "text/x-python",
   "name": "python",
   "nbconvert_exporter": "python",
   "pygments_lexer": "ipython2",
   "version": "2.7.17"
  }
 },
 "nbformat": 4,
 "nbformat_minor": 2
}
