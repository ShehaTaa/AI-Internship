{
 "cells": [
  {
   "cell_type": "markdown",
   "metadata": {},
   "source": [
    "**1. Basic Probability Puzzles 1**\n",
    "\n",
    "  ###### In a single toss of 2 fair (evenly-weighted) 6-sided dice\n",
    "   - find the probability of that their sum will be at most 9. \n",
    "   - It's 30 / 36  = 0.8333333333333336 for:- \n",
    "               (1,1),(1,2),(1,3),(1,4),(1,5),(1,6),\n",
    "               (2,1),(2,2),(2,3),(2,4),(2,5),(2,6),\n",
    "               (3,1),(3,2),(3,3),(3,4),(3,5),(3,6),\n",
    "               (4,1),(4,2),(4,3),(4,4),(4,5),\n",
    "               (5,1),(5,2),(5,3),(5,4),\n",
    "               (6,1),(6,2),(6,3)"
   ]
  },
  {
   "cell_type": "code",
   "execution_count": 8,
   "metadata": {},
   "outputs": [
    {
     "name": "stdout",
     "output_type": "stream",
     "text": [
      "0.8333333333333336\n"
     ]
    }
   ],
   "source": [
    "probability = 1/6\n",
    "values = 6\n",
    "result = 0\n",
    "\n",
    "# First dice\n",
    "for i in range(1, values + 1):\n",
    "    # Second dice\n",
    "    for j in range(1, values + 1):\n",
    "        # Verify that sum will be at most 9\n",
    "        if (i + j) <= 9:\n",
    "            result += probability ** 2\n",
    "\n",
    "# Final probability found\n",
    "print (result)"
   ]
  },
  {
   "cell_type": "markdown",
   "metadata": {},
   "source": [
    "**2. Basic Probability Puzzles 2**\n",
    "\n",
    "  ###### For a single toss of 2 fair (evenly-weighted) 6-dice\n",
    "   - find the probability that the values rolled by each die will be different and their sum is 6\n",
    "   - It's 4 / 36 = 1 / 9 = 0.11111 for:-\n",
    "             (1,5),(2,4),(4,2),(5,1) "
   ]
  },
  {
   "cell_type": "code",
   "execution_count": 9,
   "metadata": {},
   "outputs": [
    {
     "name": "stdout",
     "output_type": "stream",
     "text": [
      "0.1111111111111111\n"
     ]
    }
   ],
   "source": [
    "probability = 1/6\n",
    "values = 6\n",
    "result = 0\n",
    "\n",
    "# First dice\n",
    "for i in range(1, values + 1):\n",
    "    # Second dice\n",
    "    for j in range(1, values + 1):\n",
    "        # Verify if each die will be different and their sum is 6\n",
    "        if (i != j) and (i + j) == 6:\n",
    "            result += probability ** 2\n",
    "\n",
    "# Final probability found\n",
    "print (result)"
   ]
  },
  {
   "cell_type": "markdown",
   "metadata": {},
   "source": [
    "**3. Basic Probability Puzzles 3**\n",
    "\n",
    " ###### There are 3 urns: X, Y and Z:-  \n",
    "   - Urn X contains 4 red balls and 3 black balls.\n",
    "   - Urn Y contains 5 red balls and 4 black balls.\n",
    "   - Urn Z contains 4 red balls and 4 black balls.\n",
    "   - One ball is drawn from each urn. \n",
    "   - What is the probability that the 3 balls drawn consist of 2 red balls and 1 black ball? \n",
    "   - Sol:-\n",
    "               X\t  Y\t     Z\n",
    "              red\t red\t   black\n",
    "             black\t red\t    red\n",
    "              red\tblack\t    red\n",
    "   - So, We have three different combinations"
   ]
  },
  {
   "cell_type": "code",
   "execution_count": 10,
   "metadata": {
    "scrolled": true
   },
   "outputs": [
    {
     "name": "stdout",
     "output_type": "stream",
     "text": [
      "0.40476190476190477\n"
     ]
    }
   ],
   "source": [
    "red_x = 4/7\n",
    "black_x = 3/7\n",
    "\n",
    "red_y = 5/9\n",
    "black_y = 4/9\n",
    "\n",
    "red_z = 1/2\n",
    "black_z = 1/2\n",
    "\n",
    "# We have multiplied the possibilities\n",
    "probability_1 = red_x * red_y * black_z\n",
    "probability_2 = black_x * red_y * red_z\n",
    "probability_3 = red_x * black_y * red_z\n",
    "\n",
    "print(probability_1 + probability_2 + probability_3)"
   ]
  },
  {
   "cell_type": "markdown",
   "metadata": {},
   "source": [
    "**4. Basic Probability Puzzles 4**\n",
    "\n",
    "  - Bag 1 contains 4 red balls and 5 black balls.\n",
    "  - Bag 2 contains 3 red balls and 7 black balls.\n",
    "  - One ball is drawn from the Bag 1, and 2 balls are drawn from Bag 2.\n",
    "  - Find the probability that 2 balls are black and 1 ball is red.\n",
    "  - Sol:-\n",
    "  \n",
    "            Bag1\t Bag2\t  Bag2\n",
    "            black\tblack\t red\n",
    "            black\tred\t   black\n",
    "            red  \tblack\t black"
   ]
  },
  {
   "cell_type": "code",
   "execution_count": 13,
   "metadata": {},
   "outputs": [
    {
     "name": "stdout",
     "output_type": "stream",
     "text": [
      "0.4511111111111111\n"
     ]
    }
   ],
   "source": [
    "red_b1 = 4/9\n",
    "black_b1 = 5/9\n",
    "\n",
    "red_b2 = 3/10\n",
    "black_b2 = 7/10\n",
    "\n",
    "# We have multiplied the possibilities\n",
    "probability_1 = black_b1 * black_b2 * red_b2\n",
    "probability_2 = black_b1 * red_b2 * black_b2 \n",
    "probability_3 = red_b1 * black_b2 * black_b2\n",
    "\n",
    "print (probability_1 + probability_2 + probability_3)"
   ]
  },
  {
   "cell_type": "markdown",
   "metadata": {},
   "source": [
    "**5. Standard Deviation Puzzles - 5**\n",
    "\n",
    "  - If 10 points were added to each of the 500 scores in a sample having\n",
    "    - a mean of 45 and standard deviation of 10\n",
    "    - The new value of the standard deviation for the sample would be?\n",
    "    - Sol:-\n",
    "      - if we add fixed value to scores, new mean will be 55 \n",
    "      - std will remane the same as 10 "
   ]
  },
  {
   "cell_type": "code",
   "execution_count": 37,
   "metadata": {},
   "outputs": [
    {
     "name": "stdout",
     "output_type": "stream",
     "text": [
      "10\n",
      "2\n",
      "[0, 1, 2, 3, 4, 5, 6, 7, 8, 9]\n",
      "4.5\n",
      "3.0276503540974917\n",
      "[2, 3, 4, 5, 6, 7, 8, 9, 10, 11]\n",
      "6.5\n",
      "3.0276503540974917\n"
     ]
    }
   ],
   "source": [
    "from statistics import stdev, mean\n",
    "\n",
    "List_length = int(input())\n",
    "points_added = int(input())\n",
    "\n",
    "L = []\n",
    "L_new = []\n",
    "for i in range(List_length):\n",
    "    L.append(i)\n",
    "\n",
    "L_mean = mean(L)\n",
    "L_stdev = stdev(L)       \n",
    "print(L)\n",
    "print(L_mean)\n",
    "print(L_stdev)\n",
    "\n",
    "L_new = L\n",
    "for i in range(List_length):\n",
    "    L_new[i] += points_added\n",
    "    \n",
    "\n",
    "L_new_mean = mean(L_new)\n",
    "L_new_stdev = stdev(L_new)\n",
    "print(L_new)\n",
    "print(L_new_mean)\n",
    "print(L_new_stdev)"
   ]
  },
  {
   "cell_type": "markdown",
   "metadata": {},
   "source": [
    "**6. Standard Deviation Puzzles - 6**\n",
    "\n",
    "  - If we double (multiply by 2) each of the 500 scores in a sample having\n",
    "    - a mean of 45 and standard deviation of 10\n",
    "    - The new value of the standard deviation for the sample would be ?\n",
    "    - Sol:-\n",
    "      - if we mul every value by 2 so new mean will also mul by 2\n",
    "      - new mean = 45 * 2 = 90\n",
    "      - new std will be 10 * 2 = 20 "
   ]
  },
  {
   "cell_type": "code",
   "execution_count": 38,
   "metadata": {},
   "outputs": [
    {
     "name": "stdout",
     "output_type": "stream",
     "text": [
      "10\n",
      "2\n",
      "[0, 1, 2, 3, 4, 5, 6, 7, 8, 9]\n",
      "4.5\n",
      "3.0276503540974917\n",
      "[0, 2, 4, 6, 8, 10, 12, 14, 16, 18]\n",
      "9\n",
      "6.0553007081949835\n"
     ]
    }
   ],
   "source": [
    "from statistics import stdev, mean\n",
    "\n",
    "List_length = int(input())\n",
    "points_added = int(input())\n",
    "\n",
    "L = []\n",
    "L_new = []\n",
    "for i in range(List_length):\n",
    "    L.append(i)\n",
    "\n",
    "L_mean = mean(L)\n",
    "L_stdev = stdev(L)       \n",
    "print(L)\n",
    "print(L_mean)\n",
    "print(L_stdev)\n",
    "\n",
    "L_new = L\n",
    "for i in range(List_length):\n",
    "    L_new[i] *= points_added\n",
    "    \n",
    "\n",
    "L_new_mean = mean(L_new)\n",
    "L_new_stdev = stdev(L_new)\n",
    "print(L_new)\n",
    "print(L_new_mean)\n",
    "print(L_new_stdev)"
   ]
  },
  {
   "cell_type": "code",
   "execution_count": null,
   "metadata": {},
   "outputs": [],
   "source": [
    "\n"
   ]
  },
  {
   "cell_type": "code",
   "execution_count": null,
   "metadata": {},
   "outputs": [],
   "source": []
  }
 ],
 "metadata": {
  "kernelspec": {
   "display_name": "Python 3",
   "language": "python",
   "name": "python3"
  },
  "language_info": {
   "codemirror_mode": {
    "name": "ipython",
    "version": 3
   },
   "file_extension": ".py",
   "mimetype": "text/x-python",
   "name": "python",
   "nbconvert_exporter": "python",
   "pygments_lexer": "ipython3",
   "version": "3.6.9"
  }
 },
 "nbformat": 4,
 "nbformat_minor": 4
}
