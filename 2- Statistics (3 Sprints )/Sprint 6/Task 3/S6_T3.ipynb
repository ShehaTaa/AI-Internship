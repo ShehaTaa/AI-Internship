{
 "cells": [
  {
   "cell_type": "markdown",
   "metadata": {},
   "source": [
    "### Poisson Distribution 3\n",
    "\n",
    "  - The number of calls coming per minute into a hotels reservation center is Poisson random variable with mean 3.\n",
    "  - (a) Find the probability that no calls come in a given 1 minute period.\n",
    "  - (b) Assume that the number of calls arriving in two different minutes are independent.\n",
    "    - Find the probability that at least two calls will arrive in a given two minute period."
   ]
  },
  {
   "cell_type": "code",
   "execution_count": 4,
   "metadata": {},
   "outputs": [
    {
     "name": "stdout",
     "output_type": "stream",
     "text": [
      "0.050\n",
      "0.983\n"
     ]
    }
   ],
   "source": [
    "import math,scipy.stats\n",
    "\n",
    "# pmf(k, mu, loc=0) --> Probability mass function.\n",
    "print('%.3f'%scipy.stats.poisson.pmf(0,3))\n",
    "\n",
    "# cdf(k, mu, loc=0) --> Cumulative distribution function.\n",
    "print('%.3f'%(1-scipy.stats.poisson.cdf(1, 3*2)))"
   ]
  },
  {
   "cell_type": "markdown",
   "metadata": {},
   "source": [
    "### Basic Probability Puzzles 8\n",
    "\n",
    "  - In a certain city, the probability of a resident not reading the morning newspaper is 1/2\n",
    "  - and the probability of a resident not reading the evening newspaper is 2/5.\n",
    "  - The probability they will read both newspapers is 1/5.\n",
    "  - Find the probability that a resident reads a morning or evening newspaper.\n",
    "  - Sol:-\n",
    "    - p(not reading morn) = 1/2\n",
    "    - p(reading morn) = 1/2\n",
    "\n",
    "    - p(not reading even) = 2/5\n",
    "    - p(reading even) = 3/5\n",
    "\n",
    "    - P(reading both) = 1/5\n",
    "\n",
    "    - p(reading morn or even) = p(reading morn) + p(reading even) - p(reading both)\n",
    "                              = 1/2 + 3/5 - 1/5"
   ]
  },
  {
   "cell_type": "code",
   "execution_count": 2,
   "metadata": {},
   "outputs": [
    {
     "name": "stdout",
     "output_type": "stream",
     "text": [
      "0.9000000000000001\n"
     ]
    }
   ],
   "source": [
    "p_not_reading_morn = 1/2\n",
    "p_reading_morn = 1/2\n",
    "\n",
    "p_not_reading_even = 2/5\n",
    "p_reading_even = 3/5\n",
    "\n",
    "P_reading_both = 1/5\n",
    "\n",
    "p_reading_morn_or_even = p_reading_morn + p_reading_even - P_reading_both\n",
    "\n",
    "print(p_reading_morn_or_even)"
   ]
  },
  {
   "cell_type": "markdown",
   "metadata": {},
   "source": [
    "### Poisson Distribution 5\n",
    " \n",
    "  - The number of misprints on a page of The Economic Times has a Poisson distribution with mean 1.2.\n",
    "  - Find the probability that the number of errors:-\n",
    "    - on page 10 is 2\n",
    "    - on page 1 is less than 3 \n",
    "    - on first ten pages totals 5\n",
    "    - on all forty pages adds up to at least 3."
   ]
  },
  {
   "cell_type": "code",
   "execution_count": 3,
   "metadata": {},
   "outputs": [
    {
     "name": "stdout",
     "output_type": "stream",
     "text": [
      "0.217\n",
      "0.879\n",
      "0.013\n",
      "1.000\n"
     ]
    }
   ],
   "source": [
    "import math,scipy.stats\n",
    "# pmf(k, mu, loc=0) --> Probability mass function.\n",
    "print('%.3f'%scipy.stats.poisson.pmf(2, 1.2))\n",
    "\n",
    "# cdf(k, mu, loc=0) --> Cumulative distribution function.\n",
    "print('%.3f'%scipy.stats.poisson.cdf(2, 1.2))\n",
    "\n",
    "# pmf(k, mu, loc=0) --> Probability mass function.\n",
    "print('%.3f'%scipy.stats.poisson.pmf(5, 1.2*10))\n",
    "\n",
    "# cdf(k, mu, loc=0) --> Cumulative distribution function.\n",
    "print('%.3f'%(1-scipy.stats.poisson.cdf(2, 1.2*40)))"
   ]
  },
  {
   "cell_type": "code",
   "execution_count": null,
   "metadata": {},
   "outputs": [],
   "source": []
  }
 ],
 "metadata": {
  "kernelspec": {
   "display_name": "Python 3",
   "language": "python",
   "name": "python3"
  },
  "language_info": {
   "codemirror_mode": {
    "name": "ipython",
    "version": 3
   },
   "file_extension": ".py",
   "mimetype": "text/x-python",
   "name": "python",
   "nbconvert_exporter": "python",
   "pygments_lexer": "ipython3",
   "version": "3.6.9"
  }
 },
 "nbformat": 4,
 "nbformat_minor": 4
}
