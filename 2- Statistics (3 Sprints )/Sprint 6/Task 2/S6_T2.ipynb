{
 "cells": [
  {
   "cell_type": "markdown",
   "metadata": {},
   "source": [
    "### Basic Probability Puzzles #5\n",
    "\n",
    "   - There are 10 people about to sit down around a round table.\n",
    "   - Find the probability that 2 particular people will sit next to one another.\n",
    "   - Sol:-\n",
    "     - One person will sit, leaving nine positions.\n",
    "     - Each position has two seats, one on the left side and one on the right side."
   ]
  },
  {
   "cell_type": "code",
   "execution_count": 1,
   "metadata": {},
   "outputs": [
    {
     "name": "stdout",
     "output_type": "stream",
     "text": [
      "number of ways it can happen: 10\n",
      "Total number of outcomes: 45\n",
      " probability that 2 particular people will sit next to one another:  0.2222222222222222\n"
     ]
    }
   ],
   "source": [
    "from itertools import combinations\n",
    "\n",
    "L = list(combinations([0,1,2,3,4,5,6,7,8,9], 2)) # 10C2\n",
    "total = 0\n",
    "for e in L:\n",
    "    if (e[1] - e[0] == 1) or (e[0] == 0 and e[1] == 9):\n",
    "        total += 1\n",
    "        \n",
    "print('number of ways it can happen:',total)\n",
    "print('Total number of outcomes:', len(L))\n",
    "print(' probability that 2 particular people will sit next to one another: ', total/len(L))"
   ]
  },
  {
   "cell_type": "markdown",
   "metadata": {},
   "source": [
    "### Basic Probability Puzzles #6\n",
    "\n",
    "  - Bag X contains 5 white balls and 4 black balls.\n",
    "  - Bag Y contains 7 white balls and 6 black balls.\n",
    "  - You draw 1 ball from bag X and, without observing its color, put it into bag Y.\n",
    "  - Now, if a ball is drawn from bag Y, find the probability that it is black.\n",
    "  - Sol:-\n",
    "     - P(Y = b | X = w) * P(X = w) + P(Y = b | X = b) + P(X = b)"
   ]
  },
  {
   "cell_type": "code",
   "execution_count": 2,
   "metadata": {},
   "outputs": [
    {
     "name": "stdout",
     "output_type": "stream",
     "text": [
      "0.4603174603174603\n"
     ]
    }
   ],
   "source": [
    "'''\n",
    "P(Y = b | X = w) = 6 / 14\n",
    "P(X = w)         = 5 / 9 \n",
    "P(Y = b | X = b) = 7 / 14\n",
    "P(X = b)         = 4 / 9 \n",
    "\n",
    "'''\n",
    "print((6/14 * 5/9) + (7/14 * 4/9))"
   ]
  },
  {
   "cell_type": "markdown",
   "metadata": {},
   "source": [
    "### 7. Basic Probability Puzzles 7\n",
    "\n",
    "   - A firm produces steel pipes in three plants.\n",
    "     - Plant A produces 500 units per day and has a fraction defective output of 0.005.\n",
    "     - Plant B produces 1000 units per day and has a fraction defective output of 0.008.\n",
    "     - Plant C produces 2000 units per day and has a fraction defective output of 0.010.\n",
    "   - At random, a pipe is selected from the day’s total production and it is found to be defective.\n",
    "   - What is the probability that it came from plant A?\n",
    "   - Sol:- \n",
    "     - compute total probability of each firm\n",
    "     - Then divide join probability of firm A by sum of all join probability. "
   ]
  },
  {
   "cell_type": "code",
   "execution_count": 3,
   "metadata": {},
   "outputs": [
    {
     "name": "stdout",
     "output_type": "stream",
     "text": [
      "0.08196721311475409\n"
     ]
    }
   ],
   "source": [
    "# P(A) = 1/7\n",
    "p_A = 500 / (500 + 1000 + 2000)\n",
    "p_d_A = 0.005\n",
    "\n",
    "# P(B) = 2/7\n",
    "p_B = 1000 / (500 + 1000 + 2000)\n",
    "p_d_B = 0.008\n",
    "\n",
    "# P(C) = 4/7\n",
    "p_C = 2000 / (500 + 1000 + 2000)\n",
    "p_d_C = 0.010\n",
    "\n",
    "# P(defect, A) = P(A) * P(defect_A)\n",
    "p_A_d = p_A * p_d_A\n",
    "\n",
    "# P(defect, B) = P(B) * P(defect_B)\n",
    "p_B_d = p_B * p_d_B\n",
    "\n",
    "# P(defect, C) = P(C) * P(defect_C)\n",
    "p_C_d = p_C * p_d_C\n",
    "\n",
    "# p(d | A) = [p(A | d) * p(d)] / p(A)\n",
    "# p(d | A) = p_A_d * [p_A_d + p_B_d + p_C_d]\n",
    "\n",
    "total_join = p_A_d + p_B_d + p_C_d\n",
    "\n",
    "p_final =  p_A_d / total_join\n",
    "\n",
    "print(p_final)"
   ]
  },
  {
   "cell_type": "markdown",
   "metadata": {},
   "source": [
    "### Basic Probability Puzzles #9\n",
    "\n",
    "  - A candidate is selected for interview of management trainees for 3 companies.\n",
    "    - For the first company, there are 12 candidates\n",
    "    - For the second there are 15 candidates\n",
    "    - and for the third, there are 10 candidates.\n",
    "    - Find the probability that he is selected in at least one of the companies.\n",
    "    - Assume that 1 candidate will be selected in each of the interviews, and all candidates appearing for the interview have an equal probability of getting selected.\n",
    "   \n",
    "  - Sol:-\n",
    "    - Probabilites for getting each job: 1/12, 1/15, 1/10\n",
    "    - These are the following states (0 means did not get that job and 1 means got that job)\n",
    "      - 000\n",
    "      - 001\n",
    "      - 010\n",
    "      - 011\n",
    "      - 100\n",
    "      - 101\n",
    "      - 110\n",
    "      - 111\n",
    "    - So, we calc 1 - P(not A) P(not B) P(not C)    "
   ]
  },
  {
   "cell_type": "code",
   "execution_count": 4,
   "metadata": {},
   "outputs": [
    {
     "name": "stdout",
     "output_type": "stream",
     "text": [
      "Prabability of not get that job:  0.77\n",
      "Prabability of at least get job of 1 comapny:  0.22999999999999998\n"
     ]
    }
   ],
   "source": [
    "p_not_A = 11/12\n",
    "p_not_B = 14/15\n",
    "p_not_C = 9/10\n",
    "\n",
    "p_not_hired = p_not_A * p_not_B * p_not_C\n",
    "p_hired_at_least_one = 1 - p_not_hired\n",
    "\n",
    "print(\"Prabability of not get that job: \", str(p_not_hired))\n",
    "print(\"Prabability of at least get job of 1 comapny: \", str(p_hired_at_least_one))"
   ]
  },
  {
   "cell_type": "markdown",
   "metadata": {},
   "source": [
    "### Basic Probability Puzzles #10\n",
    "\n",
    "  - Bill and Nina appear for an interview for two vacancies.\n",
    "  - The probability of Bill’s selection is 1/3 and that of Nina’s selection is 1/5.\n",
    "  - Find the probability that only one of them will be selected.\n",
    "  - Sol:- \n",
    "    - p(B) to be selected = 1/3 =, so p(~B) to be not selected = 2/3\n",
    "    - p(N) to be selected = 1/5 =, so p(~N) to be not selected = 4/5 \n",
    "    - we mul p(B) * 1-p(N) + p(N) * 1-p(B)\n",
    "    - probability that only one of them will be selected = 1/3 * 4/5 + 1/5 * 2/3 = 2/5\n"
   ]
  },
  {
   "cell_type": "code",
   "execution_count": 5,
   "metadata": {},
   "outputs": [
    {
     "name": "stdout",
     "output_type": "stream",
     "text": [
      "0.3333\n",
      "0.2\n",
      "0.39998\n"
     ]
    }
   ],
   "source": [
    "p_B = float(input())\n",
    "p_N = float(input())\n",
    "p_one_is_selected = p_B * (1.0 - p_N) + p_N * (1.0 - p_B) \n",
    "print(p_one_is_selected)"
   ]
  },
  {
   "cell_type": "markdown",
   "metadata": {},
   "source": [
    "### Correlation and Regression Lines 1\n",
    "\n",
    "   - For a particular scatter plot, the line of regression of y on x is:\n",
    "     - 3x + 4y + 8 = 0 \n",
    "   - And the line of regression of x on y is:\n",
    "     - 4x + 3y + 7 = 0\n",
    "   - Find the Pearson Product moment coefficient,r , correct to a scale of 2 decimal places.\n",
    "   - Sol:-\n",
    "     - we calc y from equations.\n",
    "     - then we call pearsonr method from scipy library to calc Pearson Product moment coefficient, r"
   ]
  },
  {
   "cell_type": "code",
   "execution_count": 20,
   "metadata": {},
   "outputs": [
    {
     "name": "stdout",
     "output_type": "stream",
     "text": [
      "-0.74\n"
     ]
    }
   ],
   "source": [
    "import random\n",
    "import scipy.stats\n",
    "\n",
    "x = []\n",
    "y = []\n",
    "for i in range(100):\n",
    "    z = random.random() \n",
    "    x.append(z)\n",
    "    y.append((-3 * z - 8) / 4.0)\n",
    "    \n",
    "for _ in range(100): \n",
    "    z = random.random()\n",
    "    x.append(z)\n",
    "    y.append((-4 * z - 7) / 3.0)\n",
    "\n",
    "# pearsonr(x, y) --> r - float Pearson’s correlation coefficient    \n",
    "a,b = scipy.stats.pearsonr(x,y)\n",
    "print('%.2f'%(a))"
   ]
  },
  {
   "cell_type": "markdown",
   "metadata": {},
   "source": [
    "### Correlation and Regression Lines 2\n",
    "\n",
    "  - There are 2 series of data involving index numbers: P for price index and S for the commodity stock.\n",
    "  - The mean and standard deviation of P are 100 and 8, respectively.\n",
    "  - The mean and standard deviation of S are 103 and 4, respectively.\n",
    "  - The  R^2 correlation coefficient between the two series is 0.4.\n",
    "  - With this data, obtain the slope of the regression line of P on S, correct to a scale of 2 decimal places.\n",
    "  - Sol:-\n",
    "    - r = cov(x,y)/sd(x)/sd(y)\n",
    "    - r^2 = R^2\n",
    "    - slope = cov(x, y) / var(x)\n",
    "    - R^2 = slope^2 * var(x)^2 / sd(x)^2 / sd(y)^2"
   ]
  },
  {
   "cell_type": "code",
   "execution_count": 7,
   "metadata": {},
   "outputs": [
    {
     "name": "stdout",
     "output_type": "stream",
     "text": [
      "1.26\n"
     ]
    }
   ],
   "source": [
    "import math\n",
    "\n",
    "# r = cov(x,y)/sd(x)/sd(y)\n",
    "# r^2 = R^2\n",
    "# slope = cov(x, y) / var(x)\n",
    "# ->\n",
    "# R^2 = slope^2 * var(x)^2 / sd(x)^2 / sd(y)^2\n",
    "\n",
    "slope = math.sqrt(0.4 / (4**4/4**2/8**2))\n",
    "\n",
    "print(round(slope, 2))"
   ]
  },
  {
   "cell_type": "markdown",
   "metadata": {},
   "source": [
    "### Correlation and Regression Lines 3\n",
    "\n",
    "  - The two regression lines of a bivariate distribution are:\n",
    "    - 4x – 5y + 33 = 0 \n",
    "    - 20x – 9y – 107 = 0\n",
    "  - Calculate the arithmetic means of x and y respectively. (Both of these are integer values.)\n",
    "  - Sol:-\n",
    "    - from eq1 we get x = 5/4 y - 33/4   --> 1\n",
    "    - from eq2 we get y = 20/9 x - 107*9 --> 2\n",
    "    - b = y_mean - slope * x_mean\n",
    "    - slope from 1 = -5/4 and b = -33/4\n",
    "    - slope from 2 = 20/9 and b = -107/9\n",
    "    - so, we got:\n",
    "      - -33/4  = x_mean - 5/4 y_mean\n",
    "      - -107/9 = y_mean - 20/9 x_mean\n",
    "      - slove the two equations\n",
    "      - **X_mean = 13 and Y_mean = 17**"
   ]
  },
  {
   "cell_type": "markdown",
   "metadata": {},
   "source": [
    "###  The Central Limit Theorem 1\n",
    "\n",
    "  - A large elevator can transport a maximum of 9800 pounds.\n",
    "  - Suppose a load of cargo containing 49 boxes must be transported via the elevator.\n",
    "  - The box weight of this type of cargo follows a distribution with:\n",
    "    - a mean of µ = 208 pounds\n",
    "    - a standard deviation of 15 pounds. \n",
    "  - Based on this information, what is the probability that all  boxes can be safely loaded onto the freight elevator and transported?"
   ]
  },
  {
   "cell_type": "code",
   "execution_count": 8,
   "metadata": {},
   "outputs": [
    {
     "name": "stdout",
     "output_type": "stream",
     "text": [
      "0.0098\n"
     ]
    }
   ],
   "source": [
    "import math\n",
    "\n",
    "# a method that return probability according to CLT:-\n",
    "def clf(x, mean, sd):\n",
    "    # math.erf(x) --> A float value, representing the error function of a number\n",
    "    # z = x - mean / σ * √n\n",
    "    return 0.5 * (1 + math.erf((x - mean) / (sd * (2 ** 0.5))))\n",
    "\n",
    "max_pounds = 9800\n",
    "n = 49\n",
    "mean_pop = 205\n",
    "sd_pop = 15\n",
    "\n",
    "mean_sample = mean_pop * n\n",
    "sd_sample = math.sqrt(n) * sd_pop\n",
    "\n",
    "print(round(clf(max_pounds, mean_sample, sd_sample), 4))"
   ]
  },
  {
   "cell_type": "markdown",
   "metadata": {},
   "source": [
    "### The Central Limit Theorem 2\n",
    "\n",
    "  - The number of tickets purchased by each student for the University X vs.\n",
    "  - University Y football game follows a distribution that has:\n",
    "    - a mean of µ = 2.4\n",
    "    - a standard deviation of σ = 2.0.\n",
    "  - Suppose that a few hours before the game starts, there are 100 eager students standing in line to purchase tickets.\n",
    "  - If there are only 250 tickets left, what is the probability that all 100 students will be able to purchase the tickets they want?"
   ]
  },
  {
   "cell_type": "code",
   "execution_count": 9,
   "metadata": {},
   "outputs": [
    {
     "name": "stdout",
     "output_type": "stream",
     "text": [
      "0.6915\n"
     ]
    }
   ],
   "source": [
    "import math\n",
    "\n",
    "def clf(x, mean, sd):\n",
    "    return 0.5 * (1 + math.erf((x - mean) / (sd * (2 ** 0.5))))\n",
    "\n",
    "\n",
    "nb_tickets = 250\n",
    "nb_students = 100\n",
    "mean = 2.4\n",
    "std = 2.0\n",
    "\n",
    "mean_sample = mean * nb_students\n",
    "sd_sample = std * math.sqrt(nb_students)\n",
    "\n",
    "print(round(clf(nb_tickets, mean_sample, sd_sample), 4))"
   ]
  },
  {
   "cell_type": "markdown",
   "metadata": {},
   "source": [
    "### The Central Limit Theorem 3\n",
    "  \n",
    "  - You have a sample of 100 values from a population with mean µ = 500 and with standard deviation σ = 80.\n",
    "  - What is the probability that the sample mean will be in the interval (490, 510)?\n"
   ]
  },
  {
   "cell_type": "code",
   "execution_count": 10,
   "metadata": {},
   "outputs": [
    {
     "name": "stdout",
     "output_type": "stream",
     "text": [
      "0.7887\n"
     ]
    }
   ],
   "source": [
    "import math\n",
    "\n",
    "def clf(x, mean, sd):\n",
    "    return 0.5 * (1 + math.erf((x - mean) / (sd * (2 ** 0.5))))\n",
    "\n",
    "mean = 500\n",
    "sd = 80\n",
    "sample_size = 100\n",
    "\n",
    "mean_sample = mean * sample_size\n",
    "sd_sample = math.sqrt(sample_size) * sd\n",
    "\n",
    "p1 = clf(510*sample_size, mean_sample, sd_sample)\n",
    "p2 = clf(490*sample_size, mean_sample, sd_sample)\n",
    "\n",
    "\n",
    "print(round(p1 - p2, 4))"
   ]
  },
  {
   "cell_type": "markdown",
   "metadata": {},
   "source": [
    "### The Central Limit Theorem 4\n",
    "\n",
    "  - You have a sample of 100 values from a population with\n",
    "    - Mean µ = 500 \n",
    "    - standard deviation σ = 80. \n",
    "  - Compute the interval that covers the middle 95% of the distribution of the sample mean.\n",
    "    - i.e, compute  and  such that P( < x < ) = 0.95\n",
    "\n"
   ]
  },
  {
   "cell_type": "code",
   "execution_count": 21,
   "metadata": {},
   "outputs": [
    {
     "name": "stdout",
     "output_type": "stream",
     "text": [
      "484.32\n",
      "515.68"
     ]
    }
   ],
   "source": [
    "import math\n",
    "\n",
    "n_sample = 100\n",
    "sample_mu  = 500\n",
    "sigma = 80\n",
    "sample_sigma = sigma / math.sqrt(n_sample)\n",
    "# 95% means 1.96 in z score\n",
    "zed_score = 1.96\n",
    "\n",
    "interval1 = sample_mu - zed_score * sample_sigma\n",
    "interval2 = sample_mu + zed_score * sample_sigma\n",
    "print(interval1,interval2, sep='\\n', end='')"
   ]
  },
  {
   "cell_type": "markdown",
   "metadata": {},
   "source": [
    "### The Central Limit Theorem 5\n",
    "\n",
    "  - The amount of regular unleaded gas purchased every week at a particular gas station follows the normal distribution with:-\n",
    "    - a mean of 50000 gallons\n",
    "    - a standard deviation of 10000 gallons.\n",
    "  - The starting supply of gasoline is 74000 gallons, and there is a scheduled weekly delivery of 47000 gallons.   \n",
    "  - Compute the probability that, after 11 weeks, the supply of gasoline will be below 20000 gallons.\n",
    "    - Sol:-\n",
    "      - Given values:-\n",
    "        - mu = 50000\n",
    "        - sigma = 10000\n",
    "        - weeks = 11\n",
    "        - start = 74000\n",
    "        - weekly = 47000\n",
    "      - we compute:-\n",
    "        - end = start + weekly * weeks\n",
    "        - lower_bound = end - 20000\n",
    "        - sum_mu = weeks * mu\n",
    "        - sum_sigma = weeks ** 0.5 * sigma   \n",
    "      - define a function that calculate z score and return the probability according to CLT formula. \n",
    "        - 0.5 * (1 + math.erf((x - mean) / (sd * (2 ** 0.5)))) \n"
   ]
  },
  {
   "cell_type": "code",
   "execution_count": 9,
   "metadata": {},
   "outputs": [
    {
     "name": "stdout",
     "output_type": "stream",
     "text": [
      "0.2633\n"
     ]
    }
   ],
   "source": [
    "import math\n",
    "\n",
    "def cdf(x, mu, sigma):\n",
    "    return 0.5 + math.erf((x-mu)/(sigma*2**0.5))*0.5\n",
    "\n",
    "mu = 50000\n",
    "sigma = 10000\n",
    "\n",
    "weeks = 11\n",
    "start = 74000\n",
    "weekly = 47000\n",
    "end = start + weekly * weeks\n",
    "lower_bound = end - 20000\n",
    "\n",
    "sum_mu = weeks*mu\n",
    "sum_sigma = weeks**0.5*sigma\n",
    "\n",
    "print('{:0.4f}'.format(1-cdf(lower_bound, sum_mu, sum_sigma)))"
   ]
  },
  {
   "cell_type": "markdown",
   "metadata": {},
   "source": [
    "### The Central Limit Theorem 6\n",
    "\n",
    "  - The amount of regular unleaded gas purchased every week at a particular gas station follows the normal distribution with:-\n",
    "    - a mean of 50000 gallons\n",
    "    - a standard deviation of 10000 gallons.\n",
    "  - The starting supply of gasoline is 74000 gallons, and there is a scheduled weekly delivery of 47000 gallons. \n",
    "  - How many gallons should the weekly delivery be so that after 11 weeks the probability that the supply is below 20000 gallons is only 0.5%?\n",
    "  - Sol:-\n",
    "    - Given values:- \n",
    "      - mu = 50000\n",
    "      - sigma = 10000\n",
    "      - weeks = 11\n",
    "      - start = 74000\n",
    "      - weekly = 47000\n",
    "      - end = start + weekly * weeks\n",
    "      - lower_bound = end - 20000\n",
    "      - sum_mu = weeks * mu\n",
    "      - sum_sigma = weeks ** 0.5 * sigma\n",
    "    - Let A be the unknown schedule delivery  \n",
    "    - The total gasoline purchased must be more than 74000 + 11 A - 20000 \n",
    "    - P(T > 74000 + 11 A - 20000) = 0.005 \n",
    "    - z-value that corresponds to this probability is 2.575\n",
    "    - 2.575 = start + weeks * A - 20000 - sum_mu / sum_sigma \n",
    "    - A = 52854.8"
   ]
  },
  {
   "cell_type": "markdown",
   "metadata": {},
   "source": [
    "### Poisson Distribution 1\n",
    "\n",
    "   - A random variable X follows Poisson distribution with mean 2.5.\n",
    "   - Find the probability with which the random variable X is equal to 5; i.e. P(X = 5)."
   ]
  },
  {
   "cell_type": "code",
   "execution_count": 22,
   "metadata": {},
   "outputs": [
    {
     "name": "stdout",
     "output_type": "stream",
     "text": [
      "0.0668\n"
     ]
    }
   ],
   "source": [
    "from scipy.stats import poisson\n",
    "\n",
    "x = 5\n",
    "mu = 2.5\n",
    "\n",
    "# poisson(*args, **kwds) \n",
    "# pmf(k, mu, loc=0) --> Probability mass function.\n",
    "prob = poisson.pmf(x, mu)\n",
    "\n",
    "print(round(prob, 4))"
   ]
  },
  {
   "cell_type": "markdown",
   "metadata": {},
   "source": [
    "### Poisson Distribution 2\n",
    "\n",
    "  - The manager of a industrial plant is planning to buy a machine of either type A or type B.\n",
    "  - For each day’s operation the number of repairs X, that the machine A needs is a poisson random variable with mean 0.88.\n",
    "  - The daily cost of operating A is\n",
    "    - CA = 160 + 40 ∗ X^2\n",
    "  - For machine B, let Y be the poisson random variable indicating the number of daily repairs, which has mean 1.55.\n",
    "  - The daily cost of operating B is\n",
    "    - CB = 128 + 40 ∗ Y^2 \n",
    "  - Assume that the repairs take negligible time and each night the machine are cleaned so that they operate like new machine at the start of each day.\n",
    "  - What is the expected daily cost of each machine ?\n",
    "\n"
   ]
  },
  {
   "cell_type": "code",
   "execution_count": 23,
   "metadata": {},
   "outputs": [
    {
     "name": "stdout",
     "output_type": "stream",
     "text": [
      "226.176\n",
      "286.1\n"
     ]
    }
   ],
   "source": [
    "mean_A = 0.88\n",
    "mean_B = 1.55\n",
    "\n",
    "\n",
    "C_A = 160 + 40*(mean_A + mean_A**2)\n",
    "C_B = 128 + 40*(mean_B + mean_B**2)\n",
    "\n",
    "print(round(C_A, 3))\n",
    "print(round(C_B, 3))"
   ]
  },
  {
   "cell_type": "markdown",
   "metadata": {},
   "source": [
    "### Standard Deviation Puzzles 1\n",
    "\n",
    "  - Find the largest possible value of N where the standard deviation of the values in the set {1,2,3,N} is equal to the standard deviation of the values in the set {1,2,3}.\n",
    "  - Output the value of N, correct to two decimal places."
   ]
  },
  {
   "cell_type": "code",
   "execution_count": 2,
   "metadata": {},
   "outputs": [
    {
     "name": "stdout",
     "output_type": "stream",
     "text": [
      "sd1:  0.816496580927726\n",
      "\n",
      "sd2:  0.82915619758885\n",
      "sd2:  0.8269031079878706\n",
      "sd2:  0.8246665992993776\n",
      "sd2:  0.822446806790567\n",
      "sd2:  0.8202438661763953\n",
      "sd2:  0.8180579135978091\n",
      "sd2:  0.8158890855992623\n",
      "2.94\n"
     ]
    }
   ],
   "source": [
    "import math\n",
    "\n",
    "def compute_sdev(X):\n",
    "    mean = sum(X) / len(X)\n",
    "    X = [(x - mean) ** 2 for x in X]\n",
    "    return math.sqrt(sum(X) / len(X))\n",
    "    # retrun statstics.stdev(X)\n",
    "    return sd\n",
    "\n",
    "loop = True\n",
    "N = 3\n",
    "sd1 = compute_sdev([1, 2, 3])\n",
    "print(\"sd1: \", sd1)\n",
    "print(\"\")\n",
    "while loop:\n",
    "    sd2 = compute_sdev([1, 2, 3]+[N])\n",
    "    print(\"sd2: \", sd2)\n",
    "    if round(sd1, 3) == round(sd2, 3):\n",
    "        print(round(N, 2))\n",
    "        loop = False\n",
    "    N -= 0.01"
   ]
  },
  {
   "cell_type": "code",
   "execution_count": 7,
   "metadata": {},
   "outputs": [
    {
     "name": "stdout",
     "output_type": "stream",
     "text": [
      "0.816496580927726\n",
      "0.8158890855992621\n"
     ]
    }
   ],
   "source": [
    "import statistics\n",
    "\n",
    "def compute_sdev(X):\n",
    "    mean = sum(X) / len(X)\n",
    "    X = [(x - mean) ** 2 for x in X]\n",
    "    return math.sqrt(sum(X) / len(X))\n",
    "\n",
    "x = [1,2,3]\n",
    "y = [1,2,3,2.94]\n",
    "\n",
    "x1 = compute_sdev(x)\n",
    "y1 = compute_sdev(y)\n",
    "print(x1)\n",
    "print(y1)"
   ]
  },
  {
   "cell_type": "markdown",
   "metadata": {},
   "source": [
    "### Standard Deviation Puzzles 2\n",
    "\n",
    "  - The heights of a group of children are measured.\n",
    "  - The resulting data has a mean of 0.675 meters, and a standard deviation of 0.065 meters.\n",
    "  - One particular child is 90.25 centimeters tall.\n",
    "  - Compute z, the number of standard deviations away from the mean that the particular child is."
   ]
  },
  {
   "cell_type": "code",
   "execution_count": 8,
   "metadata": {},
   "outputs": [
    {
     "name": "stdout",
     "output_type": "stream",
     "text": [
      "3.50\n"
     ]
    }
   ],
   "source": [
    "mu = 0.675\n",
    "sd = 0.065\n",
    "x = 0.9025\n",
    "\n",
    "z = (x - mu)/sd\n",
    "\n",
    "print('%.2f' % (z))"
   ]
  },
  {
   "cell_type": "markdown",
   "metadata": {},
   "source": [
    "### Standard Deviation Puzzles 3\n",
    "\n",
    "  - Let X and Y be two independent \"normal\" random deviates with\n",
    "    - mean of 10, 3\n",
    "    - and standard deviation of  20 , 4.\n",
    "  - Let  be the value of the standard deviation of the distribution obtained by\n",
    "    - adding the two distributions (X + Y).\n",
    "  - In the answer box, enter the value of σ, correct to one place of decimal."
   ]
  },
  {
   "cell_type": "code",
   "execution_count": 10,
   "metadata": {},
   "outputs": [
    {
     "name": "stdout",
     "output_type": "stream",
     "text": [
      "5.0\n"
     ]
    }
   ],
   "source": [
    "import math\n",
    "\n",
    "mu1 = 10\n",
    "mu2 = 20\n",
    "sd1 = 3\n",
    "sd2 = 4\n",
    "\n",
    "print('%.1f' % math.sqrt(sd1**2 + sd2**2))"
   ]
  },
  {
   "cell_type": "markdown",
   "metadata": {},
   "source": [
    "### Standard Deviation Puzzles 4\n",
    "\n",
    "  - Let X and Y be two independent \"normal\" random deviates with:-\n",
    "    - mean of 10 and 3\n",
    "    - standard deviation of 20 and 4\n",
    "  - Let σ be the value of the standard deviation of the distribution obtained by computing the difference of the two distributions (X - Y).\n",
    "  - find the value of σ, correct to one place of decimal."
   ]
  },
  {
   "cell_type": "code",
   "execution_count": 12,
   "metadata": {},
   "outputs": [
    {
     "name": "stdout",
     "output_type": "stream",
     "text": [
      "5.0\n"
     ]
    }
   ],
   "source": [
    "import math\n",
    "\n",
    "mu1 = 10\n",
    "mu2 = 20\n",
    "sd1 = 3\n",
    "sd2 = 4\n",
    "\n",
    "print('%.1f' % math.sqrt(sd1**2 + sd2**2))"
   ]
  }
 ],
 "metadata": {
  "kernelspec": {
   "display_name": "Python 3",
   "language": "python",
   "name": "python3"
  },
  "language_info": {
   "codemirror_mode": {
    "name": "ipython",
    "version": 3
   },
   "file_extension": ".py",
   "mimetype": "text/x-python",
   "name": "python",
   "nbconvert_exporter": "python",
   "pygments_lexer": "ipython3",
   "version": "3.6.9"
  }
 },
 "nbformat": 4,
 "nbformat_minor": 4
}
