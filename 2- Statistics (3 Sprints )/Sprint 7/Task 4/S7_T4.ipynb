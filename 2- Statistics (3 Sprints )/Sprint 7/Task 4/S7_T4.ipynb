{
 "cells": [
  {
   "cell_type": "markdown",
   "metadata": {},
   "source": [
    "### 1. Mean, Median, and Mode\n",
    "\n",
    "  - Given an array, X, of N integers\n",
    "    - calculate and print the respective mean, median, and mode on separate lines.\n",
    "    - If your array contains more than one modal value, choose the numerically smallest one."
   ]
  },
  {
   "cell_type": "code",
   "execution_count": 2,
   "metadata": {},
   "outputs": [
    {
     "name": "stdout",
     "output_type": "stream",
     "text": [
      "10\n",
      "64630 11735 14216 99233 14470 4978 73429 38120 51135 67060\n",
      "\n",
      "Mean:  43900.6\n",
      "Median:  44627.5\n",
      "Mode:  4978\n"
     ]
    }
   ],
   "source": [
    "list_length = int(input())\n",
    "mylist = list(map(int, input().split()))\n",
    "print(\"\")\n",
    "\n",
    "# calc mean    \n",
    "mean = float(sum(mylist)) / list_length\n",
    "print(\"Mean: \",mean)\n",
    "\n",
    "#calc median\n",
    "import numpy as np\n",
    "median = np.median(mylist)\n",
    "print(\"Median: \", median)\n",
    "\n",
    "#calc mode\n",
    "from scipy import stats\n",
    "mode = int(stats.mode(mylist)[0])\n",
    "print(\"Mode: \",mode)"
   ]
  },
  {
   "cell_type": "markdown",
   "metadata": {},
   "source": [
    "### 2. Weighted Mean\n",
    "\n",
    "  - Given an array, X, of N integers and an array, W, representing the respective weights of X's elements.\n",
    "  - calculate and print the weighted mean of X's elements.\n",
    "  - Your answer should be rounded to a scale of 1 decimal place "
   ]
  },
  {
   "cell_type": "code",
   "execution_count": 3,
   "metadata": {},
   "outputs": [
    {
     "name": "stdout",
     "output_type": "stream",
     "text": [
      "5\n",
      "10 40 30 50 20\n",
      "1 2 3 4 5\n",
      "32.0\n"
     ]
    }
   ],
   "source": [
    "length = int(input())\n",
    "X_list = list(map(int, input().split()))\n",
    "W_list = list(map(int, input().split()))\n",
    "\n",
    "sum_item = 0\n",
    "for i in range(0, length):\n",
    "    sum_item = sum_item + (W_list[i] * X_list[i])\n",
    "\n",
    "W_mean = round((sum_item / sum(W_list)),1)    \n",
    "print(W_mean)"
   ]
  },
  {
   "cell_type": "markdown",
   "metadata": {},
   "source": [
    "### 3. Quartiles\n",
    "\n",
    "  - Given an array, X, of N integers\n",
    "    - calculate the respective first quartile (Q1), second quartile (Q2), and third quartile (Q3).\n",
    "    - It is guaranteed that Q1, Q2, and Q3 are integers."
   ]
  },
  {
   "cell_type": "code",
   "execution_count": 5,
   "metadata": {},
   "outputs": [
    {
     "name": "stdout",
     "output_type": "stream",
     "text": [
      "9\n",
      "3 7 8 5 12 14 21 13 18\n",
      "Q1:  6\n",
      "Q2:  12\n",
      "Q3:  16\n"
     ]
    }
   ],
   "source": [
    "# func to return the median value\n",
    "def median(size, values):\n",
    "    if size % 2 == 0:\n",
    "        median = (values[int(size/2)-1] + values[int(size/2)]) / 2\n",
    "    else:\n",
    "        median = values[int(size/2)]\n",
    "    return int(median)\n",
    "\n",
    "# Set the data\n",
    "length = int(input())\n",
    "list_num = sorted(list(map(int, input().split())))\n",
    "\n",
    "# Verify that the total data is even or odd\n",
    "if length % 2 == 0:\n",
    "    data_low = list_num[0:int(length/2)]\n",
    "    data_high = list_num[int(length/2):length]\n",
    "else:\n",
    "    data_low = list_num[0:int(length/2)]\n",
    "    data_high = list_num[int(length/2)+1:length]\n",
    "\n",
    "# Get the final result and print on the screen\n",
    "print(\"Q1: \", median(len(data_low), data_low))\n",
    "print(\"Q2: \", median(length, list_num))\n",
    "print(\"Q3: \", median(len(data_high), data_high))\n"
   ]
  },
  {
   "cell_type": "markdown",
   "metadata": {},
   "source": [
    "### 4. Standard Deviation\n",
    "\n",
    "  - Given an array, X, of N integers\n",
    "    - Calculate and print the standard deviation.\n",
    "    - Your answer should be in decimal form, rounded to a scale of 1 decimal place"
   ]
  },
  {
   "cell_type": "code",
   "execution_count": 7,
   "metadata": {},
   "outputs": [
    {
     "name": "stdout",
     "output_type": "stream",
     "text": [
      "5\n",
      "10 40 30 50 20\n",
      "STD:  14.1\n"
     ]
    }
   ],
   "source": [
    "import math\n",
    "\n",
    "# func to return mean\n",
    "def mean(data):\n",
    "    return sum(data) / len(data)\n",
    "\n",
    "# func to return std\n",
    "def stddev(data, length):\n",
    "    sum = 0\n",
    "    for i in range(length):\n",
    "        sum = sum + (data[i] - mean(data)) ** 2\n",
    "    return math.sqrt(sum / length)\n",
    "\n",
    "# Set data\n",
    "length = int(input())\n",
    "list_num = list(map(int, input().split()))\n",
    "\n",
    "# Get standard deviation\n",
    "print(\"STD: \", round(stddev(list_num, length), 1))"
   ]
  },
  {
   "cell_type": "markdown",
   "metadata": {},
   "source": [
    "### 5. Interquartile Range\n",
    " \n",
    "  - The interquartile range of an array is the difference between its first (Q1) and third (Q2) quartiles\n",
    "     - Given an array, X, of N integers and an array, F, representing the respective frequencies of X's elements\n",
    "     - Construct a data set, S, where each xi occurs at frequency fi.\n",
    "     - Then calculate and print S's interquartile range, rounded to a scale of 1 decimal place."
   ]
  },
  {
   "cell_type": "code",
   "execution_count": 10,
   "metadata": {},
   "outputs": [
    {
     "name": "stdout",
     "output_type": "stream",
     "text": [
      "6\n",
      "6 12 8 10 20 16\n",
      "5 4 3 2 1 5\n",
      "Interquartile Range Q3-Q1:  9.0\n"
     ]
    }
   ],
   "source": [
    "# func to calc median\n",
    "def median(size, values):\n",
    "    if size % 2 == 0:\n",
    "        median = (values[int(size/2)-1] + values[int(size/2)]) / 2\n",
    "    else:\n",
    "        median = float(values[int(size/2)])\n",
    "    return median\n",
    "\n",
    "# Set the data\n",
    "size = int(input())\n",
    "elements = list(map(int, input().split()))\n",
    "frequencies = list(map(int, input().split()))\n",
    "\n",
    "new_data = []\n",
    "for i in range(len(elements)):\n",
    "    for j in range(frequencies[i]):\n",
    "        new_data.append(elements[i])\n",
    "new_data = sorted(new_data)\n",
    "\n",
    "# Verify that the total data is even or odd\n",
    "length = int(len(new_data))\n",
    "if length % 2 == 0:\n",
    "    data_low = new_data[0:int(length / 2)]\n",
    "    data_high = new_data[int(length / 2):length]\n",
    "else:\n",
    "    data_low = new_data[0:int(length / 2)]\n",
    "    data_high = new_data[int(length / 2) + 1:length]\n",
    "\n",
    "# Get the final result and print on the screen\n",
    "low = median(len(data_low), data_low)\n",
    "high = median(len(data_high), data_high)\n",
    "print(\"Interquartile Range Q3-Q1: \", high - low)"
   ]
  },
  {
   "cell_type": "markdown",
   "metadata": {},
   "source": [
    "### 6. Basic Probability\n",
    "\n",
    "  - In a single toss of 2 fair (evenly-weighted) six-sided dice.\n",
    "    - find the probability that their sum will be at most 9.\n",
    "    - Sol:-\n",
    "      - It's 30 / 36  = 0.8333333333333336 for:- \n",
    "                (1,1),(1,2),(1,3),(1,4),(1,5),(1,6),\n",
    "                (2,1),(2,2),(2,3),(2,4),(2,5),(2,6),\n",
    "                (3,1),(3,2),(3,3),(3,4),(3,5),(3,6),\n",
    "                (4,1),(4,2),(4,3),(4,4),(4,5),\n",
    "                (5,1),(5,2),(5,3),(5,4),\n",
    "                (6,1),(6,2),(6,3)"
   ]
  },
  {
   "cell_type": "code",
   "execution_count": 12,
   "metadata": {},
   "outputs": [
    {
     "name": "stdout",
     "output_type": "stream",
     "text": [
      "0.8333333333333336\n"
     ]
    }
   ],
   "source": [
    "probability = 1/6\n",
    "values = 6\n",
    "result = 0\n",
    "\n",
    "# First dice\n",
    "for i in range(1, values + 1):\n",
    "    # Second dice\n",
    "    for j in range(1, values + 1):\n",
    "        # Verify that sum will be at most 9\n",
    "        if (i + j) <= 9:\n",
    "            result += probability ** 2\n",
    "\n",
    "# Final probability found\n",
    "print (result)"
   ]
  },
  {
   "cell_type": "markdown",
   "metadata": {},
   "source": [
    "### 7. More Dice\n",
    "\n",
    "  - In a single toss of 2 fair (evenly-weighted) six-sided dice\n",
    "    - find the probability that the values rolled by each die will be different and the two dice have a sum of 9.\n",
    "    - Sol:-\n",
    "      - It's 4 / 36  = 0.1111111111111111 for:- \n",
    "                (1,5),(2,4),(4,2),(5,1)\n",
    "                \n",
    "                \n",
    "                \n",
    "             "
   ]
  },
  {
   "cell_type": "code",
   "execution_count": 16,
   "metadata": {},
   "outputs": [
    {
     "name": "stdout",
     "output_type": "stream",
     "text": [
      "0.1111111111111111\n"
     ]
    }
   ],
   "source": [
    "probability = 1/6\n",
    "values = 6\n",
    "result = 0\n",
    "\n",
    "# First dice\n",
    "for i in range(1, values + 1):\n",
    "    # Second dice\n",
    "    for j in range(1, values + 1):\n",
    "        # Verify that sum will be at most 9\n",
    "        if (i != j) and (i + j == 9):\n",
    "            result += probability ** 2\n",
    "\n",
    "# Final probability found\n",
    "print (result)"
   ]
  },
  {
   "cell_type": "markdown",
   "metadata": {},
   "source": [
    "### 8. Compound Event Probability\n",
    "  \n",
    "   ###### There are 3 urns: X, Y and Z:-  \n",
    "   - Urn X contains 4 red balls and 3 black balls.\n",
    "   - Urn Y contains 5 red balls and 4 black balls.\n",
    "   - Urn Z contains 4 red balls and 4 black balls.\n",
    "   - One ball is drawn from each urn. \n",
    "   - What is the probability that the 3 balls drawn consist of 2 red balls and 1 black ball? \n",
    "   - Sol:-\n",
    "               X\t  Y\t     Z\n",
    "              red\t red\t   black\n",
    "             black\t red\t    red\n",
    "              red\tblack\t    red\n",
    "   - So, We have three different combinations"
   ]
  },
  {
   "cell_type": "code",
   "execution_count": 18,
   "metadata": {},
   "outputs": [
    {
     "name": "stdout",
     "output_type": "stream",
     "text": [
      "0.40476190476190477\n"
     ]
    }
   ],
   "source": [
    "x = {\"Red\":4/7, \"Black\":3/7}\n",
    "y = {\"Red\":5/9, \"Black\":4/9}\n",
    "z = {\"Red\":4/8, \"Black\":4/8}\n",
    "\n",
    "# We have multiplied the possibilities\n",
    "first_possibility = x[\"Red\"] * y[\"Red\"] * z[\"Black\"]\n",
    "second_possibility = x[\"Red\"] * y[\"Black\"] * z[\"Red\"]\n",
    "third_possibility = x[\"Black\"] * y[\"Red\"] * z[\"Red\"]\n",
    "\n",
    "print(first_possibility + second_possibility + third_possibility)"
   ]
  },
  {
   "cell_type": "markdown",
   "metadata": {},
   "source": [
    "### 9. Conditional Probability\n",
    "\n",
    "  - Suppose a family has 2 children, one of which is a boy.\n",
    "  - What is the probability that both children are boys?\n",
    "  - Sol:-\n",
    "    - Their are three different possibilities\n",
    "      - First children is boy and second is boy\n",
    "      - First children is boy and second is girl\n",
    "      - First children is girl and second is girl\n",
    "      - probability of both children are boys will be 1/3 "
   ]
  },
  {
   "cell_type": "markdown",
   "metadata": {},
   "source": [
    "### 10. Cards of the Same Suit\n",
    "\n",
    "  - You draw 2 cards from a standard 52-card deck without replacing them.\n",
    "  - What is the probability that both cards are of the same suit?\n",
    "  - Sol:-\n",
    "    1. Initially we have 52 cards, 13 * 4 (4 suites).\n",
    "       - There are 13 ways to select a color card out of 52.\n",
    "    2. Then again if we pick one more card, there are 12 remaining of the same color\n",
    "       - out of total 51 remainig cards.\n",
    "    3. No. of ways to select 2 cards = (1) * (2) = (13/52) * (12/51) = 3/51.\n",
    "    4. This is for 1 color, as there are 4 colors\n",
    "       - total = (4 * 3)/51 = 12/51."
   ]
  },
  {
   "cell_type": "code",
   "execution_count": 2,
   "metadata": {},
   "outputs": [
    {
     "name": "stdout",
     "output_type": "stream",
     "text": [
      "0.23758\n"
     ]
    }
   ],
   "source": [
    "import random\n",
    "\n",
    "# the pair (x,y) refer to the value and suit of the card\n",
    "cards = [(x,y) for x in range(13) for y in range(4)]\n",
    "same, total = 0, 100000\n",
    "\n",
    "for i in range(total):\n",
    "    s = random.sample(cards,2) # sample without replacement\n",
    "    card_1_suit = s[0][1]\n",
    "    card_2_suit = s[1][1]\n",
    "\n",
    "    if card_1_suit == card_2_suit:\n",
    "        same += 1\n",
    "\n",
    "print(str(float(same) / total))"
   ]
  },
  {
   "cell_type": "markdown",
   "metadata": {},
   "source": [
    "### 11. Drawing Marbles\n",
    "\n",
    "  - A bag contains 3 red marbles and 4 blue marbles.\n",
    "  - Then, 2 marbles are drawn from the bag, at random, without replacement.\n",
    "  - If the first marble drawn is red, what is the probability that the second marble is blue?\n",
    "  - Sol:-\n",
    "    - After drawing the first red marble, we are left with 2 red marbles and 4 blue marbles\n",
    "    - So the probability of drawing a second blue marble is: 4 / 6 = 2/3 = 0.666"
   ]
  },
  {
   "cell_type": "code",
   "execution_count": 8,
   "metadata": {},
   "outputs": [
    {
     "name": "stdout",
     "output_type": "stream",
     "text": [
      "0.6666666666666666\n"
     ]
    }
   ],
   "source": [
    "# full bag list: 3 red and 4 blue\n",
    "full_bag = [\"red\", \"red\", \"red\", \"blue\", \"blue\", \"blue\", \"blue\"]\n",
    "bagLength = 7\n",
    "\n",
    "# The first marble drawn is red. So we have the following: 2 red and 4 blue\n",
    "bag_after_first_marble = [\"red\", \"red\", \"blue\", \"blue\", \"blue\", \"blue\"]\n",
    "bagLength = bagLength - 1\n",
    "countBlue = 4\n",
    "\n",
    "# We want a blue marble so...\n",
    "print(countBlue / bagLength) "
   ]
  },
  {
   "cell_type": "markdown",
   "metadata": {},
   "source": [
    "### 12. Binomial Distribution I\n",
    "\n",
    "  - The ratio of boys to girls for babies born in Russia is 1.09 : 1.\n",
    "  - If there is 1 child born per birth.\n",
    "  - what proportion of Russian families with exactly 6 children will have at least 3 boys?"
   ]
  },
  {
   "cell_type": "code",
   "execution_count": 9,
   "metadata": {},
   "outputs": [
    {
     "name": "stdout",
     "output_type": "stream",
     "text": [
      "1.09 1\n",
      "0.696\n"
     ]
    }
   ],
   "source": [
    "def factorial(n):\n",
    "    if n == 1 or n == 0:\n",
    "        return 1\n",
    "    if n > 1:\n",
    "        return factorial(n - 1) * n\n",
    "\n",
    "    \n",
    "def binomial(x, n, p):\n",
    "    f = factorial(n) / (factorial(n - x) * factorial(x))\n",
    "    return (f * p**x * (1.0 - p)**(n-x))\n",
    "\n",
    "# Read data\n",
    "values = list(map(float, input().split()))\n",
    "p = values[0] / (values[0] + values[1])\n",
    "n = 6\n",
    "\n",
    "# Get binomial result\n",
    "result = binomial(3, n, p) + binomial(4, n, p) + binomial(5, n, p) + binomial(6, n, p)\n",
    "print(round(result, 3))\n"
   ]
  },
  {
   "cell_type": "markdown",
   "metadata": {},
   "source": [
    "### 13. Binomial Distribution II\n",
    "\n",
    "  - A manufacturer of metal pistons finds that, on average, 12% of the pistons they manufacture are rejected because they are incorrectly sized.\n",
    "  - What is the probability that a batch of 10% pistons will contain:\n",
    "    - No more than 2 rejects?\n",
    "    - At least 2 rejects?"
   ]
  },
  {
   "cell_type": "code",
   "execution_count": 12,
   "metadata": {},
   "outputs": [
    {
     "name": "stdout",
     "output_type": "stream",
     "text": [
      "12 10\n",
      "0.891\n",
      "0.342\n"
     ]
    }
   ],
   "source": [
    "from math import factorial\n",
    "\n",
    "# read data\n",
    "r, p = map(float, input().split())\n",
    "\n",
    "def comb(n, r):\n",
    "    return factorial(n) / (factorial(r) * factorial(n - r))\n",
    "\n",
    "print(round(sum([comb(p, i) * (r / 100)**i * ((100 - r) / 100)**(p - i)  for i in range(0, 3)]), 3))\n",
    "print(round(sum([comb(p, i) * (r / 100)**i * ((100 - r) / 100)**(p - i)  for i in range(2, 11)]), 3))"
   ]
  },
  {
   "cell_type": "markdown",
   "metadata": {},
   "source": [
    "### 14.  Geometric Distribution I\n",
    "\n",
    "  - The probability that a machine produces a defective product is 1/3.\n",
    "  - What is the probability that the 1st defect is found during the 5st inspection?"
   ]
  },
  {
   "cell_type": "code",
   "execution_count": 16,
   "metadata": {},
   "outputs": [
    {
     "name": "stdout",
     "output_type": "stream",
     "text": [
      "1 3 \n",
      "5\n",
      "0.066\n"
     ]
    }
   ],
   "source": [
    "# Read data\n",
    "probability = list(map(int, input().split()))\n",
    "p = probability[0] / probability[1]\n",
    "q = 1 - p\n",
    "inspection = int(input())\n",
    "\n",
    "# Get Geometric Distribution\n",
    "result = q ** (inspection - 1) * p\n",
    "print(round(result, 3))"
   ]
  },
  {
   "cell_type": "markdown",
   "metadata": {},
   "source": [
    "### 15. Geometric Distribution II\n",
    "\n",
    "  - The probability that a machine produces a defective product is 1/3.\n",
    "  - What is the probability that the 1st defect is found during the first 5 inspections?"
   ]
  },
  {
   "cell_type": "code",
   "execution_count": 17,
   "metadata": {},
   "outputs": [
    {
     "name": "stdout",
     "output_type": "stream",
     "text": [
      "1 3 \n",
      "5\n",
      "0.868\n"
     ]
    }
   ],
   "source": [
    "# Read data\n",
    "probability = list(map(int, input().split()))\n",
    "p = probability[0] / probability[1]\n",
    "q = 1 - p\n",
    "n = int(input())\n",
    "\n",
    "# Get Geometric Distribution\n",
    "result = 0\n",
    "for i in range(n + 1):\n",
    "    if i > 0:\n",
    "        result = result + (q ** (i - 1) * p)\n",
    "\n",
    "print(round(result, 3))"
   ]
  },
  {
   "cell_type": "markdown",
   "metadata": {},
   "source": [
    "### 16. Poisson Distribution I\n",
    "\n",
    "  - A random variable, X, follows Poisson distribution with mean of 2.5.\n",
    "  - Find the probability with which the random variable X is equal to 5."
   ]
  },
  {
   "cell_type": "code",
   "execution_count": 19,
   "metadata": {},
   "outputs": [
    {
     "name": "stdout",
     "output_type": "stream",
     "text": [
      "2.5\n",
      "5\n",
      "0.067\n"
     ]
    }
   ],
   "source": [
    "def factorial(n):\n",
    "    if n == 1 or n == 0:\n",
    "        return 1\n",
    "    if n > 1:\n",
    "        return factorial(n - 1) * n\n",
    "\n",
    "# Read data\n",
    "mean = float(input())\n",
    "k = float(input())\n",
    "e = 2.71828\n",
    "\n",
    "result = ((mean ** k) * (e ** -mean)) /  factorial(k)\n",
    "print(round(result, 3))"
   ]
  },
  {
   "cell_type": "markdown",
   "metadata": {},
   "source": [
    "### 17. Poisson Distribution II\n",
    "  \n",
    "  - <img src=\"Images/Poisson Distribution II.jpg\">"
   ]
  },
  {
   "cell_type": "code",
   "execution_count": 20,
   "metadata": {},
   "outputs": [
    {
     "name": "stdout",
     "output_type": "stream",
     "text": [
      "0.88 1.55\n",
      "226.176\n",
      "286.1\n"
     ]
    }
   ],
   "source": [
    "lambdas = list(map(float, input().split()))\n",
    "lambda_a = lambdas[0]\n",
    "lambda_b = lambdas[1]\n",
    "\n",
    "# Gets the result and show on the screen\n",
    "print (round(160 + 40 * (lambda_a + lambda_a ** 2), 3))\n",
    "print (round(128 + 40 * (lambda_b + lambda_b ** 2), 3))"
   ]
  },
  {
   "cell_type": "markdown",
   "metadata": {},
   "source": [
    "### 18. Normal Distribution I\n",
    "\n",
    "  - In a certain plant, the time taken to assemble a car is a random variable, X,\n",
    "    - having a normal distribution with a mean of 20 hours and a standard deviation of 2 hours.\n",
    "    - What is the probability that a car can be assembled at this plant in:\n",
    "      - Less than 19.5 hours?\n",
    "      - Between 20 and 22 hours?"
   ]
  },
  {
   "cell_type": "code",
   "execution_count": 23,
   "metadata": {},
   "outputs": [
    {
     "name": "stdout",
     "output_type": "stream",
     "text": [
      "20 2\n",
      "19.5\n",
      "20 22\n",
      "0.401\n",
      "0.341\n"
     ]
    }
   ],
   "source": [
    "import math\n",
    "\n",
    "def cumulative(mean, std, value):\n",
    "    return 0.5 * (1 + math.erf((value - mean) / (std * (2 ** 0.5))))\n",
    "\n",
    "# Read data\n",
    "initial_values = list(map(float, input().split()))\n",
    "mean = initial_values[0]\n",
    "std = initial_values[1]\n",
    "less_period = float(input())\n",
    "between_period = list(map(float, input().split()))\n",
    "\n",
    "print (round(cumulative(mean, std, less_period),3))\n",
    "print (round(cumulative(mean, std, between_period[1]) - cumulative(mean, std, between_period[0]), 3))"
   ]
  },
  {
   "cell_type": "markdown",
   "metadata": {},
   "source": [
    "### 19. Normal Distribution II\n",
    "\n",
    "  - The final grades for a Physics exam taken by a large group of students have\n",
    "    - a mean of μ = 70 and a standard deviation of σ = 10.\n",
    "    - If we can approximate the distribution of these grades by a normal distribution, what percentage of the students:\n",
    "      - Scored higher than 80 (i.e., have a grade > 80)?\n",
    "      - Passed the test (i.e., have a grade >= 60)?\n",
    "      - Failed the test (i.e., have a grade < 60)?"
   ]
  },
  {
   "cell_type": "code",
   "execution_count": 24,
   "metadata": {},
   "outputs": [
    {
     "name": "stdout",
     "output_type": "stream",
     "text": [
      "70 10\n",
      "80\n",
      "60\n",
      "15.87\n",
      "84.13\n",
      "15.87\n"
     ]
    }
   ],
   "source": [
    "import math\n",
    "\n",
    "def cumulative(mean, std, value):\n",
    "    return 0.5 * (1 + math.erf((value - mean) / (std * (2 ** 0.5))))\n",
    "\n",
    "# Read data\n",
    "initial_values = list(map(float, input().split()))\n",
    "mean = initial_values[0]\n",
    "std = initial_values[1]\n",
    "val_first_question = float(input())\n",
    "val_sec_third_question = float(input())\n",
    "\n",
    "print (round(100 - (cumulative(mean, std, val_first_question) * 100), 2))\n",
    "print (round(100 - (cumulative(mean, std, val_sec_third_question) * 100), 2))\n",
    "print (round(cumulative(mean, std, val_sec_third_question) * 100, 2))"
   ]
  },
  {
   "cell_type": "markdown",
   "metadata": {},
   "source": [
    "### 20.  The Central Limit Theorem I\n",
    "\n",
    "   - A large elevator can transport a maximum of 9800 pounds.\n",
    "   - Suppose a load of cargo containing 49 boxes must be transported via the elevator.\n",
    "   - The box weight of this type of cargo follows a distribution with a mean of μ = 205 pounds and a standard deviation of σ = 15 pounds.\n",
    "   - Based on this information, what is the probability that all 49 boxes can be safely loaded into the freight elevator and transported?"
   ]
  },
  {
   "cell_type": "code",
   "execution_count": 1,
   "metadata": {},
   "outputs": [
    {
     "name": "stdout",
     "output_type": "stream",
     "text": [
      "9800\n",
      "49\n",
      "205\n",
      "15\n",
      "0.0098\n"
     ]
    }
   ],
   "source": [
    "import math\n",
    "\n",
    "# a method that return probability according to CLT:-\n",
    "def clf(x, mean, sd):\n",
    "    # math.erf(x) --> A float value, representing the error function of a number\n",
    "    # z = x - mean / σ * √n\n",
    "    return 0.5 * (1 + math.erf((x - mean) / (sd * (2 ** 0.5))))\n",
    "\n",
    "max_pounds = 9800\n",
    "n = 49\n",
    "mean_pop = 205\n",
    "sd_pop = 15\n",
    "\n",
    "mean_sample = mean_pop * n\n",
    "sd_sample = math.sqrt(n) * sd_pop\n",
    "\n",
    "print(round(clf(max_pounds, mean_sample, sd_sample), 4))"
   ]
  },
  {
   "cell_type": "markdown",
   "metadata": {},
   "source": [
    "### 21. The Central Limit Theorem II\n",
    "\n",
    "  - The number of tickets purchased by each student for the University X vs.\n",
    "  - University Y football game follows a distribution that has:\n",
    "    - a mean of µ = 2.4\n",
    "    - a standard deviation of σ = 2.0.\n",
    "  - Suppose that a few hours before the game starts, there are 100 eager students standing in line to purchase tickets.\n",
    "  - If there are only 250 tickets left, what is the probability that all 100 students will be able to purchase the tickets they want?\n",
    "    "
   ]
  },
  {
   "cell_type": "code",
   "execution_count": 2,
   "metadata": {},
   "outputs": [
    {
     "name": "stdout",
     "output_type": "stream",
     "text": [
      "0.6915\n"
     ]
    }
   ],
   "source": [
    "import math\n",
    "\n",
    "def clf(x, mean, sd):\n",
    "    return 0.5 * (1 + math.erf((x - mean) / (sd * (2 ** 0.5))))\n",
    "\n",
    "\n",
    "nb_tickets = 250\n",
    "nb_students = 100\n",
    "mean = 2.4\n",
    "std = 2.0\n",
    "\n",
    "mean_sample = mean * nb_students\n",
    "sd_sample = std * math.sqrt(nb_students)\n",
    "\n",
    "print(round(clf(nb_tickets, mean_sample, sd_sample), 4))"
   ]
  },
  {
   "cell_type": "markdown",
   "metadata": {},
   "source": [
    "### 22. The Central Limit Theorem III\n",
    "\n",
    "  - You have a sample of 100 values from a population with mean  µ = 500 and with standard deviation σ = 80.   \n",
    "  - Compute the interval that covers the middle 95% of the distribution of the sample mean; in other words, compute A and B such that P(A < x < B) = 0.95. Use the value of z = 1.96.\n",
    "  - Notethat z is the z-score."
   ]
  },
  {
   "cell_type": "code",
   "execution_count": 3,
   "metadata": {},
   "outputs": [
    {
     "name": "stdout",
     "output_type": "stream",
     "text": [
      "100\n",
      "500\n",
      "80\n",
      "0.95\n",
      "1.96\n",
      "484.32\n",
      "515.68\n"
     ]
    }
   ],
   "source": [
    "import math\n",
    "\n",
    "# Set data\n",
    "n = float(input())\n",
    "mean = float(input())\n",
    "std = float(input())\n",
    "percent_ci = float(input())\n",
    "value_ci = float(input())\n",
    "\n",
    "# Formula CI\n",
    "ci = value_ci * (std / math.sqrt(n))\n",
    "\n",
    "# Gets the result and show on the screen\n",
    "print(round(mean - ci, 2))\n",
    "print(round(mean + ci, 2))"
   ]
  },
  {
   "cell_type": "markdown",
   "metadata": {},
   "source": [
    "### 23. Pearson Correlation Coefficient I\n",
    "\n",
    "  - Given two n-element data sets, X and Y \n",
    "  - calculate the value of the Pearson correlation coefficient."
   ]
  },
  {
   "cell_type": "code",
   "execution_count": 4,
   "metadata": {},
   "outputs": [
    {
     "name": "stdout",
     "output_type": "stream",
     "text": [
      "10\n",
      "10 9.8 8 7.8 7.7 7 6 5 4 2 \n",
      "200 44 32 24 22 17 15 12 8 4\n",
      "0.612\n"
     ]
    }
   ],
   "source": [
    "import statistics as st\n",
    "\n",
    "# method to compute Pearson correlation coefficient\n",
    "def correlation_coefficient(n, dt_x, dt_y):\n",
    "    mean_x = st.mean(dt_x)\n",
    "    mean_y = st.mean(dt_y)\n",
    "    std_x = st.pstdev(dt_x)\n",
    "    std_y = st.pstdev(dt_y)\n",
    "    c = 0\n",
    "    for i in range(n):\n",
    "        c = c + (dt_x[i] - mean_x) * (dt_y[i] - mean_y)\n",
    "    return c / (n * std_x * std_y)\n",
    "\n",
    "# Set data\n",
    "n = int(float(input()))\n",
    "data_set_x = list(map(float, input().split()))\n",
    "data_set_y = list(map(float, input().split()))\n",
    "\n",
    "print (round(correlation_coefficient(n, data_set_x, data_set_y), 3))"
   ]
  },
  {
   "cell_type": "markdown",
   "metadata": {},
   "source": [
    "### 24. Spearman's Rank Correlation Coefficient\n",
    "\n",
    "   - Given two n-element data sets, X and Y.\n",
    "   - calculate the value of Spearman's rank correlation coefficient."
   ]
  },
  {
   "cell_type": "code",
   "execution_count": 5,
   "metadata": {},
   "outputs": [
    {
     "name": "stdout",
     "output_type": "stream",
     "text": [
      "10\n",
      "10 9.8 8 7.8 7.7 1.7 6 5 1.4 2 \n",
      "200 44 32 24 22 17 15 12 8 4\n",
      "0.903\n"
     ]
    }
   ],
   "source": [
    "# get the rank\n",
    "def rank(dt):\n",
    "    rank = {}\n",
    "    sort = sorted(dt)\n",
    "    for i in range(len(dt)):\n",
    "        for j in range(len(sort)):\n",
    "            if dt[i] == sort[j]:\n",
    "                rank[dt[i]] = j + 1\n",
    "    return rank\n",
    "\n",
    "def spearman(x, y, rx, ry, n):\n",
    "    diff_rank = 0\n",
    "    for i in range(n):\n",
    "        if rx[x[i]] != ry[y[i]]:\n",
    "            diff_rank = diff_rank + ((rx[x[i]] - ry[y[i]]) ** 2)\n",
    "    return (6 * diff_rank) / (n ** 3 - n)\n",
    "\n",
    "# Set data\n",
    "n = int(float(input()))\n",
    "data_set_x = list(map(float, input().split()))\n",
    "data_set_y = list(map(float, input().split()))\n",
    "\n",
    "# Get rank\n",
    "rank_x = rank(data_set_x)\n",
    "rank_y = rank(data_set_y)\n",
    "\n",
    "# Gets the result and show on the screen\n",
    "s = spearman(data_set_x, data_set_y, rank_x, rank_y, n)\n",
    "print(round(1 - s, 3))"
   ]
  },
  {
   "cell_type": "markdown",
   "metadata": {},
   "source": [
    "### 25. Least Square Regression Line\n",
    "\n",
    "  - A group of five students enrolls in Statistics immediately after taking a Math aptitude test.\n",
    "  - Each student's Math aptitude test score, x, and Statistics course grade, y.\n",
    "    - can be expressed as the following list of (x,y) points:\n",
    "      1. (95,85)\n",
    "      2. (85,95)\n",
    "      3. (80,70)\n",
    "      4. (70,65)\n",
    "      5. (60,70)\n",
    "  - If a student scored an 80 on the Math aptitude test.\n",
    "  - what grade would we expect them to achieve in Statistics?\n",
    "  - Determine the equation of the best-fit line using the least squares method, then compute and print the value of y when x = 80."
   ]
  },
  {
   "cell_type": "code",
   "execution_count": 6,
   "metadata": {},
   "outputs": [
    {
     "name": "stdout",
     "output_type": "stream",
     "text": [
      "78.288\n"
     ]
    }
   ],
   "source": [
    "import statistics as st\n",
    "\n",
    "# Set data\n",
    "n = 5\n",
    "x = [95, 85, 80, 70, 60]\n",
    "y = [85, 95, 70, 65, 70]\n",
    "mean_x = st.mean(x)\n",
    "mean_y = st.mean(y)\n",
    "x_squared = sum([x[i] ** 2 for i in range(5)])\n",
    "xy = sum([x[i]*y[i] for i in range(5)])\n",
    "\n",
    "# Set the B and A\n",
    "b = (n * xy - sum(x) * sum(y)) / (n * x_squared - (sum(x) ** 2))\n",
    "a = mean_y - b * mean_x\n",
    "\n",
    "print (round(a + 80 * b, 3))"
   ]
  },
  {
   "cell_type": "markdown",
   "metadata": {},
   "source": [
    "### 26. Pearson Correlation Coefficient II\n",
    "\n",
    "  - The regression line of y on x is 3x + 4y + 8 = 0\n",
    "  - and the regression line of x on y is 4x + 3y +7 = 0\n",
    "  - What is the value of the Pearson correlation coefficient?\n",
    "  - Sol:-\n",
    "    - **Regression X**:\n",
    "        - 3x + 4y + 8 = 0\n",
    "        - -4y = 3x + 8\n",
    "        - -y = 3x/4 + 8/4\n",
    "        - -y = 3x/4 + 4 (reverse signal)\n",
    "        -  y = -3x/4 - 4\n",
    "        -  bx = -3/4\n",
    "    - **regression Y**:\n",
    "        -  4x + 3y + 7 = 0\n",
    "        - -4y = 3y + 7\n",
    "        - -x = 3x/4 + 7/4 (reverse signal)\n",
    "        -  y =  -3x/4 - 7/4\n",
    "        - by = -3/4\n",
    "    - r² = bx * by\n",
    "    - r² = -3/4 * -3/4\n",
    "    - r² = 9/16\n",
    "    - r +/- 3/4\n",
    "    - if bx = by then\n",
    "    - **r = -3/4**"
   ]
  },
  {
   "cell_type": "markdown",
   "metadata": {},
   "source": [
    "### 27. Multiple Linear Regression   \n",
    "\n",
    "  - you have a simple equation:\n",
    "    - Y = a + b1.f1 + b1.f2 + ... + bm.fm \n",
    "  - for m + 1 real constants (a, f1, f2, ... , fm).\n",
    "     - We can say that the value of Y depends on m features. \n",
    "  - you studies this equation for n different feature sets (f1, f2, f3, ..., fm) and records each respective value of Y.\n",
    "  - If you have q new feature sets, find the value of Y for each of the sets?\n",
    "  - Sol:-\n",
    "    - using sklearn linear_model\n",
    "    - we formulate liear regression between x and y using LinearRegression() method\n",
    "    - Then fit the model to x and y list\n",
    "    - Then compute the intercept and coefficient."
   ]
  },
  {
   "cell_type": "code",
   "execution_count": 7,
   "metadata": {},
   "outputs": [
    {
     "name": "stdout",
     "output_type": "stream",
     "text": [
      "2 7\n",
      "0.18 0.89 109.85\n",
      "1.0 0.26 155.72\n",
      "0.92 0.11 137.66\n",
      "0.07 0.37 76.17\n",
      "0.85 0.16 139.75\n",
      "0.99 0.41 162.6\n",
      "0.87 0.47 151.77\n",
      "4\n",
      "0.49 0.18\n",
      "0.57 0.83\n",
      "0.56 0.64\n",
      "0.76 0.18\n",
      "105.21\n",
      "142.67\n",
      "132.94\n",
      "129.7\n"
     ]
    }
   ],
   "source": [
    "from sklearn import linear_model\n",
    "\n",
    "# Set data\n",
    "m, n = map(int, input().split())\n",
    "X, Y = [], []\n",
    "\n",
    "# Get the parameters X and Y for discovery the variables a and b\n",
    "for i in range(n):\n",
    "    x = [0]\n",
    "    elements = list(map(float, input().split()))\n",
    "    for j in range(len(elements)):\n",
    "        if j < m:\n",
    "            x.append(elements[j])\n",
    "        else:\n",
    "            Y.append(elements[j])\n",
    "    X.append(x)\n",
    "\n",
    "# model LinearRegression\n",
    "model_linear = linear_model.LinearRegression()\n",
    "model_linear.fit(X, Y)\n",
    "a = model_linear.intercept_\n",
    "b = model_linear.coef_\n",
    "\n",
    "# Get the parameters X for discovery the Y\n",
    "q = int(input())\n",
    "new_X = []\n",
    "for i in range(q):\n",
    "    x = [0]\n",
    "    elements = list(map(float, input().split()))\n",
    "    for j in range(len(elements)):\n",
    "        x.append(elements[j])\n",
    "    new_X.append(x)\n",
    "\n",
    "result = model_linear.predict(new_X)\n",
    "for i in range(len(result)):\n",
    "    print(round(result[i],2))\n"
   ]
  },
  {
   "cell_type": "code",
   "execution_count": null,
   "metadata": {},
   "outputs": [],
   "source": []
  }
 ],
 "metadata": {
  "kernelspec": {
   "display_name": "Python 3",
   "language": "python",
   "name": "python3"
  },
  "language_info": {
   "codemirror_mode": {
    "name": "ipython",
    "version": 3
   },
   "file_extension": ".py",
   "mimetype": "text/x-python",
   "name": "python",
   "nbconvert_exporter": "python",
   "pygments_lexer": "ipython3",
   "version": "3.6.9"
  }
 },
 "nbformat": 4,
 "nbformat_minor": 4
}
